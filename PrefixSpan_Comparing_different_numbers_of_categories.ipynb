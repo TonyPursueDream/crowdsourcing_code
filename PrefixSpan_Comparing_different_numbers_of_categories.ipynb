{
 "cells": [
  {
   "cell_type": "code",
   "execution_count": 1,
   "id": "e0147c6d",
   "metadata": {},
   "outputs": [],
   "source": [
    "import pandas as pd\n",
    "import numpy as np\n",
    "import matplotlib.pyplot as plt\n",
    "import plotly.express as px\n",
    "import seaborn as sns\n",
    "from itertools import product\n",
    "from collections import defaultdict\n",
    "\n",
    "from IPython.display import display\n",
    "import time"
   ]
  },
  {
   "cell_type": "code",
   "execution_count": 315,
   "id": "c86e3aa8",
   "metadata": {},
   "outputs": [],
   "source": [
    "def finding_days_users_less_than_2hrs_records_groupto(df):\n",
    "    all_users_days_df = df.copy()\n",
    "    all_users_days_df['date'] = all_users_days_df.apply(lambda x : x.cleaned_UTC_time.date(), axis=1)\n",
    "    all_users_unique_days_df = all_users_days_df.groupby('user_id')['date'].nunique().reset_index(name='counts')\n",
    "    all_users_unique_days_df = all_users_unique_days_df.sort_values(by=['counts'])\n",
    "    return all_users_unique_days_df"
   ]
  },
  {
   "cell_type": "markdown",
   "id": "0e08de5e",
   "metadata": {},
   "source": [
    "## PrefixSpan experiments for the 10 categories"
   ]
  },
  {
   "cell_type": "code",
   "execution_count": 316,
   "id": "77d031ba",
   "metadata": {},
   "outputs": [],
   "source": [
    "new_nyc_df = pd.read_csv('cleaned_NYC_records_original_updated_duration.csv')\n",
    "new_nyc_df['cleaned_UTC_time'] = pd.to_datetime(new_nyc_df[\"UTC_time\"])\n",
    "less_equal_2hours_df = new_nyc_df[(new_nyc_df.duration <= 2) & (new_nyc_df.duration != -1)]\n",
    "\n",
    "months = [4, 5, 6]\n",
    "less_than_2hrs_3months_df = less_equal_2hours_df.copy()\n",
    "less_than_2hrs_3months_df['month'] = less_than_2hrs_3months_df['cleaned_UTC_time'].dt.month\n",
    "less_than_2hrs_3months_df = less_than_2hrs_3months_df[less_than_2hrs_3months_df['month'].isin(months)]"
   ]
  },
  {
   "cell_type": "code",
   "execution_count": 317,
   "id": "c3bfc72e",
   "metadata": {},
   "outputs": [],
   "source": [
    "user_days_df = finding_days_users_less_than_2hrs_records_groupto(less_than_2hrs_3months_df)\n",
    "frequent_users_df = user_days_df[user_days_df['counts'] >= 50]"
   ]
  },
  {
   "cell_type": "code",
   "execution_count": 318,
   "id": "e3c7e4c5",
   "metadata": {},
   "outputs": [],
   "source": [
    "user_set_df = less_than_2hrs_3months_df[less_than_2hrs_3months_df.user_id.isin(frequent_users_df.user_id)]"
   ]
  },
  {
   "cell_type": "code",
   "execution_count": 320,
   "id": "41f17f89",
   "metadata": {},
   "outputs": [
    {
     "data": {
      "text/html": [
       "<div>\n",
       "<style scoped>\n",
       "    .dataframe tbody tr th:only-of-type {\n",
       "        vertical-align: middle;\n",
       "    }\n",
       "\n",
       "    .dataframe tbody tr th {\n",
       "        vertical-align: top;\n",
       "    }\n",
       "\n",
       "    .dataframe thead th {\n",
       "        text-align: right;\n",
       "    }\n",
       "</style>\n",
       "<table border=\"1\" class=\"dataframe\">\n",
       "  <thead>\n",
       "    <tr style=\"text-align: right;\">\n",
       "      <th></th>\n",
       "      <th>user_id</th>\n",
       "      <th>counts</th>\n",
       "    </tr>\n",
       "  </thead>\n",
       "  <tbody>\n",
       "    <tr>\n",
       "      <th>count</th>\n",
       "      <td>34.000000</td>\n",
       "      <td>34.000000</td>\n",
       "    </tr>\n",
       "    <tr>\n",
       "      <th>mean</th>\n",
       "      <td>494.352941</td>\n",
       "      <td>274.500000</td>\n",
       "    </tr>\n",
       "    <tr>\n",
       "      <th>std</th>\n",
       "      <td>273.990697</td>\n",
       "      <td>145.559579</td>\n",
       "    </tr>\n",
       "    <tr>\n",
       "      <th>min</th>\n",
       "      <td>84.000000</td>\n",
       "      <td>74.000000</td>\n",
       "    </tr>\n",
       "    <tr>\n",
       "      <th>25%</th>\n",
       "      <td>284.000000</td>\n",
       "      <td>158.750000</td>\n",
       "    </tr>\n",
       "    <tr>\n",
       "      <th>50%</th>\n",
       "      <td>441.500000</td>\n",
       "      <td>240.500000</td>\n",
       "    </tr>\n",
       "    <tr>\n",
       "      <th>75%</th>\n",
       "      <td>701.750000</td>\n",
       "      <td>344.000000</td>\n",
       "    </tr>\n",
       "    <tr>\n",
       "      <th>max</th>\n",
       "      <td>990.000000</td>\n",
       "      <td>629.000000</td>\n",
       "    </tr>\n",
       "  </tbody>\n",
       "</table>\n",
       "</div>"
      ],
      "text/plain": [
       "          user_id      counts\n",
       "count   34.000000   34.000000\n",
       "mean   494.352941  274.500000\n",
       "std    273.990697  145.559579\n",
       "min     84.000000   74.000000\n",
       "25%    284.000000  158.750000\n",
       "50%    441.500000  240.500000\n",
       "75%    701.750000  344.000000\n",
       "max    990.000000  629.000000"
      ]
     },
     "execution_count": 320,
     "metadata": {},
     "output_type": "execute_result"
    }
   ],
   "source": [
    "user_set_df_count = user_set_df.groupby(['user_id']).size().reset_index(name='counts')\n",
    "user_set_df_count.describe()"
   ]
  },
  {
   "cell_type": "code",
   "execution_count": 85,
   "id": "62da43b4",
   "metadata": {},
   "outputs": [
    {
     "name": "stderr",
     "output_type": "stream",
     "text": [
      "<ipython-input-85-dc382168d01a>:34: SettingWithCopyWarning: \n",
      "A value is trying to be set on a copy of a slice from a DataFrame.\n",
      "Try using .loc[row_indexer,col_indexer] = value instead\n",
      "\n",
      "See the caveats in the documentation: https://pandas.pydata.org/pandas-docs/stable/user_guide/indexing.html#returning-a-view-versus-a-copy\n",
      "  user_set_df['general_venue_category_tag'] = user_set_df.apply(generate_general_categories_tags, axis=1)\n"
     ]
    }
   ],
   "source": [
    "user_set_df = less_than_2hrs_3months_df[less_than_2hrs_3months_df.user_id.isin(frequent_users_df.user_id)]\n",
    "\n",
    "# Eateries - E\n",
    "# Others - O\n",
    "# Outdoors - Out\n",
    "# Education - Edu\n",
    "# Shops - Sh\n",
    "# Arts - A\n",
    "# Services - Ser\n",
    "# Religious Places - R\n",
    "# Entertainment - Ent\n",
    "# Exhibitions - Ex\n",
    "# Fitness - F\n",
    "\n",
    "\n",
    "\n",
    "general_categories_tags_dict = {\n",
    "        'Eateries': 'E', \n",
    "        'Others': 'O',\n",
    "        'Outdoor': 'Out',\n",
    "        'Education': 'Edu',\n",
    "        'Shops': 'Sh',\n",
    "        'Arts': 'A',\n",
    "        'Services': 'Ser',\n",
    "        'Religious Places': 'R',\n",
    "        'Entertainment': 'Ent',\n",
    "        'Exhibitions': 'Ex',\n",
    "        'Fitness': 'F'\n",
    "    }\n",
    "\n",
    "def generate_general_categories_tags(row):\n",
    "    return general_categories_tags_dict[row['general_venue_category_name']]\n",
    "\n",
    "user_set_df['general_venue_category_tag'] = user_set_df.apply(generate_general_categories_tags, axis=1)"
   ]
  },
  {
   "cell_type": "code",
   "execution_count": 86,
   "id": "3c543a85",
   "metadata": {},
   "outputs": [],
   "source": [
    "subsequence_all_df = user_set_df.copy()\n",
    "subsequence_all_df['date'] = subsequence_all_df.apply(lambda x : x.cleaned_UTC_time.date(), axis=1)\n",
    "subsequence_all_df = subsequence_all_df.groupby(['user_id', 'date'])['general_venue_category_tag'].apply(lambda x: list(x)).reset_index(name='category_set')\n",
    "subsequence_all_df['counts'] = subsequence_all_df['category_set'].apply(lambda x: len(x))"
   ]
  },
  {
   "cell_type": "code",
   "execution_count": 9,
   "id": "7175efae",
   "metadata": {},
   "outputs": [],
   "source": [
    "def mine_rec(patt, mdb, db, results, minsup):\n",
    "    def localOccurs(mdb):\n",
    "        occurs = defaultdict(list)\n",
    "\n",
    "        # The stoppos is always start with 1, and 1 represents the 0th index element in the sequence\n",
    "        for (i, stoppos) in mdb:\n",
    "            seq = db[i]\n",
    "            for j in range(stoppos, len(seq)):\n",
    "                l = occurs[seq[j]]\n",
    "                if len(l) == 0 or l[-1][0] != i:\n",
    "                    l.append((i, j + 1))\n",
    "\n",
    "        return occurs\n",
    "\n",
    "    for (c, newmdb) in localOccurs(mdb).items():\n",
    "        newsup = len(newmdb)\n",
    "\n",
    "        if newsup >= minsup:\n",
    "            newpatt = patt + [c]\n",
    "\n",
    "            results.append((newpatt, [i for (i, stoppos) in newmdb]))\n",
    "            mine_rec(newpatt, newmdb, db, results, minsup)\n",
    "            \n",
    "def mine_specific_user_rec(df, user_id, support_percentage):\n",
    "    db = np.array(df[(df.user_id == user_id)].category_set)\n",
    "    minsup = np.floor(len(db) * support_percentage)\n",
    "    results = []\n",
    "    \n",
    "    mine_rec([], [(i, 0) for i in range(len(db))], db, results, minsup)\n",
    "    return results"
   ]
  },
  {
   "cell_type": "code",
   "execution_count": 9,
   "id": "90496941",
   "metadata": {},
   "outputs": [
    {
     "data": {
      "text/plain": [
       "[{'sequence': ['E'], 'length': 1, 'support': 43},\n",
       " {'sequence': ['E', 'E'], 'length': 2, 'support': 28},\n",
       " {'sequence': ['E', 'Sh'], 'length': 2, 'support': 27},\n",
       " {'sequence': ['Sh'], 'length': 1, 'support': 38},\n",
       " {'sequence': ['Sh', 'O'], 'length': 2, 'support': 28},\n",
       " {'sequence': ['O'], 'length': 1, 'support': 37}]"
      ]
     },
     "execution_count": 9,
     "metadata": {},
     "output_type": "execute_result"
    }
   ],
   "source": [
    "results_178 = mine_specific_user_rec(subsequence_all_df, 178)\n",
    "result_178 = [{'sequence': i[0], 'length': len(i[0]) , 'support': len(i[1])} for i in results_178]\n",
    "result_178"
   ]
  },
  {
   "cell_type": "code",
   "execution_count": 15,
   "id": "cbd76712",
   "metadata": {},
   "outputs": [
    {
     "data": {
      "text/plain": [
       "[{'sequence': ['O'], 'length': 1, 'support': 39}]"
      ]
     },
     "execution_count": 15,
     "metadata": {},
     "output_type": "execute_result"
    }
   ],
   "source": [
    "results_962 = mine_specific_user_rec(subsequence_all_df, 962)\n",
    "result_962 = [{'sequence': i[0], 'length': len(i[0]) , 'support': len(i[1])} for i in results_962]\n",
    "result_962"
   ]
  },
  {
   "cell_type": "code",
   "execution_count": 16,
   "id": "0785e726",
   "metadata": {},
   "outputs": [
    {
     "data": {
      "text/plain": [
       "[{'sequence': ['E'], 'length': 1, 'support': 63},\n",
       " {'sequence': ['E', 'E'], 'length': 2, 'support': 50},\n",
       " {'sequence': ['E', 'Ser'], 'length': 2, 'support': 42},\n",
       " {'sequence': ['O'], 'length': 1, 'support': 42},\n",
       " {'sequence': ['Ser'], 'length': 1, 'support': 51},\n",
       " {'sequence': ['Out'], 'length': 1, 'support': 38},\n",
       " {'sequence': ['Ent'], 'length': 1, 'support': 40}]"
      ]
     },
     "execution_count": 16,
     "metadata": {},
     "output_type": "execute_result"
    }
   ],
   "source": [
    "results_185 = mine_specific_user_rec(subsequence_all_df, 185)\n",
    "result_185 = [{'sequence': i[0], 'length': len(i[0]) , 'support': len(i[1])} for i in results_185]\n",
    "result_185"
   ]
  },
  {
   "cell_type": "markdown",
   "id": "cff79657",
   "metadata": {},
   "source": [
    "## PrefixSpan experiments for 13 categories"
   ]
  },
  {
   "cell_type": "code",
   "execution_count": 87,
   "id": "586d81fc",
   "metadata": {},
   "outputs": [],
   "source": [
    "new_nyc_df = pd.read_csv('cleaned_NYC_records_13_categories_updated_duration.csv')\n",
    "new_nyc_df['cleaned_UTC_time'] = pd.to_datetime(new_nyc_df[\"UTC_time\"])\n",
    "less_equal_2hours_df = new_nyc_df[(new_nyc_df.duration <= 2) & (new_nyc_df.duration != -1)]\n",
    "\n",
    "months = [4, 5, 6]\n",
    "less_than_2hrs_3months_df = less_equal_2hours_df.copy()\n",
    "less_than_2hrs_3months_df['month'] = less_than_2hrs_3months_df['cleaned_UTC_time'].dt.month\n",
    "less_than_2hrs_3months_df = less_than_2hrs_3months_df[less_than_2hrs_3months_df['month'].isin(months)]"
   ]
  },
  {
   "cell_type": "code",
   "execution_count": 88,
   "id": "2f6830ed",
   "metadata": {},
   "outputs": [],
   "source": [
    "user_days_df = finding_days_users_less_than_2hrs_records_groupto(less_than_2hrs_3months_df)\n",
    "frequent_users_df = user_days_df[user_days_df['counts'] >= 50]"
   ]
  },
  {
   "cell_type": "code",
   "execution_count": 89,
   "id": "cdca19cc",
   "metadata": {},
   "outputs": [
    {
     "name": "stderr",
     "output_type": "stream",
     "text": [
      "<ipython-input-89-dd4609bd6c02>:38: SettingWithCopyWarning: \n",
      "A value is trying to be set on a copy of a slice from a DataFrame.\n",
      "Try using .loc[row_indexer,col_indexer] = value instead\n",
      "\n",
      "See the caveats in the documentation: https://pandas.pydata.org/pandas-docs/stable/user_guide/indexing.html#returning-a-view-versus-a-copy\n",
      "  user_set_df['general_venue_category_tag'] = user_set_df.apply(generate_general_categories_tags, axis=1)\n"
     ]
    }
   ],
   "source": [
    "user_set_df = less_than_2hrs_3months_df[less_than_2hrs_3months_df.user_id.isin(frequent_users_df.user_id)]\n",
    "\n",
    "# Eateries - E\n",
    "# Cafe/Desserts - CD\n",
    "# Drinking place - D\n",
    "# Indoor Exhibitions - InEx\n",
    "# Outdoor Exhibitions - OutEx\n",
    "# Regligious Places - R\n",
    "# Shops - Sh\n",
    "# Services - Ser\n",
    "# Education - Edu\n",
    "# Arts - A\n",
    "# Outdoor - Out\n",
    "# Entertainment - Ent\n",
    "# Fitness - F\n",
    "# Others - O\n",
    "\n",
    "general_categories_tags_dict = {\n",
    "        'Eateries': 'E',\n",
    "        'Cafe/Desserts': 'CD',\n",
    "        'Drinking place': 'D',\n",
    "        'Indoor Exhibitions': 'InEx',\n",
    "        'Outdoor Exhibitions': 'OutEx',\n",
    "        'Religious Places': 'R',\n",
    "        'Shops': 'Sh',\n",
    "        'Services': 'Ser',\n",
    "        'Education': 'Edu',\n",
    "        'Arts': 'A',\n",
    "        'Outdoor': 'Out',\n",
    "        'Entertainment': 'Ent',\n",
    "        'Fitness': 'F',\n",
    "        'Others': 'O'\n",
    "    }\n",
    "\n",
    "def generate_general_categories_tags(row):\n",
    "    return general_categories_tags_dict[row['general_venue_category_name']]\n",
    "\n",
    "user_set_df['general_venue_category_tag'] = user_set_df.apply(generate_general_categories_tags, axis=1)"
   ]
  },
  {
   "cell_type": "code",
   "execution_count": 90,
   "id": "9157e646",
   "metadata": {},
   "outputs": [],
   "source": [
    "subsequence_all_13categories_df = user_set_df.copy()\n",
    "subsequence_all_13categories_df['date'] = subsequence_all_13categories_df.apply(lambda x : x.cleaned_UTC_time.date(), axis=1)\n",
    "subsequence_all_13categories_df = subsequence_all_13categories_df.groupby(['user_id', 'date'])['general_venue_category_tag'].apply(lambda x: list(x)).reset_index(name='category_set')\n",
    "subsequence_all_13categories_df['counts'] = subsequence_all_13categories_df['category_set'].apply(lambda x: len(x))"
   ]
  },
  {
   "cell_type": "code",
   "execution_count": 14,
   "id": "d2883564",
   "metadata": {},
   "outputs": [
    {
     "data": {
      "text/plain": [
       "[{'sequence': ['E'], 'length': 1, 'support': 38},\n",
       " {'sequence': ['Sh'], 'length': 1, 'support': 38},\n",
       " {'sequence': ['Sh', 'O'], 'length': 2, 'support': 28},\n",
       " {'sequence': ['O'], 'length': 1, 'support': 37}]"
      ]
     },
     "execution_count": 14,
     "metadata": {},
     "output_type": "execute_result"
    }
   ],
   "source": [
    "results_178 = mine_specific_user_rec(subsequence_all_13categories_df, 178)\n",
    "result_178 = [{'sequence': i[0], 'length': len(i[0]),'support': len(i[1])} for i in results_178]\n",
    "result_178"
   ]
  },
  {
   "cell_type": "code",
   "execution_count": 17,
   "id": "6c09e5fe",
   "metadata": {},
   "outputs": [
    {
     "data": {
      "text/plain": [
       "[{'sequence': ['O'], 'length': 1, 'support': 39}]"
      ]
     },
     "execution_count": 17,
     "metadata": {},
     "output_type": "execute_result"
    }
   ],
   "source": [
    "results_962 = mine_specific_user_rec(subsequence_all_13categories_df, 962)\n",
    "result_962 = [{'sequence': i[0], 'length': len(i[0]) , 'support': len(i[1])} for i in results_962]\n",
    "result_962"
   ]
  },
  {
   "cell_type": "code",
   "execution_count": 18,
   "id": "4b158a2e",
   "metadata": {},
   "outputs": [
    {
     "data": {
      "text/plain": [
       "[{'sequence': ['D'], 'length': 1, 'support': 49},\n",
       " {'sequence': ['E'], 'length': 1, 'support': 53},\n",
       " {'sequence': ['O'], 'length': 1, 'support': 42},\n",
       " {'sequence': ['Ser'], 'length': 1, 'support': 51},\n",
       " {'sequence': ['Out'], 'length': 1, 'support': 38},\n",
       " {'sequence': ['Ent'], 'length': 1, 'support': 40}]"
      ]
     },
     "execution_count": 18,
     "metadata": {},
     "output_type": "execute_result"
    }
   ],
   "source": [
    "results_185 = mine_specific_user_rec(subsequence_all_13categories_df, 185)\n",
    "result_185 = [{'sequence': i[0], 'length': len(i[0]) , 'support': len(i[1])} for i in results_185]\n",
    "result_185"
   ]
  },
  {
   "cell_type": "markdown",
   "id": "e88444df",
   "metadata": {},
   "source": [
    "## PrefixSpan experiment for 7 categories"
   ]
  },
  {
   "cell_type": "code",
   "execution_count": 4,
   "id": "6917a2d8",
   "metadata": {},
   "outputs": [],
   "source": [
    "new_nyc_df = pd.read_csv('cleaned_NYC_records_7_categories_updated_duration.csv')\n",
    "new_nyc_df['cleaned_UTC_time'] = pd.to_datetime(new_nyc_df[\"UTC_time\"])\n",
    "less_equal_2hours_df = new_nyc_df[(new_nyc_df.duration <= 2) & (new_nyc_df.duration != -1)]\n",
    "\n",
    "months = [4, 5, 6]\n",
    "less_than_2hrs_3months_df = less_equal_2hours_df.copy()\n",
    "less_than_2hrs_3months_df['month'] = less_than_2hrs_3months_df['cleaned_UTC_time'].dt.month\n",
    "less_than_2hrs_3months_df = less_than_2hrs_3months_df[less_than_2hrs_3months_df['month'].isin(months)]"
   ]
  },
  {
   "cell_type": "code",
   "execution_count": 5,
   "id": "e1b4a7e7",
   "metadata": {},
   "outputs": [],
   "source": [
    "user_days_df = finding_days_users_less_than_2hrs_records_groupto(less_than_2hrs_3months_df)\n",
    "frequent_users_df = user_days_df[user_days_df['counts'] >= 50]"
   ]
  },
  {
   "cell_type": "code",
   "execution_count": 6,
   "id": "d8ace4a7",
   "metadata": {},
   "outputs": [
    {
     "name": "stderr",
     "output_type": "stream",
     "text": [
      "<ipython-input-6-e5a712da17ab>:26: SettingWithCopyWarning: \n",
      "A value is trying to be set on a copy of a slice from a DataFrame.\n",
      "Try using .loc[row_indexer,col_indexer] = value instead\n",
      "\n",
      "See the caveats in the documentation: https://pandas.pydata.org/pandas-docs/stable/user_guide/indexing.html#returning-a-view-versus-a-copy\n",
      "  user_set_df['general_venue_category_tag'] = user_set_df.apply(generate_general_categories_tags, axis=1)\n"
     ]
    }
   ],
   "source": [
    "user_set_df = less_than_2hrs_3months_df[less_than_2hrs_3months_df.user_id.isin(frequent_users_df.user_id)]\n",
    "\n",
    "# E, O, Out, Edu(Edu, R), Sh(Sh, Ser), Ent(A, Ex, Ent), F\n",
    "\n",
    "# Eateries - E\n",
    "# Shops - Sh\n",
    "# Education - Edu\n",
    "# Outdoor - Out\n",
    "# Entertainment - Ent\n",
    "# Fitness - F\n",
    "# Others - O\n",
    "\n",
    "general_categories_tags_dict = {\n",
    "        'Eateries': 'E',\n",
    "        'Shops': 'Sh',\n",
    "        'Education': 'Edu',\n",
    "        'Outdoor': 'Out',\n",
    "        'Entertainment': 'Ent',\n",
    "        'Fitness': 'F',\n",
    "        'Others': 'O'\n",
    "    }\n",
    "\n",
    "def generate_general_categories_tags(row):\n",
    "    return general_categories_tags_dict[row['general_venue_category_name']]\n",
    "\n",
    "user_set_df['general_venue_category_tag'] = user_set_df.apply(generate_general_categories_tags, axis=1)"
   ]
  },
  {
   "cell_type": "code",
   "execution_count": 7,
   "id": "cb11aa13",
   "metadata": {},
   "outputs": [],
   "source": [
    "subsequence_all_7categories_df = user_set_df.copy()\n",
    "subsequence_all_7categories_df['date'] = subsequence_all_7categories_df.apply(lambda x : x.cleaned_UTC_time.date(), axis=1)\n",
    "subsequence_all_7categories_df = subsequence_all_7categories_df.groupby(['user_id', 'date'])['general_venue_category_tag'].apply(lambda x: list(x)).reset_index(name='category_set')\n",
    "subsequence_all_7categories_df['counts'] = subsequence_all_7categories_df['category_set'].apply(lambda x: len(x))"
   ]
  },
  {
   "cell_type": "code",
   "execution_count": 11,
   "id": "89eec07a",
   "metadata": {},
   "outputs": [
    {
     "data": {
      "text/plain": [
       "[{'sequence': ['E'], 'length': 1, 'support': 43},\n",
       " {'sequence': ['E', 'E'], 'length': 2, 'support': 28},\n",
       " {'sequence': ['E', 'Sh'], 'length': 2, 'support': 27},\n",
       " {'sequence': ['Sh'], 'length': 1, 'support': 40},\n",
       " {'sequence': ['Sh', 'O'], 'length': 2, 'support': 29},\n",
       " {'sequence': ['O'], 'length': 1, 'support': 37}]"
      ]
     },
     "execution_count": 11,
     "metadata": {},
     "output_type": "execute_result"
    }
   ],
   "source": [
    "results_178 = mine_specific_user_rec(subsequence_all_7categories_df, 178, 0.5)\n",
    "result_178 = [{'sequence': i[0], 'length': len(i[0]),'support': len(i[1])} for i in results_178]\n",
    "result_178"
   ]
  },
  {
   "cell_type": "code",
   "execution_count": 24,
   "id": "93a0fa50",
   "metadata": {},
   "outputs": [
    {
     "data": {
      "text/plain": [
       "[{'sequence': ['O'], 'length': 1, 'support': 39}]"
      ]
     },
     "execution_count": 24,
     "metadata": {},
     "output_type": "execute_result"
    }
   ],
   "source": [
    "results_962 = mine_specific_user_rec(subsequence_all_7categories_df, 962)\n",
    "result_962 = [{'sequence': i[0], 'length': len(i[0]) , 'support': len(i[1])} for i in results_962]\n",
    "result_962"
   ]
  },
  {
   "cell_type": "code",
   "execution_count": 25,
   "id": "07238297",
   "metadata": {},
   "outputs": [
    {
     "data": {
      "text/plain": [
       "[{'sequence': ['E'], 'length': 1, 'support': 63},\n",
       " {'sequence': ['E', 'E'], 'length': 2, 'support': 50},\n",
       " {'sequence': ['E', 'Ent'], 'length': 2, 'support': 41},\n",
       " {'sequence': ['E', 'Sh'], 'length': 2, 'support': 42},\n",
       " {'sequence': ['Ent'], 'length': 1, 'support': 48},\n",
       " {'sequence': ['Ent', 'E'], 'length': 2, 'support': 37},\n",
       " {'sequence': ['O'], 'length': 1, 'support': 42},\n",
       " {'sequence': ['Sh'], 'length': 1, 'support': 52},\n",
       " {'sequence': ['Out'], 'length': 1, 'support': 38}]"
      ]
     },
     "execution_count": 25,
     "metadata": {},
     "output_type": "execute_result"
    }
   ],
   "source": [
    "results_185 = mine_specific_user_rec(subsequence_all_7categories_df, 185)\n",
    "result_185 = [{'sequence': i[0], 'length': len(i[0]) , 'support': len(i[1])} for i in results_185]\n",
    "result_185"
   ]
  },
  {
   "cell_type": "markdown",
   "id": "52f28cf3",
   "metadata": {},
   "source": [
    "## Statistics of different number of categories"
   ]
  },
  {
   "cell_type": "code",
   "execution_count": 24,
   "id": "04c335c6",
   "metadata": {},
   "outputs": [],
   "source": [
    "def calculating_number_of_sequences_found(df, frequent_users_df, support_percentage):\n",
    "    result_df = pd.DataFrame(columns=['user_id', 'number_of_sequences'])\n",
    "    \n",
    "    for user_id in frequent_users_df.user_id:\n",
    "        user_df = pd.DataFrame(columns=['sequence', 'length', 'support'])\n",
    "        user_result_df = mine_specific_user_rec(df, user_id, support_percentage)\n",
    "        \n",
    "        for i in user_result_df:\n",
    "            user_new_record_row = {'sequence': i[0], 'length': len(i[0]), 'support': len(i[1])}\n",
    "            user_df = user_df.append(user_new_record_row, ignore_index=True)\n",
    "            \n",
    "        if np.isnan(user_df.length.mean()):\n",
    "            avg_length = 0\n",
    "        else:\n",
    "            avg_length = user_df.length.mean()\n",
    "            \n",
    "        if np.isnan(user_df.support.mean()):\n",
    "            avg_support = 0\n",
    "        else:\n",
    "            avg_support = user_df.support.mean()\n",
    "            \n",
    "        new_row = {'user_id': user_id, 'number_of_sequences': user_df.shape[0], 'avg_length': avg_length,\n",
    "                   'avg_support': avg_support}\n",
    "        result_df = result_df.append(new_row, ignore_index=True)\n",
    "    return result_df"
   ]
  },
  {
   "cell_type": "markdown",
   "id": "ad2c8c9c",
   "metadata": {},
   "source": [
    "### For 7 categories"
   ]
  },
  {
   "cell_type": "code",
   "execution_count": 56,
   "id": "968e07bc",
   "metadata": {},
   "outputs": [
    {
     "data": {
      "text/html": [
       "<div>\n",
       "<style scoped>\n",
       "    .dataframe tbody tr th:only-of-type {\n",
       "        vertical-align: middle;\n",
       "    }\n",
       "\n",
       "    .dataframe tbody tr th {\n",
       "        vertical-align: top;\n",
       "    }\n",
       "\n",
       "    .dataframe thead th {\n",
       "        text-align: right;\n",
       "    }\n",
       "</style>\n",
       "<table border=\"1\" class=\"dataframe\">\n",
       "  <thead>\n",
       "    <tr style=\"text-align: right;\">\n",
       "      <th></th>\n",
       "      <th>user_id</th>\n",
       "      <th>number_of_sequences</th>\n",
       "      <th>avg_length</th>\n",
       "      <th>avg_support</th>\n",
       "    </tr>\n",
       "  </thead>\n",
       "  <tbody>\n",
       "    <tr>\n",
       "      <th>count</th>\n",
       "      <td>34.000000</td>\n",
       "      <td>34.000000</td>\n",
       "      <td>34.000000</td>\n",
       "      <td>34.000000</td>\n",
       "    </tr>\n",
       "    <tr>\n",
       "      <th>mean</th>\n",
       "      <td>494.352941</td>\n",
       "      <td>5.823529</td>\n",
       "      <td>1.478853</td>\n",
       "      <td>40.332424</td>\n",
       "    </tr>\n",
       "    <tr>\n",
       "      <th>std</th>\n",
       "      <td>273.990697</td>\n",
       "      <td>7.329767</td>\n",
       "      <td>0.517141</td>\n",
       "      <td>6.395292</td>\n",
       "    </tr>\n",
       "    <tr>\n",
       "      <th>min</th>\n",
       "      <td>84.000000</td>\n",
       "      <td>1.000000</td>\n",
       "      <td>1.000000</td>\n",
       "      <td>32.030303</td>\n",
       "    </tr>\n",
       "    <tr>\n",
       "      <th>25%</th>\n",
       "      <td>284.000000</td>\n",
       "      <td>2.250000</td>\n",
       "      <td>1.000000</td>\n",
       "      <td>35.181818</td>\n",
       "    </tr>\n",
       "    <tr>\n",
       "      <th>50%</th>\n",
       "      <td>441.500000</td>\n",
       "      <td>4.000000</td>\n",
       "      <td>1.333333</td>\n",
       "      <td>39.000000</td>\n",
       "    </tr>\n",
       "    <tr>\n",
       "      <th>75%</th>\n",
       "      <td>701.750000</td>\n",
       "      <td>6.000000</td>\n",
       "      <td>1.670455</td>\n",
       "      <td>45.666667</td>\n",
       "    </tr>\n",
       "    <tr>\n",
       "      <th>max</th>\n",
       "      <td>990.000000</td>\n",
       "      <td>33.000000</td>\n",
       "      <td>3.060606</td>\n",
       "      <td>57.000000</td>\n",
       "    </tr>\n",
       "  </tbody>\n",
       "</table>\n",
       "</div>"
      ],
      "text/plain": [
       "          user_id  number_of_sequences  avg_length  avg_support\n",
       "count   34.000000            34.000000   34.000000    34.000000\n",
       "mean   494.352941             5.823529    1.478853    40.332424\n",
       "std    273.990697             7.329767    0.517141     6.395292\n",
       "min     84.000000             1.000000    1.000000    32.030303\n",
       "25%    284.000000             2.250000    1.000000    35.181818\n",
       "50%    441.500000             4.000000    1.333333    39.000000\n",
       "75%    701.750000             6.000000    1.670455    45.666667\n",
       "max    990.000000            33.000000    3.060606    57.000000"
      ]
     },
     "execution_count": 56,
     "metadata": {},
     "output_type": "execute_result"
    }
   ],
   "source": [
    "result_df_7_categories = calculating_number_of_sequences_found(subsequence_all_7categories_df, frequent_users_df)\n",
    "\n",
    "result_df_7_categories['number_of_sequences'] = result_df_7_categories['number_of_sequences'].astype(int)\n",
    "result_df_7_categories.describe()"
   ]
  },
  {
   "cell_type": "markdown",
   "id": "f8a0b21c",
   "metadata": {},
   "source": [
    "### For 10 categories"
   ]
  },
  {
   "cell_type": "code",
   "execution_count": 57,
   "id": "356e0bb0",
   "metadata": {},
   "outputs": [
    {
     "data": {
      "text/html": [
       "<div>\n",
       "<style scoped>\n",
       "    .dataframe tbody tr th:only-of-type {\n",
       "        vertical-align: middle;\n",
       "    }\n",
       "\n",
       "    .dataframe tbody tr th {\n",
       "        vertical-align: top;\n",
       "    }\n",
       "\n",
       "    .dataframe thead th {\n",
       "        text-align: right;\n",
       "    }\n",
       "</style>\n",
       "<table border=\"1\" class=\"dataframe\">\n",
       "  <thead>\n",
       "    <tr style=\"text-align: right;\">\n",
       "      <th></th>\n",
       "      <th>user_id</th>\n",
       "      <th>number_of_sequences</th>\n",
       "      <th>avg_length</th>\n",
       "      <th>avg_support</th>\n",
       "    </tr>\n",
       "  </thead>\n",
       "  <tbody>\n",
       "    <tr>\n",
       "      <th>count</th>\n",
       "      <td>34.000000</td>\n",
       "      <td>34.000000</td>\n",
       "      <td>34.000000</td>\n",
       "      <td>34.000000</td>\n",
       "    </tr>\n",
       "    <tr>\n",
       "      <th>mean</th>\n",
       "      <td>494.352941</td>\n",
       "      <td>4.852941</td>\n",
       "      <td>1.439510</td>\n",
       "      <td>40.726457</td>\n",
       "    </tr>\n",
       "    <tr>\n",
       "      <th>std</th>\n",
       "      <td>273.990697</td>\n",
       "      <td>5.147122</td>\n",
       "      <td>0.493587</td>\n",
       "      <td>6.399494</td>\n",
       "    </tr>\n",
       "    <tr>\n",
       "      <th>min</th>\n",
       "      <td>84.000000</td>\n",
       "      <td>1.000000</td>\n",
       "      <td>1.000000</td>\n",
       "      <td>32.500000</td>\n",
       "    </tr>\n",
       "    <tr>\n",
       "      <th>25%</th>\n",
       "      <td>284.000000</td>\n",
       "      <td>2.000000</td>\n",
       "      <td>1.000000</td>\n",
       "      <td>35.178571</td>\n",
       "    </tr>\n",
       "    <tr>\n",
       "      <th>50%</th>\n",
       "      <td>441.500000</td>\n",
       "      <td>3.000000</td>\n",
       "      <td>1.333333</td>\n",
       "      <td>39.750000</td>\n",
       "    </tr>\n",
       "    <tr>\n",
       "      <th>75%</th>\n",
       "      <td>701.750000</td>\n",
       "      <td>6.000000</td>\n",
       "      <td>1.575000</td>\n",
       "      <td>45.600000</td>\n",
       "    </tr>\n",
       "    <tr>\n",
       "      <th>max</th>\n",
       "      <td>990.000000</td>\n",
       "      <td>25.000000</td>\n",
       "      <td>2.714286</td>\n",
       "      <td>57.000000</td>\n",
       "    </tr>\n",
       "  </tbody>\n",
       "</table>\n",
       "</div>"
      ],
      "text/plain": [
       "          user_id  number_of_sequences  avg_length  avg_support\n",
       "count   34.000000            34.000000   34.000000    34.000000\n",
       "mean   494.352941             4.852941    1.439510    40.726457\n",
       "std    273.990697             5.147122    0.493587     6.399494\n",
       "min     84.000000             1.000000    1.000000    32.500000\n",
       "25%    284.000000             2.000000    1.000000    35.178571\n",
       "50%    441.500000             3.000000    1.333333    39.750000\n",
       "75%    701.750000             6.000000    1.575000    45.600000\n",
       "max    990.000000            25.000000    2.714286    57.000000"
      ]
     },
     "execution_count": 57,
     "metadata": {},
     "output_type": "execute_result"
    }
   ],
   "source": [
    "result_df_10_categories = calculating_number_of_sequences_found(subsequence_all_df, frequent_users_df)\n",
    "\n",
    "result_df_10_categories['number_of_sequences'] = result_df_10_categories['number_of_sequences'].astype(int)\n",
    "result_df_10_categories.describe()"
   ]
  },
  {
   "cell_type": "markdown",
   "id": "58489105",
   "metadata": {},
   "source": [
    "### For 13 categories"
   ]
  },
  {
   "cell_type": "code",
   "execution_count": 58,
   "id": "5f749b8e",
   "metadata": {},
   "outputs": [
    {
     "data": {
      "text/html": [
       "<div>\n",
       "<style scoped>\n",
       "    .dataframe tbody tr th:only-of-type {\n",
       "        vertical-align: middle;\n",
       "    }\n",
       "\n",
       "    .dataframe tbody tr th {\n",
       "        vertical-align: top;\n",
       "    }\n",
       "\n",
       "    .dataframe thead th {\n",
       "        text-align: right;\n",
       "    }\n",
       "</style>\n",
       "<table border=\"1\" class=\"dataframe\">\n",
       "  <thead>\n",
       "    <tr style=\"text-align: right;\">\n",
       "      <th></th>\n",
       "      <th>user_id</th>\n",
       "      <th>number_of_sequences</th>\n",
       "      <th>avg_length</th>\n",
       "      <th>avg_support</th>\n",
       "    </tr>\n",
       "  </thead>\n",
       "  <tbody>\n",
       "    <tr>\n",
       "      <th>count</th>\n",
       "      <td>34.000000</td>\n",
       "      <td>34.000000</td>\n",
       "      <td>34.000000</td>\n",
       "      <td>34.000000</td>\n",
       "    </tr>\n",
       "    <tr>\n",
       "      <th>mean</th>\n",
       "      <td>494.352941</td>\n",
       "      <td>4.235294</td>\n",
       "      <td>1.381373</td>\n",
       "      <td>40.279657</td>\n",
       "    </tr>\n",
       "    <tr>\n",
       "      <th>std</th>\n",
       "      <td>273.990697</td>\n",
       "      <td>4.015567</td>\n",
       "      <td>0.446319</td>\n",
       "      <td>6.728839</td>\n",
       "    </tr>\n",
       "    <tr>\n",
       "      <th>min</th>\n",
       "      <td>84.000000</td>\n",
       "      <td>1.000000</td>\n",
       "      <td>1.000000</td>\n",
       "      <td>28.500000</td>\n",
       "    </tr>\n",
       "    <tr>\n",
       "      <th>25%</th>\n",
       "      <td>284.000000</td>\n",
       "      <td>2.000000</td>\n",
       "      <td>1.000000</td>\n",
       "      <td>34.375000</td>\n",
       "    </tr>\n",
       "    <tr>\n",
       "      <th>50%</th>\n",
       "      <td>441.500000</td>\n",
       "      <td>3.000000</td>\n",
       "      <td>1.291667</td>\n",
       "      <td>40.166667</td>\n",
       "    </tr>\n",
       "    <tr>\n",
       "      <th>75%</th>\n",
       "      <td>701.750000</td>\n",
       "      <td>5.750000</td>\n",
       "      <td>1.500000</td>\n",
       "      <td>44.833333</td>\n",
       "    </tr>\n",
       "    <tr>\n",
       "      <th>max</th>\n",
       "      <td>990.000000</td>\n",
       "      <td>20.000000</td>\n",
       "      <td>2.350000</td>\n",
       "      <td>57.000000</td>\n",
       "    </tr>\n",
       "  </tbody>\n",
       "</table>\n",
       "</div>"
      ],
      "text/plain": [
       "          user_id  number_of_sequences  avg_length  avg_support\n",
       "count   34.000000            34.000000   34.000000    34.000000\n",
       "mean   494.352941             4.235294    1.381373    40.279657\n",
       "std    273.990697             4.015567    0.446319     6.728839\n",
       "min     84.000000             1.000000    1.000000    28.500000\n",
       "25%    284.000000             2.000000    1.000000    34.375000\n",
       "50%    441.500000             3.000000    1.291667    40.166667\n",
       "75%    701.750000             5.750000    1.500000    44.833333\n",
       "max    990.000000            20.000000    2.350000    57.000000"
      ]
     },
     "execution_count": 58,
     "metadata": {},
     "output_type": "execute_result"
    }
   ],
   "source": [
    "result_df_13_categories = calculating_number_of_sequences_found(subsequence_all_13categories_df, frequent_users_df)\n",
    "\n",
    "result_df_13_categories['number_of_sequences'] = result_df_13_categories['number_of_sequences'].astype(int)\n",
    "result_df_13_categories.describe()"
   ]
  },
  {
   "cell_type": "markdown",
   "id": "1258e5b5",
   "metadata": {},
   "source": [
    "## Global clock implementation"
   ]
  },
  {
   "cell_type": "code",
   "execution_count": 142,
   "id": "65fa025d",
   "metadata": {},
   "outputs": [],
   "source": [
    "def global_clock_implementation(number_of_categories, user_id, support_percentage):\n",
    "    if number_of_categories == 7:\n",
    "        user_seq_results = mine_specific_user_rec(subsequence_all_7categories_df, user_id, support_percentage)\n",
    "    elif number_of_categories == 10:\n",
    "        user_seq_results = mine_specific_user_rec(subsequence_all_df, user_id, support_percentage)\n",
    "    else:\n",
    "        user_seq_results = mine_specific_user_rec(subsequence_all_13categories_df, user_id, support_percentage)\n",
    "        \n",
    "    max_length = 0\n",
    "    for i in user_seq_results:\n",
    "        if len(i[0]) > max_length:\n",
    "            max_length = len(i[0])\n",
    "        \n",
    "    user_seq_record = [{} for i in range(max_length)]\n",
    "    \n",
    "    for i in user_seq_results:\n",
    "        for j in range(len(i[0])):\n",
    "            if len(i[0]) >= j:\n",
    "                key = i[0][j]\n",
    "                if key not in user_seq_record[j]:\n",
    "                    user_seq_record[j][key] = len(i[1])\n",
    "                else:\n",
    "                    user_seq_record[j][key] = user_seq_record[j][key] + len(i[1])\n",
    "    \n",
    "    for i in range(len(user_seq_record)):\n",
    "        total_frequencies = sum(user_seq_record[i].values())\n",
    "        for k, v in user_seq_record[i].items():\n",
    "             user_seq_record[i][k] = round(v / total_frequencies, 2)\n",
    "            \n",
    "    return user_seq_record\n",
    "    "
   ]
  },
  {
   "cell_type": "code",
   "execution_count": 4,
   "id": "919c4b4d",
   "metadata": {},
   "outputs": [],
   "source": [
    "import json\n",
    "import ast\n",
    "import csv"
   ]
  },
  {
   "cell_type": "code",
   "execution_count": 5,
   "id": "f2c9ff49",
   "metadata": {},
   "outputs": [],
   "source": [
    "## To encode the probabilistic patterns\n",
    "def encode_probabilistic_patterns(patterns_list, patterns_file):\n",
    "    f = open(patterns_file, 'w', newline='')\n",
    "\n",
    "    # create the csv writer\n",
    "    writer = csv.writer(f)\n",
    "\n",
    "    # write a row to the csv file\n",
    "    for pattern in patterns_list:\n",
    "        values_str = [json.dumps(i) for i in pattern]\n",
    "        writer.writerow(values_str)\n",
    "\n",
    "    # close the file\n",
    "    f.close()\n",
    "\n",
    "## To decode the probabilistic patterns\n",
    "def decode_probabilistic_patterns(patterns_file):\n",
    "    patterns_list = []\n",
    "    \n",
    "    f = open(patterns_file, 'r')\n",
    "    \n",
    "    reader = csv.reader(f)\n",
    "    \n",
    "    for row in reader:\n",
    "        values = [ast.literal_eval(i) for i in row]\n",
    "        \n",
    "        if len(values) > 0:\n",
    "            patterns_list.append(values)\n",
    "        \n",
    "    f.close()\n",
    "    \n",
    "    return patterns_list"
   ]
  },
  {
   "cell_type": "code",
   "execution_count": 198,
   "id": "26715d6e",
   "metadata": {},
   "outputs": [],
   "source": [
    "def write_probabilistic_patterns_csv(number_of_categories, support_threshold):\n",
    "    patterns_list = []\n",
    "    \n",
    "    for user_id in frequent_users_df.user_id:\n",
    "        patterns_list.append(global_clock_implementation(number_of_categories, user_id, support_threshold))\n",
    "        \n",
    "    encode_probabilistic_patterns(patterns_list, \"{}_{}_probabilistic_patterns.csv\".format(support_threshold, number_of_categories))"
   ]
  },
  {
   "cell_type": "markdown",
   "id": "23c98942",
   "metadata": {},
   "source": [
    "### For 7 categories"
   ]
  },
  {
   "cell_type": "code",
   "execution_count": 207,
   "id": "7b2b906b",
   "metadata": {},
   "outputs": [],
   "source": [
    "write_probabilistic_patterns_csv(7, 0.5)"
   ]
  },
  {
   "cell_type": "code",
   "execution_count": 209,
   "id": "c5068d8d",
   "metadata": {},
   "outputs": [
    {
     "name": "stdout",
     "output_type": "stream",
     "text": [
      "[[{'O': 0.76, 'E': 0.24}, {'O': 0.68, 'E': 0.32}, {'O': 0.67, 'E': 0.33}], [{'O': 0.34, 'E': 0.48, 'Sh': 0.18}, {'E': 0.47, 'O': 0.31, 'Sh': 0.22}, {'O': 0.34, 'E': 0.43, 'Sh': 0.23}, {'O': 0.33, 'E': 0.67}], [{'Sh': 0.51, 'O': 0.49}, {'O': 1.0}], [{'Out': 0.33, 'O': 0.67}, {'O': 0.8, 'Out': 0.2}, {'O': 1.0}], [{'E': 1.0}, {'E': 1.0}, {'E': 1.0}], [{'Sh': 0.38, 'E': 0.32, 'Edu': 0.3}], [{'O': 0.77, 'Sh': 0.23}, {'O': 1.0}], [{'O': 0.49, 'Sh': 0.51}], [{'E': 0.57, 'O': 0.43}], [{'O': 1.0}], [{'O': 1.0}], [{'E': 0.53, 'O': 0.47}], [{'E': 0.48, 'Sh': 0.34, 'O': 0.18}, {'E': 0.33, 'Sh': 0.32, 'O': 0.35}], [{'Sh': 0.51, 'E': 0.49}], [{'E': 0.55, 'Sh': 0.21, 'O': 0.24}, {'Sh': 0.21, 'E': 0.67, 'O': 0.12}, {'E': 0.72, 'Sh': 0.24, 'O': 0.04}, {'E': 0.82, 'Sh': 0.18}, {'E': 0.81, 'Sh': 0.19}, {'E': 1.0}], [{'O': 0.44, 'E': 0.56}], [{'O': 0.38, 'Sh': 0.19, 'Out': 0.22, 'E': 0.21}, {'E': 1.0}], [{'O': 1.0}], [{'Sh': 0.86, 'O': 0.14}, {'Sh': 0.8, 'O': 0.2}, {'Sh': 1.0}, {'Sh': 1.0}], [{'E': 0.26, 'O': 0.74}, {'O': 1.0}], [{'Out': 0.28, 'O': 0.72}, {'O': 0.51, 'Out': 0.49}], [{'Sh': 0.31, 'E': 0.29, 'O': 0.4}], [{'Out': 1.0}], [{'E': 0.2, 'Sh': 0.6, 'Out': 0.2}, {'Sh': 0.33, 'E': 0.35, 'Out': 0.33}], [{'O': 0.75, 'E': 0.25}, {'O': 1.0}], [{'E': 0.59, 'Sh': 0.21, 'Ent': 0.2}, {'E': 1.0}], [{'O': 0.51, 'E': 0.49}, {'O': 1.0}], [{'Sh': 0.29, 'O': 0.71}, {'O': 0.84, 'Sh': 0.16}, {'O': 1.0}, {'O': 1.0}], [{'O': 0.73, 'E': 0.27}, {'O': 1.0}], [{'Sh': 0.41, 'E': 0.59}, {'E': 0.61, 'Sh': 0.39}, {'E': 1.0}], [{'Sh': 0.52, 'E': 0.28, 'O': 0.2}, {'E': 1.0}], [{'E': 0.47, 'Ent': 0.21, 'O': 0.1, 'Sh': 0.13, 'Out': 0.09}, {'E': 0.51, 'Ent': 0.24, 'Sh': 0.25}], [{'E': 0.47, 'Ent': 0.09, 'O': 0.25, 'Sh': 0.19}, {'O': 0.27, 'E': 0.6, 'Sh': 0.13}, {'E': 1.0}], [{'Out': 0.31, 'O': 0.69}, {'O': 0.55, 'Out': 0.45}]]\n"
     ]
    }
   ],
   "source": [
    "patterns_list = decode_probabilistic_patterns(\"0.5_7_probabilistic_patterns.csv\")\n",
    "print(patterns_list)"
   ]
  },
  {
   "cell_type": "markdown",
   "id": "e8ba09d3",
   "metadata": {},
   "source": [
    "### For 10 categories"
   ]
  },
  {
   "cell_type": "code",
   "execution_count": 133,
   "id": "7865d126",
   "metadata": {},
   "outputs": [
    {
     "name": "stdout",
     "output_type": "stream",
     "text": [
      "[{'E': 0.49, 'Sh': 0.33, 'O': 0.18}, {'E': 0.34, 'Sh': 0.33, 'O': 0.34}]\n"
     ]
    }
   ],
   "source": [
    "global_clock_implementation(10, 178, 0.5)"
   ]
  },
  {
   "cell_type": "markdown",
   "id": "e3da9b1b",
   "metadata": {},
   "source": [
    "### For 13 categories"
   ]
  },
  {
   "cell_type": "code",
   "execution_count": 134,
   "id": "8361eeb1",
   "metadata": {},
   "outputs": [
    {
     "name": "stdout",
     "output_type": "stream",
     "text": [
      "[{'E': 0.27, 'Sh': 0.47, 'O': 0.26}, {'O': 1.0}]\n"
     ]
    }
   ],
   "source": [
    "global_clock_implementation(13, 178, 0.5)"
   ]
  },
  {
   "cell_type": "code",
   "execution_count": 210,
   "id": "66e35a91",
   "metadata": {},
   "outputs": [],
   "source": [
    "write_probabilistic_patterns_csv(14, 0.5)"
   ]
  },
  {
   "cell_type": "markdown",
   "id": "e8f37c01",
   "metadata": {},
   "source": [
    "## Experiment 1 (Threshold vs number of sequences): "
   ]
  },
  {
   "cell_type": "code",
   "execution_count": 82,
   "id": "f41c287f",
   "metadata": {},
   "outputs": [],
   "source": [
    "def prefixSpan_threshold_change(number_of_category):\n",
    "    thresholds = [0.25, 0.5, 0.75]\n",
    "    number_of_sequences = []\n",
    "    length = []\n",
    "    \n",
    "#     intermediate_list = []\n",
    "    \n",
    "    if number_of_category == 7:\n",
    "        df = subsequence_all_7categories_df\n",
    "    elif number_of_category == 10:\n",
    "        df = subsequence_all_df\n",
    "    else:\n",
    "        df = subsequence_all_13categories_df\n",
    "    \n",
    "    for threshold in thresholds:\n",
    "#         print(threshold)\n",
    "        result_df = calculating_number_of_sequences_found(df, frequent_users_df, threshold)\n",
    "#         length = user_mean_df['number_of_sequences'].size\n",
    "#         thres = [threshold] * length\n",
    "        result_df['number_of_sequences'] = result_df['number_of_sequences'].astype(int)\n",
    "        number_of_sequences.append(result_df['number_of_sequences'].mean())\n",
    "        \n",
    "        result_df['avg_length'] = result_df['avg_length'].astype(int)\n",
    "        length.append(result_df['avg_length'].mean())\n",
    "    \n",
    "    return thresholds, number_of_sequences, length\n",
    "#         result_df = user_mean_df[['number_of_sequences', 'avg_length', 'avg_support']]\n",
    "#         intermediate = result_df.values.tolist()\n",
    "        \n",
    "#         for i in range(len(intermediate)):\n",
    "#             intermediate[i].append(threshold)\n",
    "#             intermediate_list.append(intermediate[i])\n",
    "            \n",
    "#     res = pd.DataFrame(intermediate_list, columns=['number_of_sequences', 'avg_length', 'avg_support', 'threshold'])\n",
    "#     return res"
   ]
  },
  {
   "cell_type": "markdown",
   "id": "58c2a3ae",
   "metadata": {},
   "source": [
    "### 7 categories"
   ]
  },
  {
   "cell_type": "code",
   "execution_count": 95,
   "id": "fd195609",
   "metadata": {},
   "outputs": [],
   "source": [
    "res_7 = prefixSpan_threshold_change(7)"
   ]
  },
  {
   "cell_type": "code",
   "execution_count": 602,
   "id": "105fb590",
   "metadata": {
    "scrolled": true
   },
   "outputs": [
    {
     "data": {
      "image/png": "[encoded data removed]",
      "text/plain": [
       "<Figure size 432x288 with 1 Axes>"
      ]
     },
     "metadata": {
      "needs_background": "light"
     },
     "output_type": "display_data"
    }
   ],
   "source": [
    "plt.plot(res_7[0], res_7[1])\n",
    "plt.xlabel('Minimum Support Threshold')\n",
    "plt.ylabel('Number of sequences per user')\n",
    "plt.title('Number of sequences per user vs Minimum Support Threshold (Level 7)')\n",
    "plt.show()"
   ]
  },
  {
   "cell_type": "code",
   "execution_count": 603,
   "id": "551f862c",
   "metadata": {
    "scrolled": true
   },
   "outputs": [
    {
     "data": {
      "image/png": "[encoded data removed]",
      "text/plain": [
       "<Figure size 432x288 with 1 Axes>"
      ]
     },
     "metadata": {
      "needs_background": "light"
     },
     "output_type": "display_data"
    }
   ],
   "source": [
    "plt.plot(res_7[0], res_7[2])\n",
    "plt.xlabel('Minimum Support Threshold')\n",
    "plt.ylabel('Average length of sequences per user')\n",
    "plt.title('Average length of sequences per user vs Minimum Support Threshold (Level 7)')\n",
    "plt.show()"
   ]
  },
  {
   "cell_type": "code",
   "execution_count": 81,
   "id": "f27c5709",
   "metadata": {},
   "outputs": [
    {
     "data": {
      "text/plain": [
       "<seaborn.axisgrid.FacetGrid at 0x236e9b4d3d0>"
      ]
     },
     "execution_count": 81,
     "metadata": {},
     "output_type": "execute_result"
    },
    {
     "data": {
      "image/png": "[encoded data removed]",
      "text/plain": [
       "<Figure size 418.375x360 with 1 Axes>"
      ]
     },
     "metadata": {
      "needs_background": "light"
     },
     "output_type": "display_data"
    }
   ],
   "source": [
    "sns.displot(res, x=\"avg_number_of_sequences\", hue=\"threshold\", element=\"step\")"
   ]
  },
  {
   "cell_type": "markdown",
   "id": "4386642a",
   "metadata": {},
   "source": [
    "## 10 categories"
   ]
  },
  {
   "cell_type": "code",
   "execution_count": 101,
   "id": "e7770ba5",
   "metadata": {},
   "outputs": [],
   "source": [
    "res_10 = prefixSpan_threshold_change(10)"
   ]
  },
  {
   "cell_type": "code",
   "execution_count": 604,
   "id": "160bdeff",
   "metadata": {},
   "outputs": [
    {
     "data": {
      "image/png": "[encoded data removed]",
      "text/plain": [
       "<Figure size 432x288 with 1 Axes>"
      ]
     },
     "metadata": {
      "needs_background": "light"
     },
     "output_type": "display_data"
    }
   ],
   "source": [
    "plt.plot(res_10[0], res_10[1])\n",
    "plt.xlabel('Minimum Support Threshold')\n",
    "plt.ylabel('Number of sequences per user')\n",
    "plt.title('Number of sequences per user vs Minimum Support Threshold (Level 11)')\n",
    "plt.show()"
   ]
  },
  {
   "cell_type": "code",
   "execution_count": 605,
   "id": "46a6a06f",
   "metadata": {},
   "outputs": [
    {
     "data": {
      "image/png": "[encoded data removed]",
      "text/plain": [
       "<Figure size 432x288 with 1 Axes>"
      ]
     },
     "metadata": {
      "needs_background": "light"
     },
     "output_type": "display_data"
    }
   ],
   "source": [
    "plt.plot(res_10[0], res_10[2])\n",
    "plt.xlabel('Minimum Support Threshold')\n",
    "plt.ylabel('Average length of sequences per user')\n",
    "plt.title('Average length of sequences per user vs Minimum Support Threshold (Level 11)')\n",
    "plt.show()"
   ]
  },
  {
   "cell_type": "markdown",
   "id": "9151fcec",
   "metadata": {},
   "source": [
    "## 13 categories"
   ]
  },
  {
   "cell_type": "code",
   "execution_count": 106,
   "id": "36d48c5d",
   "metadata": {},
   "outputs": [],
   "source": [
    "res_13 = prefixSpan_threshold_change(13)"
   ]
  },
  {
   "cell_type": "code",
   "execution_count": 606,
   "id": "e5e1d7b0",
   "metadata": {},
   "outputs": [
    {
     "data": {
      "image/png": "[encoded data removed]",
      "text/plain": [
       "<Figure size 432x288 with 1 Axes>"
      ]
     },
     "metadata": {
      "needs_background": "light"
     },
     "output_type": "display_data"
    }
   ],
   "source": [
    "plt.plot(res_13[0], res_13[1])\n",
    "plt.xlabel('Minimum Support Threshold')\n",
    "plt.ylabel('Number of sequences per user')\n",
    "plt.title('Number of sequences per user vs Minimum Support Threshold (Level 14)')\n",
    "plt.show()"
   ]
  },
  {
   "cell_type": "code",
   "execution_count": 610,
   "id": "496a0130",
   "metadata": {},
   "outputs": [
    {
     "data": {
      "image/png": "[encoded data removed]",
      "text/plain": [
       "<Figure size 432x288 with 1 Axes>"
      ]
     },
     "metadata": {
      "needs_background": "light"
     },
     "output_type": "display_data"
    }
   ],
   "source": [
    "plt.plot(res_13[0], res_13[2])\n",
    "plt.xlabel('Minimum Support Threshold')\n",
    "plt.ylabel('Average length of sequences per user')\n",
    "plt.title('Average length of sequences per user vs Minimum Support Threshold (Level 14)')\n",
    "plt.show()"
   ]
  },
  {
   "cell_type": "markdown",
   "id": "e9d6a206",
   "metadata": {},
   "source": [
    "### Combining all three level of categories (effect on no_of_sequences and length)"
   ]
  },
  {
   "cell_type": "code",
   "execution_count": 607,
   "id": "80ddfef6",
   "metadata": {
    "scrolled": true
   },
   "outputs": [
    {
     "data": {
      "image/png": "[encoded data removed]",
      "text/plain": [
       "<Figure size 432x288 with 1 Axes>"
      ]
     },
     "metadata": {
      "needs_background": "light"
     },
     "output_type": "display_data"
    }
   ],
   "source": [
    "plt.plot(res_7[0], res_7[1], label=\"7 categories\")\n",
    "plt.plot(res_10[0], res_10[1], label=\"11 categories\")\n",
    "plt.plot(res_13[0], res_13[1], label=\"14 categories\")\n",
    "plt.xlabel('Minimum Support Threshold')\n",
    "plt.ylabel('Number of sequences per user')\n",
    "plt.title('Number of sequences per user vs Minimum Support Threshold')\n",
    "plt.legend()\n",
    "plt.show()"
   ]
  },
  {
   "cell_type": "code",
   "execution_count": 609,
   "id": "95b30148",
   "metadata": {},
   "outputs": [
    {
     "data": {
      "image/png": "[encoded data removed]",
      "text/plain": [
       "<Figure size 432x288 with 1 Axes>"
      ]
     },
     "metadata": {
      "needs_background": "light"
     },
     "output_type": "display_data"
    }
   ],
   "source": [
    "plt.plot(res_7[0], res_7[2], label=\"7 categories\")\n",
    "plt.plot(res_10[0], res_10[2], label=\"11 categories\")\n",
    "plt.plot(res_13[0], res_13[2], label=\"14 categories\")\n",
    "plt.xlabel('Minimum Support Threshold')\n",
    "plt.ylabel('Average length of sequences per user')\n",
    "plt.title('Average length of sequences per user vs Minimum Support Threshold')\n",
    "plt.legend()\n",
    "plt.show()"
   ]
  },
  {
   "cell_type": "markdown",
   "id": "f4a3f7b6",
   "metadata": {},
   "source": [
    "## Experiment 2 (Under the same threshold 0.5) Change on the level of categories"
   ]
  },
  {
   "cell_type": "code",
   "execution_count": 120,
   "id": "358d31c2",
   "metadata": {},
   "outputs": [],
   "source": [
    "def prefixSpan_level_change():\n",
    "    threshold = 0.5\n",
    "    levels = [7, 10, 13]\n",
    "    \n",
    "    no_of_sequences = []\n",
    "    no_sequence_7 = []\n",
    "    no_sequence_10 = []\n",
    "    no_sequence_13 = []\n",
    "    \n",
    "    avg_lengths = []\n",
    "    avg_length_7 = []\n",
    "    avg_length_10 = []\n",
    "    avg_length_13 = []\n",
    "    \n",
    "    for level in levels:\n",
    "        if level == 7:\n",
    "            df = subsequence_all_7categories_df\n",
    "            result_df = calculating_number_of_sequences_found(df, frequent_users_df, threshold)\n",
    "            no_sequence_7.extend(result_df['number_of_sequences'].tolist())\n",
    "            avg_length_7.extend(result_df['avg_length'].tolist())\n",
    "        elif level == 10:\n",
    "            df = subsequence_all_df\n",
    "            result_df = calculating_number_of_sequences_found(df, frequent_users_df, threshold)\n",
    "            no_sequence_10.extend(result_df['number_of_sequences'].tolist())\n",
    "            avg_length_10.extend(result_df['avg_length'].tolist())\n",
    "        else:\n",
    "            df = subsequence_all_13categories_df\n",
    "            result_df = calculating_number_of_sequences_found(df, frequent_users_df, threshold)\n",
    "            no_sequence_13.extend(result_df['number_of_sequences'].tolist())\n",
    "            avg_length_13.extend(result_df['avg_length'].tolist())\n",
    "            \n",
    "    df_levels = []\n",
    "    \n",
    "    df_levels.extend([7] * len(no_sequence_7))\n",
    "    df_levels.extend([10] * len(no_sequence_10))\n",
    "    df_levels.extend([13] * len(no_sequence_13))\n",
    "        \n",
    "    no_of_sequences.extend(no_sequence_7)\n",
    "    no_of_sequences.extend(no_sequence_10)\n",
    "    no_of_sequences.extend(no_sequence_13)\n",
    "    \n",
    "    avg_lengths.extend(avg_length_7)\n",
    "    avg_lengths.extend(avg_length_10)\n",
    "    avg_lengths.extend(avg_length_13)\n",
    "    \n",
    "    d = {'levels': df_levels, 'no_of_sequences': no_of_sequences, 'avg_lengths': avg_lengths}\n",
    "    \n",
    "    output = pd.DataFrame(d)\n",
    "    \n",
    "    return output"
   ]
  },
  {
   "cell_type": "code",
   "execution_count": 121,
   "id": "b717747e",
   "metadata": {},
   "outputs": [],
   "source": [
    "output = prefixSpan_level_change()"
   ]
  },
  {
   "cell_type": "code",
   "execution_count": 445,
   "id": "3153c016",
   "metadata": {},
   "outputs": [
    {
     "data": {
      "text/plain": [
       "Text(0.5, 6.79999999999999, 'Number of sequences')"
      ]
     },
     "execution_count": 445,
     "metadata": {},
     "output_type": "execute_result"
    },
    {
     "data": {
      "image/png": "[encoded data removed]",
      "text/plain": [
       "<Figure size 1080x360 with 3 Axes>"
      ]
     },
     "metadata": {
      "needs_background": "light"
     },
     "output_type": "display_data"
    }
   ],
   "source": [
    "p = sns.displot(output, x=\"no_of_sequences\", col=\"levels\")\n",
    "p.axes[0,0].set_xlabel('Number of sequences')\n",
    "p.axes[0,1].set_xlabel('Number of sequences')\n",
    "p.axes[0,2].set_xlabel('Number of sequences')"
   ]
  },
  {
   "cell_type": "code",
   "execution_count": 444,
   "id": "606dab24",
   "metadata": {},
   "outputs": [
    {
     "data": {
      "text/plain": [
       "Text(0.5, 6.79999999999999, 'Average length')"
      ]
     },
     "execution_count": 444,
     "metadata": {},
     "output_type": "execute_result"
    },
    {
     "data": {
      "image/png": "[encoded data removed]",
      "text/plain": [
       "<Figure size 1080x360 with 3 Axes>"
      ]
     },
     "metadata": {
      "needs_background": "light"
     },
     "output_type": "display_data"
    }
   ],
   "source": [
    "p = sns.displot(output, x=\"avg_lengths\", col=\"levels\")\n",
    "p.axes[0,0].set_xlabel('Average length')\n",
    "p.axes[0,1].set_xlabel('Average length')\n",
    "p.axes[0,2].set_xlabel('Average length')"
   ]
  },
  {
   "cell_type": "markdown",
   "id": "7ff3df82",
   "metadata": {},
   "source": [
    "## Experiment 3 (Assignment test)"
   ]
  },
  {
   "cell_type": "markdown",
   "id": "5a699fc1",
   "metadata": {},
   "source": [
    "Test on two levels (7 and 14)\n",
    "Test on the four order of assignments (random, preference, demanding, preference + demanding, demanding + preference)\n",
    "\n",
    "Each go for 1000 times\n",
    "\n",
    "provider energy availability (200, 1000)\n",
    "microcell request (500, 2000)\n",
    "\n",
    "Test with increasing providers (5 - 30), and fix microcells number (5)\n",
    "Test with increasing microcells (5 - 30), and fix providers number (5)"
   ]
  },
  {
   "cell_type": "code",
   "execution_count": 2,
   "id": "1283065c",
   "metadata": {},
   "outputs": [],
   "source": [
    "import random\n",
    "\n",
    "random.seed(42)"
   ]
  },
  {
   "cell_type": "code",
   "execution_count": 6,
   "id": "1cf8d32e",
   "metadata": {},
   "outputs": [],
   "source": [
    "## Defining global variables\n",
    "providers_preferences_7 = decode_probabilistic_patterns(\"0.5_7_probabilistic_patterns.csv\")\n",
    "providers_preferences_14 = decode_probabilistic_patterns(\"0.5_14_probabilistic_patterns.csv\")\n",
    "\n",
    "## Defining the category_list for different levels\n",
    "category_list_7 = ['E', 'Sh', 'Edu', 'Out', 'Ent', 'F', 'O']\n",
    "category_list_14 = ['E', 'CD', 'D', 'InEx', 'OutEx', 'R', 'Sh', 'Ser', 'Edu', 'A', 'Out', 'Ent', 'F', 'O']"
   ]
  },
  {
   "cell_type": "code",
   "execution_count": 7,
   "id": "a8d5ffb2",
   "metadata": {},
   "outputs": [],
   "source": [
    "def initialise_all_stuff(providers_no, microcells_no, number_of_category):\n",
    "    providers_probabilistic_patterns = []\n",
    "    providers_availability = []\n",
    "    \n",
    "    microcell_preference_dict = {}\n",
    "    microcell_location_request_dict = {}\n",
    "    request_sum = 0\n",
    "    \n",
    "    if number_of_category == 7:\n",
    "        providers_preferences = providers_preferences_7\n",
    "        category_list = category_list_7\n",
    "    elif number_of_category == 14:\n",
    "        providers_preferences = providers_preferences_14\n",
    "        category_list = category_list_14\n",
    "        \n",
    "    for i in range(providers_no):\n",
    "        providers_probabilistic_patterns.append(providers_preferences[random.randint(0, len(providers_preferences)-1)])\n",
    "        providers_availability.append(random.randint(200, 500))\n",
    "        \n",
    "#     providers_info = sorted(zip(providers_probabilistic_patterns, providers_availability), key=lambda pair: pair[1], reverse=True)\n",
    "        \n",
    "    for j in range(microcells_no):\n",
    "        microcell_id = j\n",
    "        microcell_category = category_list[random.randint(0, len(category_list)-1)]\n",
    "        microcell_request = random.randint(1000, 2000)\n",
    "        request_sum += microcell_request\n",
    "        \n",
    "        microcell_location_request_dict[microcell_id] = {'request': microcell_request, 'category': microcell_category}\n",
    "        \n",
    "        if microcell_category in microcell_preference_dict:\n",
    "            microcell_preference_dict[microcell_category].append(microcell_id)\n",
    "        else:\n",
    "            microcell_preference_dict[microcell_category] = [microcell_id]\n",
    "        \n",
    "    return providers_probabilistic_patterns, providers_availability, microcell_preference_dict, microcell_location_request_dict, request_sum"
   ]
  },
  {
   "cell_type": "code",
   "execution_count": 307,
   "id": "afd647aa",
   "metadata": {},
   "outputs": [],
   "source": [
    "def experiment(providers_no, microcells_no, mode, number_of_category, iterations):\n",
    "    energy_usage_record_list = []\n",
    "    fulfillment_ratio_record_list = []\n",
    "    cost_record_list = []\n",
    "    time_record_list = []\n",
    "    \n",
    "    for i in range(iterations):\n",
    "        start_time = time.time()\n",
    "        providers_probabilistic_patterns, providers_availability, microcell_preference_dict, microcell_location_request_dict, request_sum = initialise_all_stuff(providers_no, microcells_no, number_of_category)\n",
    "        providers_info = sorted(zip(providers_probabilistic_patterns, providers_availability), key=lambda pair: pair[1], reverse=True)\n",
    "        \n",
    "        total_available_energy = np.sum(providers_availability)\n",
    "        fulfillment_energy = 0\n",
    "        cost = 0\n",
    "        \n",
    "        supplied_providers = 0\n",
    "        \n",
    "        for j in range(providers_no):\n",
    "            supplying = False\n",
    "            provider_probabilistic_pattern = sorted(providers_probabilistic_patterns[j][0].items(), key=lambda item: item[1], reverse=True)   \n",
    "            provider_availability = providers_availability[j]\n",
    "            \n",
    "            if mode == 'random':\n",
    "                loc_key = random.choice(list(microcell_location_request_dict))\n",
    "                request = microcell_location_request_dict[loc_key]['request']\n",
    "                \n",
    "                if request != 0:\n",
    "                    supplied_providers += 1\n",
    "                    supplying = True\n",
    "            elif mode == 'preference':\n",
    "                loc_key = None\n",
    "                probabilistic_pattern = provider_probabilistic_pattern[0]\n",
    "                if probabilistic_pattern[0] in microcell_preference_dict:\n",
    "                    loc_key = random.choice(microcell_preference_dict[probabilistic_pattern[0]])\n",
    "                    \n",
    "                if loc_key is not None:    \n",
    "                    request = microcell_location_request_dict[loc_key]['request']\n",
    "                    if request != 0:\n",
    "                        supplied_providers += 1\n",
    "                        supplying = True\n",
    "                \n",
    "            elif mode == 'demanding':\n",
    "                loc_key = sorted(microcell_location_request_dict.items(), key=lambda item: item[1]['request'], reverse=True)[0][0]\n",
    "                \n",
    "                request = microcell_location_request_dict[loc_key]['request']\n",
    "                \n",
    "                if request != 0:\n",
    "                    supplied_providers += 1\n",
    "                    supplying = True\n",
    "                \n",
    "            elif mode == 'preference+demanding':\n",
    "                provider_probabilistic_pattern = sorted(providers_info[j][0][0].items(), key=lambda item: item[1], reverse=True)\n",
    "                provider_availability = providers_info[j][1]\n",
    "                \n",
    "                loc_key = None\n",
    "                for p in provider_probabilistic_pattern:\n",
    "                    preferences_locations = {}\n",
    "#                     print(p)\n",
    "                    if p[0] in microcell_preference_dict: # If category in microcell_preference_dict\n",
    "                        for loc_id in microcell_preference_dict[p[0]]: # Add locations into the preferences_locations\n",
    "                            preferences_locations[loc_id] = microcell_location_request_dict[loc_id]\n",
    "                            \n",
    "                        for item in sorted(preferences_locations.items(), key=lambda item: item[1]['request'], reverse=True):\n",
    "                            loc_key = item[0]\n",
    "                            request = microcell_location_request_dict[loc_key]['request']\n",
    "                            \n",
    "                            if request != 0:\n",
    "                                break\n",
    "                        \n",
    "                        if loc_key is not None:\n",
    "                            break\n",
    "                            \n",
    "                if loc_key is None:\n",
    "                    loc_key = sorted(microcell_location_request_dict.items(), key=lambda item: item[1]['request'], reverse=True)[0][0]\n",
    "                    \n",
    "                request = microcell_location_request_dict[loc_key]['request']\n",
    "                            \n",
    "                if request != 0:\n",
    "                    supplied_providers += 1\n",
    "                    supplying = True\n",
    "                    \n",
    "            elif mode == 'demanding+preference':\n",
    "                provider_probabilistic_pattern = sorted(providers_info[j][0][0].items(), key=lambda item: item[1], reverse=True)\n",
    "                provider_availability = providers_info[j][1]\n",
    "                \n",
    "                loc_key = None\n",
    "                \n",
    "                ordered_demand_list = sorted(microcell_location_request_dict.items(), key=lambda item: item[1]['request'], reverse=True)\n",
    "                provider_preferences = [p[0] for p in provider_probabilistic_pattern] # all provider's preference in the form of [(category, probability)]\n",
    "                \n",
    "                for i in ordered_demand_list:\n",
    "#                     print(i)\n",
    "#                     print(provider_probabilistic_pattern)\n",
    "#                     print(i[1]['category'])\n",
    "#                     print(provider_probabilistic_pattern)\n",
    "                    if (i[1]['request'] != 0 and i[1]['category'] in provider_preferences):\n",
    "                        loc_key = i[0]\n",
    "#                         print(\"Loc_key:\", loc_key)\n",
    "                        break\n",
    "                \n",
    "                if loc_key is None:\n",
    "                    loc_key = sorted(microcell_location_request_dict.items(), key=lambda item: item[1]['request'], reverse=True)[0][0]\n",
    "                    \n",
    "                request = microcell_location_request_dict[loc_key]['request']\n",
    "                \n",
    "                if request != 0:\n",
    "                    supplied_providers += 1\n",
    "                    supplying = True\n",
    "                \n",
    "                \n",
    "#             request = microcell_location_request_dict[loc_key]['request']\n",
    "            if loc_key is not None:\n",
    "                loc_category = microcell_location_request_dict[loc_key]['category']\n",
    "\n",
    "                if request > provider_availability:\n",
    "                    fulfillment_energy += provider_availability\n",
    "                    microcell_location_request_dict[loc_key]['request'] = (request - provider_availability)\n",
    "                else:\n",
    "                    fulfillment_energy += request\n",
    "                    microcell_location_request_dict[loc_key]['request'] = 0\n",
    "                \n",
    "                \n",
    "            if supplying:\n",
    "                preference_index = len(provider_probabilistic_pattern)+1\n",
    "                for k in range(len(provider_probabilistic_pattern)):\n",
    "                    if loc_category == provider_probabilistic_pattern[k][0]:\n",
    "                        preference_index = k+1\n",
    "\n",
    "                cost += ((provider_availability / 100) * preference_index)\n",
    "#                 satisfaction_index = -1\n",
    "#                 satisfaction_decrement = 1 / len(provider_probabilistic_pattern)\n",
    "#                 for k in range(len(provider_probabilistic_pattern)):\n",
    "#                     if loc_category == provider_probabilistic_pattern[k][0]:\n",
    "#                         satisfaction_index = k\n",
    "\n",
    "#                 if satisfaction_index != -1:\n",
    "#                     satisfaction += (1 - (satisfaction_decrement * satisfaction_index))\n",
    "#                 else:\n",
    "#                     satisfaction += 0\n",
    "                \n",
    "#         print(satisfaction)\n",
    "#         print(supplied_providers)\n",
    "        energy_usage_record_list.append(fulfillment_energy / total_available_energy)\n",
    "        fulfillment_ratio_record_list.append(fulfillment_energy / request_sum)\n",
    "    \n",
    "        if supplied_providers != 0:\n",
    "            cost_record_list.append(cost)\n",
    "            \n",
    "        time_record_list.append(time.time()-start_time)\n",
    "    \n",
    "    return np.mean(energy_usage_record_list), np.mean(fulfillment_ratio_record_list), np.mean(cost_record_list), np.mean(time_record_list)"
   ]
  },
  {
   "cell_type": "code",
   "execution_count": 308,
   "id": "197010b9",
   "metadata": {},
   "outputs": [
    {
     "data": {
      "text/plain": [
       "(1.0, 0.23508414005553266, 36.379999999999995, 0.0006968259811401367)"
      ]
     },
     "execution_count": 308,
     "metadata": {},
     "output_type": "execute_result"
    }
   ],
   "source": [
    "experiment(5, 5, 'demanding+preference', 7, 10)"
   ]
  },
  {
   "cell_type": "code",
   "execution_count": 203,
   "id": "9b7c08b4",
   "metadata": {},
   "outputs": [],
   "source": [
    "def test_all_combinations(number_of_iterations):\n",
    "    levels = [7, 14]\n",
    "    no_of_variants = [5, 10, 15, 20, 25, 30]\n",
    "    modes = ['random', 'preference', 'demanding', 'preference+demanding', 'demanding+preference']\n",
    "    \n",
    "    results = []\n",
    "    \n",
    "    result_dict_fixed_providers = {}\n",
    "    result_dict_fixed_microcells = {}\n",
    "    \n",
    "    for level in levels:    \n",
    "        for variant_number in no_of_variants:\n",
    "            for mode in modes:\n",
    "                start_time = time.time()\n",
    "                \n",
    "                EU_providers, FR_providers, C_providers, T_providers = experiment(15, variant_number, mode, level, number_of_iterations)\n",
    "\n",
    "                EU_tag = '{}_{}_{}_{}_EU'.format(level, 15, variant_number, mode)\n",
    "                FR_tag = '{}_{}_{}_{}_FR'.format(level, 15, variant_number, mode)\n",
    "                C_tag = '{}_{}_{}_{}_C'.format(level, 15, variant_number, mode)\n",
    "                T_tag = '{}_{}_{}_{}_T'.format(level, 15, variant_number, mode)\n",
    "                result_dict_fixed_providers[EU_tag] = EU_providers\n",
    "                result_dict_fixed_providers[FR_tag] = FR_providers\n",
    "                result_dict_fixed_providers[C_tag] = C_providers\n",
    "                result_dict_fixed_providers[T_tag] = T_providers\n",
    "\n",
    "                EU_microcells, FR_microcells, C_microcells, T_microcells = experiment(variant_number, 15, mode, level, number_of_iterations)\n",
    "\n",
    "                EU_tag = '{}_{}_{}_{}_EU'.format(level, variant_number, 15, mode)\n",
    "                FR_tag = '{}_{}_{}_{}_FR'.format(level, variant_number, 15, mode)\n",
    "                C_tag = '{}_{}_{}_{}_C'.format(level, variant_number, 15, mode)\n",
    "                T_tag = '{}_{}_{}_{}_T'.format(level, variant_number, 15, mode)\n",
    "                result_dict_fixed_microcells[EU_tag] = EU_microcells\n",
    "                result_dict_fixed_microcells[FR_tag] = FR_microcells\n",
    "                result_dict_fixed_microcells[C_tag] = C_microcells\n",
    "                result_dict_fixed_microcells[T_tag] = T_microcells\n",
    "                \n",
    "                print(\"Finished 1 setup\")\n",
    "                print(\"Time taken: {:.2f}\".format((time.time()-start_time)/60))\n",
    "\n",
    "    return result_dict_fixed_providers, result_dict_fixed_microcells"
   ]
  },
  {
   "cell_type": "code",
   "execution_count": 397,
   "id": "2f5a4a77",
   "metadata": {},
   "outputs": [
    {
     "data": {
      "text/plain": [
       "(0.382464096749811, 0.5666666666666668)"
      ]
     },
     "execution_count": 397,
     "metadata": {},
     "output_type": "execute_result"
    }
   ],
   "source": [
    "experiment(5, 5, 'demanding+preference', 7, 1)"
   ]
  },
  {
   "cell_type": "code",
   "execution_count": 309,
   "id": "f090b2bd",
   "metadata": {},
   "outputs": [
    {
     "name": "stdout",
     "output_type": "stream",
     "text": [
      "Finished 1 setup\n",
      "Time taken: 0.00\n",
      "Finished 1 setup\n",
      "Time taken: 0.00\n",
      "Finished 1 setup\n",
      "Time taken: 0.00\n",
      "Finished 1 setup\n",
      "Time taken: 0.00\n",
      "Finished 1 setup\n",
      "Time taken: 0.01\n",
      "Finished 1 setup\n",
      "Time taken: 0.00\n",
      "Finished 1 setup\n",
      "Time taken: 0.00\n",
      "Finished 1 setup\n",
      "Time taken: 0.01\n",
      "Finished 1 setup\n",
      "Time taken: 0.01\n",
      "Finished 1 setup\n",
      "Time taken: 0.01\n",
      "Finished 1 setup\n",
      "Time taken: 0.01\n",
      "Finished 1 setup\n",
      "Time taken: 0.01\n",
      "Finished 1 setup\n",
      "Time taken: 0.01\n",
      "Finished 1 setup\n",
      "Time taken: 0.01\n",
      "Finished 1 setup\n",
      "Time taken: 0.01\n",
      "Finished 1 setup\n",
      "Time taken: 0.01\n",
      "Finished 1 setup\n",
      "Time taken: 0.01\n",
      "Finished 1 setup\n",
      "Time taken: 0.01\n",
      "Finished 1 setup\n",
      "Time taken: 0.01\n",
      "Finished 1 setup\n",
      "Time taken: 0.01\n",
      "Finished 1 setup\n",
      "Time taken: 0.01\n",
      "Finished 1 setup\n",
      "Time taken: 0.01\n",
      "Finished 1 setup\n",
      "Time taken: 0.01\n",
      "Finished 1 setup\n",
      "Time taken: 0.01\n",
      "Finished 1 setup\n",
      "Time taken: 0.01\n",
      "Finished 1 setup\n",
      "Time taken: 0.01\n",
      "Finished 1 setup\n",
      "Time taken: 0.01\n",
      "Finished 1 setup\n",
      "Time taken: 0.01\n",
      "Finished 1 setup\n",
      "Time taken: 0.01\n",
      "Finished 1 setup\n",
      "Time taken: 0.01\n",
      "Finished 1 setup\n",
      "Time taken: 0.00\n",
      "Finished 1 setup\n",
      "Time taken: 0.00\n",
      "Finished 1 setup\n",
      "Time taken: 0.00\n",
      "Finished 1 setup\n",
      "Time taken: 0.00\n",
      "Finished 1 setup\n",
      "Time taken: 0.01\n",
      "Finished 1 setup\n",
      "Time taken: 0.01\n",
      "Finished 1 setup\n",
      "Time taken: 0.00\n",
      "Finished 1 setup\n",
      "Time taken: 0.01\n",
      "Finished 1 setup\n",
      "Time taken: 0.01\n",
      "Finished 1 setup\n",
      "Time taken: 0.01\n",
      "Finished 1 setup\n",
      "Time taken: 0.01\n",
      "Finished 1 setup\n",
      "Time taken: 0.01\n",
      "Finished 1 setup\n",
      "Time taken: 0.01\n",
      "Finished 1 setup\n",
      "Time taken: 0.01\n",
      "Finished 1 setup\n",
      "Time taken: 0.01\n",
      "Finished 1 setup\n",
      "Time taken: 0.01\n",
      "Finished 1 setup\n",
      "Time taken: 0.01\n",
      "Finished 1 setup\n",
      "Time taken: 0.01\n",
      "Finished 1 setup\n",
      "Time taken: 0.01\n",
      "Finished 1 setup\n",
      "Time taken: 0.01\n",
      "Finished 1 setup\n",
      "Time taken: 0.01\n",
      "Finished 1 setup\n",
      "Time taken: 0.01\n",
      "Finished 1 setup\n",
      "Time taken: 0.01\n",
      "Finished 1 setup\n",
      "Time taken: 0.01\n",
      "Finished 1 setup\n",
      "Time taken: 0.01\n",
      "Finished 1 setup\n",
      "Time taken: 0.01\n",
      "Finished 1 setup\n",
      "Time taken: 0.01\n",
      "Finished 1 setup\n",
      "Time taken: 0.01\n",
      "Finished 1 setup\n",
      "Time taken: 0.01\n",
      "Finished 1 setup\n",
      "Time taken: 0.01\n"
     ]
    }
   ],
   "source": [
    "result_dict_fixed_providers, result_dict_fixed_microcells = test_all_combinations(1000)"
   ]
  },
  {
   "cell_type": "code",
   "execution_count": 312,
   "id": "d3aeb830",
   "metadata": {},
   "outputs": [
    {
     "data": {
      "text/plain": [
       "{'7_5_15_random_EU': 0.9999138656221971,\n",
       " '7_5_15_random_FR': 0.07810699432414059,\n",
       " '7_5_15_random_C': 47.13684,\n",
       " '7_5_15_random_T': 0.00010199880599975586,\n",
       " '7_5_15_preference_EU': 0.8884123406939423,\n",
       " '7_5_15_preference_FR': 0.06970953558416187,\n",
       " '7_5_15_preference_C': 15.768904522613065,\n",
       " '7_5_15_preference_T': 9.298110008239746e-05,\n",
       " '7_5_15_demanding_EU': 1.0,\n",
       " '7_5_15_demanding_FR': 0.07829030048395788,\n",
       " '7_5_15_demanding_C': 47.40809,\n",
       " '7_5_15_demanding_T': 0.00011503076553344726,\n",
       " '7_5_15_preference+demanding_EU': 0.9959154556973462,\n",
       " '7_5_15_preference+demanding_FR': 0.07763247778329077,\n",
       " '7_5_15_preference+demanding_C': 19.367459999999998,\n",
       " '7_5_15_preference+demanding_T': 0.00010296487808227539,\n",
       " '7_5_15_demanding+preference_EU': 0.9998530026648189,\n",
       " '7_5_15_demanding+preference_FR': 0.0781858839147163,\n",
       " '7_5_15_demanding+preference_C': 29.859170000000002,\n",
       " '7_5_15_demanding+preference_T': 0.00013400053977966308,\n",
       " '7_10_15_random_EU': 0.9972478088357436,\n",
       " '7_10_15_random_FR': 0.15516042252375006,\n",
       " '7_10_15_random_C': 94.11556999999999,\n",
       " '7_10_15_random_T': 0.00013200163841247558,\n",
       " '7_10_15_preference_EU': 0.8584359458289027,\n",
       " '7_10_15_preference_FR': 0.13421708698336393,\n",
       " '7_10_15_preference_C': 30.695325325325324,\n",
       " '7_10_15_preference_T': 0.00012799930572509767,\n",
       " '7_10_15_demanding_EU': 1.0,\n",
       " '7_10_15_demanding_FR': 0.15595618465991393,\n",
       " '7_10_15_demanding_C': 94.83163,\n",
       " '7_10_15_demanding_T': 0.00015399861335754395,\n",
       " '7_10_15_preference+demanding_EU': 0.964697371597874,\n",
       " '7_10_15_preference+demanding_FR': 0.15019887962181427,\n",
       " '7_10_15_preference+demanding_C': 37.71856,\n",
       " '7_10_15_preference+demanding_T': 0.00015803122520446778,\n",
       " '7_10_15_demanding+preference_EU': 0.9987894909500747,\n",
       " '7_10_15_demanding+preference_FR': 0.1561410701335032,\n",
       " '7_10_15_demanding+preference_C': 59.98431,\n",
       " '7_10_15_demanding+preference_T': 0.00019101524353027345,\n",
       " '7_15_15_random_EU': 0.9928336633538144,\n",
       " '7_15_15_random_FR': 0.23248432735485247,\n",
       " '7_15_15_random_C': 141.35684,\n",
       " '7_15_15_random_T': 0.0001739974021911621,\n",
       " '7_15_15_preference_EU': 0.8046809751015624,\n",
       " '7_15_15_preference_FR': 0.18712245540152297,\n",
       " '7_15_15_preference_C': 43.51303303303304,\n",
       " '7_15_15_preference_T': 0.0001569681167602539,\n",
       " '7_15_15_demanding_EU': 1.0,\n",
       " '7_15_15_demanding_FR': 0.2340657872529154,\n",
       " '7_15_15_demanding_C': 141.89386000000002,\n",
       " '7_15_15_demanding_T': 0.00019905519485473633,\n",
       " '7_15_15_preference+demanding_EU': 0.9071468497319126,\n",
       " '7_15_15_preference+demanding_FR': 0.21163961220551897,\n",
       " '7_15_15_preference+demanding_C': 53.56699,\n",
       " '7_15_15_preference+demanding_T': 0.0002019648551940918,\n",
       " '7_15_15_demanding+preference_EU': 0.9974118590976889,\n",
       " '7_15_15_demanding+preference_FR': 0.23438968566861476,\n",
       " '7_15_15_demanding+preference_C': 92.3161,\n",
       " '7_15_15_demanding+preference_T': 0.0002500128746032715,\n",
       " '7_20_15_random_EU': 0.9841448475719762,\n",
       " '7_20_15_random_FR': 0.30905166518937083,\n",
       " '7_20_15_random_C': 188.74859000000004,\n",
       " '7_20_15_random_T': 0.00020205950736999512,\n",
       " '7_20_15_preference_EU': 0.7528980663984397,\n",
       " '7_20_15_preference_FR': 0.23462345565786624,\n",
       " '7_20_15_preference_C': 54.910779999999995,\n",
       " '7_20_15_preference_T': 0.0002200770378112793,\n",
       " '7_20_15_demanding_EU': 1.0,\n",
       " '7_20_15_demanding_FR': 0.3122084722958995,\n",
       " '7_20_15_demanding_C': 188.37397,\n",
       " '7_20_15_demanding_T': 0.00024699950218200683,\n",
       " '7_20_15_preference+demanding_EU': 0.8567654073635772,\n",
       " '7_20_15_preference+demanding_FR': 0.2670494894973649,\n",
       " '7_20_15_preference+demanding_C': 67.87984,\n",
       " '7_20_15_preference+demanding_T': 0.00023999953269958495,\n",
       " '7_20_15_demanding+preference_EU': 0.9944837250539124,\n",
       " '7_20_15_demanding+preference_FR': 0.3112551090502371,\n",
       " '7_20_15_demanding+preference_C': 123.4106,\n",
       " '7_20_15_demanding+preference_T': 0.00032898497581481935,\n",
       " '7_25_15_random_EU': 0.9724869867690642,\n",
       " '7_25_15_random_FR': 0.37822950436658537,\n",
       " '7_25_15_random_C': 233.27572999999998,\n",
       " '7_25_15_random_T': 0.00022296595573425293,\n",
       " '7_25_15_preference_EU': 0.6993018257462511,\n",
       " '7_25_15_preference_FR': 0.27260069496261585,\n",
       " '7_25_15_preference_C': 64.54175,\n",
       " '7_25_15_preference_T': 0.00023900198936462402,\n",
       " '7_25_15_demanding_EU': 1.0,\n",
       " '7_25_15_demanding_FR': 0.3909456573466847,\n",
       " '7_25_15_demanding_C': 236.931,\n",
       " '7_25_15_demanding_T': 0.00029796528816223146,\n",
       " '7_25_15_preference+demanding_EU': 0.7971677003551969,\n",
       " '7_25_15_preference+demanding_FR': 0.3108043939446304,\n",
       " '7_25_15_preference+demanding_C': 80.27558,\n",
       " '7_25_15_preference+demanding_T': 0.00028896641731262205,\n",
       " '7_25_15_demanding+preference_EU': 0.9905445706226296,\n",
       " '7_25_15_demanding+preference_FR': 0.386885477673394,\n",
       " '7_25_15_demanding+preference_C': 156.98563000000001,\n",
       " '7_25_15_demanding+preference_T': 0.000428041934967041,\n",
       " '7_30_15_random_EU': 0.9573014685176274,\n",
       " '7_30_15_random_FR': 0.4481280636927562,\n",
       " '7_30_15_random_C': 276.91515000000004,\n",
       " '7_30_15_random_T': 0.00026200056076049807,\n",
       " '7_30_15_preference_EU': 0.6427540631972974,\n",
       " '7_30_15_preference_FR': 0.3015304544174708,\n",
       " '7_30_15_preference_C': 71.93876000000002,\n",
       " '7_30_15_preference_T': 0.00027000093460083005,\n",
       " '7_30_15_demanding_EU': 1.0,\n",
       " '7_30_15_demanding_FR': 0.4677680650964278,\n",
       " '7_30_15_demanding_C': 283.48487,\n",
       " '7_30_15_demanding_T': 0.00033400273323059085,\n",
       " '7_30_15_preference+demanding_EU': 0.7408230053939837,\n",
       " '7_30_15_preference+demanding_FR': 0.34471808488150973,\n",
       " '7_30_15_preference+demanding_C': 89.58585000000001,\n",
       " '7_30_15_preference+demanding_T': 0.0003419907093048096,\n",
       " '7_30_15_demanding+preference_EU': 0.9838216921221663,\n",
       " '7_30_15_demanding+preference_FR': 0.45951155079813966,\n",
       " '7_30_15_demanding+preference_C': 192.04576,\n",
       " '7_30_15_demanding+preference_T': 0.000472012996673584,\n",
       " '14_5_15_random_EU': 0.9997698746281646,\n",
       " '14_5_15_random_FR': 0.07838873207559333,\n",
       " '14_5_15_random_C': 51.126839999999994,\n",
       " '14_5_15_random_T': 9.203696250915527e-05,\n",
       " '14_5_15_preference_EU': 0.676104084382652,\n",
       " '14_5_15_preference_FR': 0.05227109049286979,\n",
       " '14_5_15_preference_C': 12.421477987421383,\n",
       " '14_5_15_preference_T': 9.099793434143066e-05,\n",
       " '14_5_15_demanding_EU': 1.0,\n",
       " '14_5_15_demanding_FR': 0.07872713674890539,\n",
       " '14_5_15_demanding_C': 51.37093,\n",
       " '14_5_15_demanding_T': 9.996533393859864e-05,\n",
       " '14_5_15_preference+demanding_EU': 0.9853641782408099,\n",
       " '14_5_15_preference+demanding_FR': 0.07683057544025294,\n",
       " '14_5_15_preference+demanding_C': 24.189960000000003,\n",
       " '14_5_15_preference+demanding_T': 0.00010995340347290039,\n",
       " '14_5_15_demanding+preference_EU': 0.99923235912456,\n",
       " '14_5_15_demanding+preference_FR': 0.0778636452897877,\n",
       " '14_5_15_demanding+preference_C': 31.589129999999997,\n",
       " '14_5_15_demanding+preference_T': 0.00013299942016601563,\n",
       " '14_10_15_random_EU': 0.9985748892864049,\n",
       " '14_10_15_random_FR': 0.15571859863685727,\n",
       " '14_10_15_random_C': 101.16470999999999,\n",
       " '14_10_15_random_T': 0.00015000224113464355,\n",
       " '14_10_15_preference_EU': 0.6002652558583128,\n",
       " '14_10_15_preference_FR': 0.09348830489786479,\n",
       " '14_10_15_preference_C': 22.45914078674948,\n",
       " '14_10_15_preference_T': 0.00011696767807006836,\n",
       " '14_10_15_demanding_EU': 1.0,\n",
       " '14_10_15_demanding_FR': 0.156267635394061,\n",
       " '14_10_15_demanding_C': 101.86113,\n",
       " '14_10_15_demanding_T': 0.000156998872756958,\n",
       " '14_10_15_preference+demanding_EU': 0.9187763840480475,\n",
       " '14_10_15_preference+demanding_FR': 0.1427435204798393,\n",
       " '14_10_15_preference+demanding_C': 46.93918000000001,\n",
       " '14_10_15_preference+demanding_T': 0.00016401338577270508,\n",
       " '14_10_15_demanding+preference_EU': 0.991981748786798,\n",
       " '14_10_15_demanding+preference_FR': 0.1554136053106769,\n",
       " '14_10_15_demanding+preference_C': 65.04678,\n",
       " '14_10_15_demanding+preference_T': 0.00021903491020202636,\n",
       " '14_15_15_random_EU': 0.9927739378656358,\n",
       " '14_15_15_random_FR': 0.2309134484737619,\n",
       " '14_15_15_random_C': 151.12895999999998,\n",
       " '14_15_15_random_T': 0.00016400957107543944,\n",
       " '14_15_15_preference_EU': 0.55610322184313,\n",
       " '14_15_15_preference_FR': 0.1300341754791607,\n",
       " '14_15_15_preference_C': 31.234821973550357,\n",
       " '14_15_15_preference_T': 0.00015898728370666504,\n",
       " '14_15_15_demanding_EU': 1.0,\n",
       " '14_15_15_demanding_FR': 0.23442372554984311,\n",
       " '14_15_15_demanding_C': 151.44063,\n",
       " '14_15_15_demanding_T': 0.00021699976921081543,\n",
       " '14_15_15_preference+demanding_EU': 0.8303721836371071,\n",
       " '14_15_15_preference+demanding_FR': 0.19471889124109168,\n",
       " '14_15_15_preference+demanding_C': 64.9864,\n",
       " '14_15_15_preference+demanding_T': 0.0002029883861541748,\n",
       " '14_15_15_demanding+preference_EU': 0.9875192395867338,\n",
       " '14_15_15_demanding+preference_FR': 0.23109581658044767,\n",
       " '14_15_15_demanding+preference_C': 98.75218,\n",
       " '14_15_15_demanding+preference_T': 0.00028099727630615234,\n",
       " '14_20_15_random_EU': 0.9857845903845394,\n",
       " '14_20_15_random_FR': 0.30752386941752163,\n",
       " '14_20_15_random_C': 201.18731,\n",
       " '14_20_15_random_T': 0.00019903373718261719,\n",
       " '14_20_15_preference_EU': 0.48757351519189684,\n",
       " '14_20_15_preference_FR': 0.15195472534347748,\n",
       " '14_20_15_preference_C': 36.527737373737374,\n",
       " '14_20_15_preference_T': 0.00017202329635620118,\n",
       " '14_20_15_demanding_EU': 1.0,\n",
       " '14_20_15_demanding_FR': 0.3126172897420898,\n",
       " '14_20_15_demanding_C': 202.78322999999997,\n",
       " '14_20_15_demanding_T': 0.00027103400230407714,\n",
       " '14_20_15_preference+demanding_EU': 0.7619030628789635,\n",
       " '14_20_15_preference+demanding_FR': 0.23598870995678953,\n",
       " '14_20_15_preference+demanding_C': 81.38167000000001,\n",
       " '14_20_15_preference+demanding_T': 0.00026297616958618163,\n",
       " '14_20_15_demanding+preference_EU': 0.9808956365530823,\n",
       " '14_20_15_demanding+preference_FR': 0.30572667874231446,\n",
       " '14_20_15_demanding+preference_C': 135.96089,\n",
       " '14_20_15_demanding+preference_T': 0.0004079999923706055,\n",
       " '14_25_15_random_EU': 0.9744184153853205,\n",
       " '14_25_15_random_FR': 0.3810588127402753,\n",
       " '14_25_15_random_C': 250.59855,\n",
       " '14_25_15_random_T': 0.00024200201034545898,\n",
       " '14_25_15_preference_EU': 0.43446041838995714,\n",
       " '14_25_15_preference_FR': 0.16888290960806082,\n",
       " '14_25_15_preference_C': 40.87352169525732,\n",
       " '14_25_15_preference_T': 0.00026900196075439455,\n",
       " '14_25_15_demanding_EU': 1.0,\n",
       " '14_25_15_demanding_FR': 0.38968666654985706,\n",
       " '14_25_15_demanding_C': 253.98658,\n",
       " '14_25_15_demanding_T': 0.0003600385189056397,\n",
       " '14_25_15_preference+demanding_EU': 0.6993627000517604,\n",
       " '14_25_15_preference+demanding_FR': 0.27160484496187676,\n",
       " '14_25_15_preference+demanding_C': 97.87457,\n",
       " '14_25_15_preference+demanding_T': 0.0003400282859802246,\n",
       " '14_25_15_demanding+preference_EU': 0.9752361046669764,\n",
       " '14_25_15_demanding+preference_FR': 0.3794005736765811,\n",
       " '14_25_15_demanding+preference_C': 173.42122999999998,\n",
       " '14_25_15_demanding+preference_T': 0.00047199845314025877,\n",
       " '14_30_15_random_EU': 0.9576315793491041,\n",
       " '14_30_15_random_FR': 0.4468306538364949,\n",
       " '14_30_15_random_C': 296.39070999999996,\n",
       " '14_30_15_random_T': 0.00028797340393066405,\n",
       " '14_30_15_preference_EU': 0.3958121464467128,\n",
       " '14_30_15_preference_FR': 0.18439822246772222,\n",
       " '14_30_15_preference_C': 45.140556680161936,\n",
       " '14_30_15_preference_T': 0.00028999900817871095,\n",
       " '14_30_15_demanding_EU': 1.0,\n",
       " '14_30_15_demanding_FR': 0.4670774119311479,\n",
       " '14_30_15_demanding_C': 305.1824,\n",
       " '14_30_15_demanding_T': 0.0003299992084503174,\n",
       " '14_30_15_preference+demanding_EU': 0.6354116410638944,\n",
       " '14_30_15_preference+demanding_FR': 0.29652820310825617,\n",
       " '14_30_15_preference+demanding_C': 106.59631999999999,\n",
       " '14_30_15_preference+demanding_T': 0.0003190281391143799,\n",
       " '14_30_15_demanding+preference_EU': 0.9704850388634277,\n",
       " '14_30_15_demanding+preference_FR': 0.4525825804120544,\n",
       " '14_30_15_demanding+preference_C': 216.82148,\n",
       " '14_30_15_demanding+preference_T': 0.000513063907623291}"
      ]
     },
     "execution_count": 312,
     "metadata": {},
     "output_type": "execute_result"
    }
   ],
   "source": [
    "result_dict_fixed_microcells"
   ]
  },
  {
   "cell_type": "code",
   "execution_count": 313,
   "id": "950b7479",
   "metadata": {
    "scrolled": true
   },
   "outputs": [
    {
     "name": "stdout",
     "output_type": "stream",
     "text": [
      "0.9999138656221971\t0.07810699432414059\t47.13684\t0.00010199880599975586\t0.8884123406939423\t0.06970953558416187\t15.768904522613065\t9.298110008239746e-05\t1.0\t0.07829030048395788\t47.40809\t0.00011503076553344726\t0.9959154556973462\t0.07763247778329077\t19.367459999999998\t0.00010296487808227539\t0.9998530026648189\t0.0781858839147163\t29.859170000000002\t0.00013400053977966308\n",
      "0.9972478088357436\t0.15516042252375006\t94.11556999999999\t0.00013200163841247558\t0.8584359458289027\t0.13421708698336393\t30.695325325325324\t0.00012799930572509767\t1.0\t0.15595618465991393\t94.83163\t0.00015399861335754395\t0.964697371597874\t0.15019887962181427\t37.71856\t0.00015803122520446778\t0.9987894909500747\t0.1561410701335032\t59.98431\t0.00019101524353027345\n",
      "0.9928336633538144\t0.23248432735485247\t141.35684\t0.0001739974021911621\t0.8046809751015624\t0.18712245540152297\t43.51303303303304\t0.0001569681167602539\t1.0\t0.2340657872529154\t141.89386000000002\t0.00019905519485473633\t0.9071468497319126\t0.21163961220551897\t53.56699\t0.0002019648551940918\t0.9974118590976889\t0.23438968566861476\t92.3161\t0.0002500128746032715\n",
      "0.9841448475719762\t0.30905166518937083\t188.74859000000004\t0.00020205950736999512\t0.7528980663984397\t0.23462345565786624\t54.910779999999995\t0.0002200770378112793\t1.0\t0.3122084722958995\t188.37397\t0.00024699950218200683\t0.8567654073635772\t0.2670494894973649\t67.87984\t0.00023999953269958495\t0.9944837250539124\t0.3112551090502371\t123.4106\t0.00032898497581481935\n",
      "0.9724869867690642\t0.37822950436658537\t233.27572999999998\t0.00022296595573425293\t0.6993018257462511\t0.27260069496261585\t64.54175\t0.00023900198936462402\t1.0\t0.3909456573466847\t236.931\t0.00029796528816223146\t0.7971677003551969\t0.3108043939446304\t80.27558\t0.00028896641731262205\t0.9905445706226296\t0.386885477673394\t156.98563000000001\t0.000428041934967041\n",
      "0.9573014685176274\t0.4481280636927562\t276.91515000000004\t0.00026200056076049807\t0.6427540631972974\t0.3015304544174708\t71.93876000000002\t0.00027000093460083005\t1.0\t0.4677680650964278\t283.48487\t0.00033400273323059085\t0.7408230053939837\t0.34471808488150973\t89.58585000000001\t0.0003419907093048096\t0.9838216921221663\t0.45951155079813966\t192.04576\t0.000472012996673584\n",
      "0.9997698746281646\t0.07838873207559333\t51.126839999999994\t9.203696250915527e-05\t0.676104084382652\t0.05227109049286979\t12.421477987421383\t9.099793434143066e-05\t1.0\t0.07872713674890539\t51.37093\t9.996533393859864e-05\t0.9853641782408099\t0.07683057544025294\t24.189960000000003\t0.00010995340347290039\t0.99923235912456\t0.0778636452897877\t31.589129999999997\t0.00013299942016601563\n",
      "0.9985748892864049\t0.15571859863685727\t101.16470999999999\t0.00015000224113464355\t0.6002652558583128\t0.09348830489786479\t22.45914078674948\t0.00011696767807006836\t1.0\t0.156267635394061\t101.86113\t0.000156998872756958\t0.9187763840480475\t0.1427435204798393\t46.93918000000001\t0.00016401338577270508\t0.991981748786798\t0.1554136053106769\t65.04678\t0.00021903491020202636\n",
      "0.9927739378656358\t0.2309134484737619\t151.12895999999998\t0.00016400957107543944\t0.55610322184313\t0.1300341754791607\t31.234821973550357\t0.00015898728370666504\t1.0\t0.23442372554984311\t151.44063\t0.00021699976921081543\t0.8303721836371071\t0.19471889124109168\t64.9864\t0.0002029883861541748\t0.9875192395867338\t0.23109581658044767\t98.75218\t0.00028099727630615234\n",
      "0.9857845903845394\t0.30752386941752163\t201.18731\t0.00019903373718261719\t0.48757351519189684\t0.15195472534347748\t36.527737373737374\t0.00017202329635620118\t1.0\t0.3126172897420898\t202.78322999999997\t0.00027103400230407714\t0.7619030628789635\t0.23598870995678953\t81.38167000000001\t0.00026297616958618163\t0.9808956365530823\t0.30572667874231446\t135.96089\t0.0004079999923706055\n",
      "0.9744184153853205\t0.3810588127402753\t250.59855\t0.00024200201034545898\t0.43446041838995714\t0.16888290960806082\t40.87352169525732\t0.00026900196075439455\t1.0\t0.38968666654985706\t253.98658\t0.0003600385189056397\t0.6993627000517604\t0.27160484496187676\t97.87457\t0.0003400282859802246\t0.9752361046669764\t0.3794005736765811\t173.42122999999998\t0.00047199845314025877\n",
      "0.9576315793491041\t0.4468306538364949\t296.39070999999996\t0.00028797340393066405\t0.3958121464467128\t0.18439822246772222\t45.140556680161936\t0.00028999900817871095\t1.0\t0.4670774119311479\t305.1824\t0.0003299992084503174\t0.6354116410638944\t0.29652820310825617\t106.59631999999999\t0.0003190281391143799\t0.9704850388634277\t0.4525825804120544\t216.82148\t0.000513063907623291\n"
     ]
    }
   ],
   "source": [
    "counter = 1\n",
    "\n",
    "for i in result_dict_fixed_microcells.values():\n",
    "    if counter % 20 == 0:\n",
    "        print(i)\n",
    "    else:\n",
    "        print(i ,end='\\t')\n",
    "    counter += 1"
   ]
  },
  {
   "cell_type": "code",
   "execution_count": 8,
   "id": "5af4b90b",
   "metadata": {},
   "outputs": [],
   "source": [
    "providers_probabilistic_patterns, providers_availability, microcell_preference_dict, microcell_location_request_dict, request_sum = initialise_all_stuff(5, 10, 7)"
   ]
  },
  {
   "cell_type": "code",
   "execution_count": 79,
   "id": "a6d6f88b",
   "metadata": {},
   "outputs": [
    {
     "data": {
      "text/plain": [
       "[212, 325, 271, 479, 416]"
      ]
     },
     "execution_count": 79,
     "metadata": {},
     "output_type": "execute_result"
    }
   ],
   "source": [
    "providers_availability"
   ]
  },
  {
   "cell_type": "code",
   "execution_count": 73,
   "id": "749a9d07",
   "metadata": {},
   "outputs": [
    {
     "data": {
      "text/plain": [
       "{0: {'request': 1030, 'category': 'E'},\n",
       " 1: {'request': 1223, 'category': 'E'},\n",
       " 2: {'request': 1517, 'category': 'Sh'},\n",
       " 3: {'request': 1027, 'category': 'Ent'},\n",
       " 4: {'request': 1203, 'category': 'Ent'},\n",
       " 5: {'request': 1665, 'category': 'F'},\n",
       " 6: {'request': 1558, 'category': 'F'},\n",
       " 7: {'request': 1225, 'category': 'Out'},\n",
       " 8: {'request': 1603, 'category': 'Out'},\n",
       " 9: {'request': 1828, 'category': 'Edu'}}"
      ]
     },
     "execution_count": 73,
     "metadata": {},
     "output_type": "execute_result"
    }
   ],
   "source": [
    "microcell_location_request_dict # Total demand 13879"
   ]
  },
  {
   "cell_type": "code",
   "execution_count": 21,
   "id": "ab9dda6d",
   "metadata": {},
   "outputs": [
    {
     "data": {
      "text/plain": [
       "[[{'O': 0.49, 'Sh': 0.51}],\n",
       " [{'O': 1.0}],\n",
       " [{'E': 0.55, 'Sh': 0.21, 'O': 0.24},\n",
       "  {'Sh': 0.21, 'E': 0.67, 'O': 0.12},\n",
       "  {'E': 0.72, 'Sh': 0.24, 'O': 0.04},\n",
       "  {'E': 0.82, 'Sh': 0.18},\n",
       "  {'E': 0.81, 'Sh': 0.19},\n",
       "  {'E': 1.0}],\n",
       " [{'O': 0.77, 'Sh': 0.23}, {'O': 1.0}],\n",
       " [{'Sh': 0.38, 'E': 0.32, 'Edu': 0.3}]]"
      ]
     },
     "execution_count": 21,
     "metadata": {},
     "output_type": "execute_result"
    }
   ],
   "source": [
    "providers_probabilistic_patterns"
   ]
  },
  {
   "cell_type": "code",
   "execution_count": 22,
   "id": "7413409f",
   "metadata": {},
   "outputs": [
    {
     "data": {
      "text/plain": [
       "[[('Sh', 0.51), ('O', 0.49)],\n",
       " [('O', 1.0)],\n",
       " [('E', 0.55), ('O', 0.24), ('Sh', 0.21)],\n",
       " [('O', 0.77), ('Sh', 0.23)],\n",
       " [('Sh', 0.38), ('E', 0.32), ('Edu', 0.3)]]"
      ]
     },
     "execution_count": 22,
     "metadata": {},
     "output_type": "execute_result"
    }
   ],
   "source": [
    "provider_probabilistic_pattern_timestep_1 = [sorted(providers_probabilistic_patterns[i][0].items(), key=lambda item: item[1], reverse=True) for i in range(len(providers_probabilistic_patterns))]\n",
    "provider_probabilistic_pattern_timestep_1"
   ]
  },
  {
   "cell_type": "code",
   "execution_count": 143,
   "id": "656e95f8",
   "metadata": {},
   "outputs": [],
   "source": [
    "import numpy as np\n",
    "\n",
    "from pymoo.algorithms.moo.nsga2 import NSGA2\n",
    "from pymoo.core.problem import ElementwiseProblem\n",
    "from pymoo.factory import get_sampling, get_crossover, get_mutation\n",
    "from pymoo.optimize import minimize\n",
    "from pymoo.visualization.scatter import Scatter\n",
    "import copy\n",
    "import time\n",
    "\n",
    "\n",
    "class ServiceAllocationProblem(ElementwiseProblem):\n",
    "\n",
    "    def __init__(self, providers_probabilistic_patterns, providers_availability, microcell_location_request_dict, providers_no, microcell_no):\n",
    "        super().__init__(n_var=providers_no,\n",
    "                         n_obj=2,\n",
    "                         n_constr=0,\n",
    "                         xl=np.array([0] * providers_no),\n",
    "                         xu=np.array([microcell_no - 1] * providers_no))\n",
    "        self.providers_availability = providers_availability\n",
    "        self.total_available_energy = np.sum(providers_availability)\n",
    "        self.providers_probabilistic_patterns = providers_probabilistic_patterns\n",
    "        self.microcell_location_request_dict = microcell_location_request_dict\n",
    "        \n",
    "        self.total_demand = 0\n",
    "        for i in range(len(self.microcell_location_request_dict)):\n",
    "            self.total_demand += self.microcell_location_request_dict[i]['request']\n",
    "\n",
    "    def _evaluate(self, x, out, *args, **kwargs):\n",
    "        f1 = 0\n",
    "        f2 = 0\n",
    "        total_demand = 0\n",
    "        total_fulfilled_energy = 0\n",
    "        \n",
    "        microcell_loc_req_dict = copy.deepcopy(self.microcell_location_request_dict)\n",
    "        \n",
    "        # Maxmize the energy fulfillment across the microcell\n",
    "        for i in range(len(x)):\n",
    "            request = microcell_loc_req_dict[x[i]]['request']\n",
    "            loc_category = microcell_loc_req_dict[x[i]]['category']\n",
    "            \n",
    "            provider_availability = self.providers_availability[i]\n",
    "            \n",
    "            if request > provider_availability:\n",
    "                total_fulfilled_energy += provider_availability\n",
    "                microcell_loc_req_dict[x[i]]['request'] = (request - provider_availability)\n",
    "            else:\n",
    "                total_fulfilled_energy += request\n",
    "                microcell_loc_req_dict[x[i]]['request'] = 0\n",
    "            \n",
    "            provider_preferences = self.providers_probabilistic_patterns[i]\n",
    "            preference_index = len(provider_preferences)+1\n",
    "            for k in range(len(provider_preferences)):\n",
    "                if loc_category == provider_preferences[k][0]:\n",
    "                    preference_index = k+1\n",
    "                \n",
    "                f2 += ((provider_availability / 100) * preference_index)\n",
    "        \n",
    "        f1 = (total_fulfilled_energy / self.total_demand) * -1\n",
    "\n",
    "        out[\"F\"] = [f1, f2]\n",
    "\n",
    "\n",
    "# start_time = time.time()\n",
    "# problem = ServiceAllocationProblem(provider_probabilistic_pattern_timestep_1, providers_availability, microcell_location_request_dict, 5, 10)\n",
    "\n",
    "# algorithm = NSGA2(\n",
    "#     pop_size=40,\n",
    "#     n_offsprings=40,\n",
    "#     sampling=get_sampling(\"int_random\"),\n",
    "#     crossover=get_crossover(\"int_sbx\", prob=0.5, eta=15),\n",
    "#     mutation=get_mutation(\"int_pm\", eta=20),\n",
    "#     eliminate_duplicates=True\n",
    "# )\n",
    "\n",
    "# res = minimize(problem,\n",
    "#                algorithm,\n",
    "#                verbose=True,\n",
    "#                seed=1,\n",
    "#                save_history=True)\n",
    "\n",
    "# print(time.time() - start_time)"
   ]
  },
  {
   "cell_type": "code",
   "execution_count": 68,
   "id": "18c7f160",
   "metadata": {},
   "outputs": [
    {
     "name": "stdout",
     "output_type": "stream",
     "text": [
      "31\n"
     ]
    }
   ],
   "source": [
    "print(len(res.history))"
   ]
  },
  {
   "cell_type": "code",
   "execution_count": 81,
   "id": "99e1c9de",
   "metadata": {},
   "outputs": [
    {
     "data": {
      "image/png": "[encoded data removed]",
      "text/plain": [
       "<Figure size 432x288 with 1 Axes>"
      ]
     },
     "metadata": {
      "needs_background": "light"
     },
     "output_type": "display_data"
    }
   ],
   "source": [
    "import matplotlib.pyplot as plt\n",
    "\n",
    "n_evals = np.array([e.evaluator.n_eval for e in res.history])\n",
    "opt = np.array([e.opt[0].F for e in res.history])\n",
    "\n",
    "plt.title(\"Convergence\")\n",
    "plt.plot(n_evals, opt, \"--\")\n",
    "plt.yscale(\"log\")\n",
    "plt.show()"
   ]
  },
  {
   "cell_type": "code",
   "execution_count": 82,
   "id": "282fb7f4",
   "metadata": {},
   "outputs": [],
   "source": [
    "X = res.X\n",
    "F = res.F"
   ]
  },
  {
   "cell_type": "code",
   "execution_count": 83,
   "id": "488ac11c",
   "metadata": {},
   "outputs": [
    {
     "data": {
      "text/plain": [
       "array([[-0.12270336,  4.        ],\n",
       "       [-0.12270336,  4.        ],\n",
       "       [-0.12270336,  4.        ],\n",
       "       [-0.12270336,  4.        ],\n",
       "       [-0.12270336,  4.        ],\n",
       "       [-0.12270336,  4.        ],\n",
       "       [-0.12270336,  4.        ],\n",
       "       [-0.12270336,  4.        ],\n",
       "       [-0.12270336,  4.        ],\n",
       "       [-0.12270336,  4.        ],\n",
       "       [-0.12270336,  4.        ],\n",
       "       [-0.12270336,  4.        ],\n",
       "       [-0.12270336,  4.        ],\n",
       "       [-0.12270336,  4.        ],\n",
       "       [-0.12270336,  4.        ],\n",
       "       [-0.12270336,  4.        ],\n",
       "       [-0.12270336,  4.        ],\n",
       "       [-0.12270336,  4.        ],\n",
       "       [-0.12270336,  4.        ],\n",
       "       [-0.12270336,  4.        ]])"
      ]
     },
     "execution_count": 83,
     "metadata": {},
     "output_type": "execute_result"
    }
   ],
   "source": [
    "F"
   ]
  },
  {
   "cell_type": "code",
   "execution_count": 122,
   "id": "de4668ed",
   "metadata": {},
   "outputs": [
    {
     "data": {
      "text/plain": [
       "array([2, 9, 0, 2, 2])"
      ]
     },
     "execution_count": 122,
     "metadata": {},
     "output_type": "execute_result"
    }
   ],
   "source": [
    "X"
   ]
  },
  {
   "cell_type": "code",
   "execution_count": 124,
   "id": "57d29dba",
   "metadata": {},
   "outputs": [
    {
     "name": "stdout",
     "output_type": "stream",
     "text": [
      "[([2, 9, 0, 2, 2], [-0.12270336479573456, 4.0]), ([2, 1, 1, 2, 2], [-0.12270336479573456, 4.0]), ([2, 8, 0, 2, 2], [-0.12270336479573456, 4.0]), ([2, 2, 1, 2, 2], [-0.12270336479573456, 4.0]), ([2, 4, 1, 2, 2], [-0.12270336479573456, 4.0]), ([2, 1, 0, 2, 2], [-0.12270336479573456, 4.0]), ([2, 9, 1, 2, 2], [-0.12270336479573456, 4.0]), ([2, 7, 1, 2, 2], [-0.12270336479573456, 4.0]), ([2, 7, 0, 2, 2], [-0.12270336479573456, 4.0]), ([2, 5, 0, 2, 2], [-0.12270336479573456, 4.0]), ([2, 4, 0, 2, 2], [-0.12270336479573456, 4.0]), ([2, 5, 1, 2, 2], [-0.12270336479573456, 4.0]), ([2, 8, 1, 2, 2], [-0.12270336479573456, 4.0]), ([2, 3, 1, 2, 2], [-0.12270336479573456, 4.0]), ([2, 6, 0, 2, 2], [-0.12270336479573456, 4.0]), ([2, 2, 0, 2, 2], [-0.12270336479573456, 4.0]), ([2, 0, 1, 2, 2], [-0.12270336479573456, 4.0]), ([2, 3, 0, 2, 2], [-0.12270336479573456, 4.0]), ([2, 0, 0, 2, 2], [-0.12270336479573456, 4.0]), ([2, 6, 1, 2, 2], [-0.12270336479573456, 4.0])]\n"
     ]
    }
   ],
   "source": [
    "sorted_list = [(x, f) for f, x in sorted(zip(F.tolist(), X.tolist()), key=lambda pair: pair[0])]\n",
    "print(sorted_list)"
   ]
  },
  {
   "cell_type": "code",
   "execution_count": 118,
   "id": "d74ff46f",
   "metadata": {},
   "outputs": [
    {
     "name": "stdout",
     "output_type": "stream",
     "text": [
      "[[1, 2], [1, 2], [1, 2], [1, 2]]\n",
      "(1, [1, 2])\n"
     ]
    }
   ],
   "source": [
    "list_b = [1, 2, 3, 4]\n",
    "list_a = [[1,2], [1, 2], [1, 2], [1, 2]]\n",
    "\n",
    "sorted_list = sorted(list_a, key=lambda x: (x[0], x[1]))\n",
    "print(sorted_list)\n",
    "sorted_zip = [(x,y) for y, x in sorted(zip(list_a, list_b), key=lambda pair: pair[0])]\n",
    "print(sorted_zip[0])"
   ]
  },
  {
   "cell_type": "code",
   "execution_count": 299,
   "id": "68355bcf",
   "metadata": {},
   "outputs": [],
   "source": [
    "def experiment_GA(providers_no, microcells_no, number_of_category, iterations):\n",
    "    energy_usage_record_list = []\n",
    "    fulfillment_ratio_record_list = []\n",
    "    cost_record_list = []\n",
    "    time_record_list = []\n",
    "    \n",
    "    for i in range(iterations):\n",
    "        start_time = time.time()\n",
    "        \n",
    "#         random.seed(i)\n",
    "        \n",
    "        providers_probabilistic_patterns, providers_availability, microcell_preference_dict, microcell_location_request_dict, request_sum = initialise_all_stuff(providers_no, microcells_no, number_of_category)\n",
    "        provider_probabilistic_pattern_timestep_1 = [sorted(providers_probabilistic_patterns[i][0].items(), key=lambda item: item[1], reverse=True) for i in range(len(providers_probabilistic_patterns))]\n",
    "        \n",
    "#         print(providers_probabilistic_patterns)\n",
    "#         print(\"providers\")\n",
    "#         print(provider_probabilistic_pattern_timestep_1)\n",
    "#         print(microcell_location_request_dict)\n",
    "#         print(\"microcells\")\n",
    "        \n",
    "#         print(i)\n",
    "#         print()\n",
    "        \n",
    "        problem = ServiceAllocationProblem(provider_probabilistic_pattern_timestep_1, providers_availability, microcell_location_request_dict, providers_no, microcells_no)\n",
    "\n",
    "        algorithm = NSGA2(\n",
    "                pop_size=40,\n",
    "                n_offsprings=40,\n",
    "                sampling=get_sampling(\"int_random\"),\n",
    "                crossover=get_crossover(\"int_sbx\", prob=0.5, eta=15),\n",
    "                mutation=get_mutation(\"int_pm\", eta=20),\n",
    "                eliminate_duplicates=True\n",
    "                )\n",
    "        res = minimize(problem,\n",
    "                       algorithm,\n",
    "                       save_history=True)\n",
    "        \n",
    "        \n",
    "        \n",
    "\n",
    "        EU, FR, C = evaluate_EU_FR_C_GA(res, microcell_location_request_dict, providers_availability)\n",
    "        energy_usage_record_list.append(EU)\n",
    "        fulfillment_ratio_record_list.append(FR)\n",
    "        cost_record_list.append(C)\n",
    "        time_record_list.append(time.time()-start_time)\n",
    "        \n",
    "    return np.mean(energy_usage_record_list), np.mean(fulfillment_ratio_record_list), np.mean(cost_record_list), np.mean(time_record_list)"
   ]
  },
  {
   "cell_type": "code",
   "execution_count": 300,
   "id": "39e45aaa",
   "metadata": {},
   "outputs": [],
   "source": [
    "def evaluate_EU_FR_C_GA(res, microcell_location_request_dict, providers_availability):\n",
    "    # Pick the best candidate in terms of FR and C\n",
    "    X = res.X # chromosomes\n",
    "    F = res.F # fitness score\n",
    "    sorted_list = [(x, f) for f, x in sorted(zip(F.tolist(), X.tolist()), key=lambda pair: pair[0])]\n",
    "    \n",
    "    best_chromosome_fitness = sorted_list[0]\n",
    "#     print(best_chromosome_fitness)\n",
    "    FR, C = best_chromosome_fitness[1][0] * -1, best_chromosome_fitness[1][1]\n",
    "    \n",
    "    # Evaluate the EU\n",
    "    total_fulfilled_energy = 0\n",
    "    total_available_energy = np.sum(providers_availability)\n",
    "    microcell_loc_req_dict = copy.deepcopy(microcell_location_request_dict)\n",
    "\n",
    "    # Maxmize the energy fulfillment across the microcell\n",
    "    x = best_chromosome_fitness[0]\n",
    "    for i in range(len(x)):\n",
    "#         print(x[i])\n",
    "        request = microcell_loc_req_dict[x[i]]['request']\n",
    "        provider_availability = providers_availability[i]\n",
    "\n",
    "        if request > provider_availability:\n",
    "            total_fulfilled_energy += provider_availability\n",
    "            microcell_loc_req_dict[x[i]]['request'] = (request - provider_availability)\n",
    "        else:\n",
    "            total_fulfilled_energy += request\n",
    "            microcell_loc_req_dict[x[i]]['request'] = 0\n",
    "            \n",
    "    EU = total_fulfilled_energy / total_available_energy\n",
    "    \n",
    "    return EU, FR, C"
   ]
  },
  {
   "cell_type": "code",
   "execution_count": 274,
   "id": "67cf95ea",
   "metadata": {},
   "outputs": [],
   "source": [
    "def test_all_combinations_genetic(number_of_iterations):\n",
    "    levels = [7]\n",
    "    no_of_variants = [5, 10, 15, 20, 25, 30]\n",
    "    \n",
    "    result_dict_fixed_providers_GA = {}\n",
    "    result_dict_fixed_microcells_GA = {}\n",
    "    \n",
    "    for level in levels:    \n",
    "        for variant_number in no_of_variants:\n",
    "            # Fixed the number of providers\n",
    "            \n",
    "            start_time = time.time()\n",
    "            \n",
    "            EU_providers, FR_providers, C_providers, T_providers = experiment_GA(15, variant_number, level, number_of_iterations)\n",
    "            EU_tag = '{}_{}_{}_{}_EU'.format(level, 15, variant_number, 'GA')\n",
    "            FR_tag = '{}_{}_{}_{}_FR'.format(level, 15, variant_number, 'GA')\n",
    "            C_tag = '{}_{}_{}_{}_C'.format(level, 15, variant_number, 'GA')\n",
    "            T_tag = '{}_{}_{}_{}_T'.format(level, 15, variant_number, 'GA')\n",
    "            result_dict_fixed_providers_GA[EU_tag] = EU_providers\n",
    "            result_dict_fixed_providers_GA[FR_tag] = FR_providers\n",
    "            result_dict_fixed_providers_GA[C_tag] = C_providers\n",
    "            result_dict_fixed_providers_GA[T_tag] = T_providers\n",
    "            \n",
    "            EU_microcells, FR_microcells, C_microcells, T_microcells = experiment_GA(variant_number, 15, level, number_of_iterations)\n",
    "\n",
    "            EU_tag = '{}_{}_{}_{}_EU'.format(level, variant_number, 15, 'GA')\n",
    "            FR_tag = '{}_{}_{}_{}_FR'.format(level, variant_number, 15, 'GA')\n",
    "            C_tag = '{}_{}_{}_{}_C'.format(level, variant_number, 15, 'GA')\n",
    "            T_tag = '{}_{}_{}_{}_T'.format(level, variant_number, 15, 'GA')\n",
    "            result_dict_fixed_microcells_GA[EU_tag] = EU_microcells\n",
    "            result_dict_fixed_microcells_GA[FR_tag] = FR_microcells\n",
    "            result_dict_fixed_microcells_GA[C_tag] = C_microcells\n",
    "            result_dict_fixed_microcells_GA[T_tag] = T_microcells\n",
    "            \n",
    "            print(\"Finished 1 setup\")\n",
    "            print(\"Time taken: {:.2f}\".format((time.time()-start_time)/60))\n",
    "\n",
    "    return result_dict_fixed_providers_GA, result_dict_fixed_microcells_GA"
   ]
  },
  {
   "cell_type": "code",
   "execution_count": 302,
   "id": "e162d7a3",
   "metadata": {},
   "outputs": [
    {
     "ename": "KeyboardInterrupt",
     "evalue": "",
     "output_type": "error",
     "traceback": [
      "\u001b[1;31m---------------------------------------------------------------------------\u001b[0m",
      "\u001b[1;31mKeyboardInterrupt\u001b[0m                         Traceback (most recent call last)",
      "\u001b[1;32m<ipython-input-302-25a8f596e7da>\u001b[0m in \u001b[0;36m<module>\u001b[1;34m\u001b[0m\n\u001b[1;32m----> 1\u001b[1;33m \u001b[0mresult_dict_fixed_providers_GA\u001b[0m\u001b[1;33m,\u001b[0m \u001b[0mresult_dict_fixed_microcells_GA\u001b[0m \u001b[1;33m=\u001b[0m \u001b[0mtest_all_combinations_genetic\u001b[0m\u001b[1;33m(\u001b[0m\u001b[1;36m1000\u001b[0m\u001b[1;33m)\u001b[0m\u001b[1;33m\u001b[0m\u001b[1;33m\u001b[0m\u001b[0m\n\u001b[0m",
      "\u001b[1;32m<ipython-input-274-27fd632a951f>\u001b[0m in \u001b[0;36mtest_all_combinations_genetic\u001b[1;34m(number_of_iterations)\u001b[0m\n\u001b[0;32m     12\u001b[0m             \u001b[0mstart_time\u001b[0m \u001b[1;33m=\u001b[0m \u001b[0mtime\u001b[0m\u001b[1;33m.\u001b[0m\u001b[0mtime\u001b[0m\u001b[1;33m(\u001b[0m\u001b[1;33m)\u001b[0m\u001b[1;33m\u001b[0m\u001b[1;33m\u001b[0m\u001b[0m\n\u001b[0;32m     13\u001b[0m \u001b[1;33m\u001b[0m\u001b[0m\n\u001b[1;32m---> 14\u001b[1;33m             \u001b[0mEU_providers\u001b[0m\u001b[1;33m,\u001b[0m \u001b[0mFR_providers\u001b[0m\u001b[1;33m,\u001b[0m \u001b[0mC_providers\u001b[0m\u001b[1;33m,\u001b[0m \u001b[0mT_providers\u001b[0m \u001b[1;33m=\u001b[0m \u001b[0mexperiment_GA\u001b[0m\u001b[1;33m(\u001b[0m\u001b[1;36m15\u001b[0m\u001b[1;33m,\u001b[0m \u001b[0mvariant_number\u001b[0m\u001b[1;33m,\u001b[0m \u001b[0mlevel\u001b[0m\u001b[1;33m,\u001b[0m \u001b[0mnumber_of_iterations\u001b[0m\u001b[1;33m)\u001b[0m\u001b[1;33m\u001b[0m\u001b[1;33m\u001b[0m\u001b[0m\n\u001b[0m\u001b[0;32m     15\u001b[0m             \u001b[0mEU_tag\u001b[0m \u001b[1;33m=\u001b[0m \u001b[1;34m'{}_{}_{}_{}_EU'\u001b[0m\u001b[1;33m.\u001b[0m\u001b[0mformat\u001b[0m\u001b[1;33m(\u001b[0m\u001b[0mlevel\u001b[0m\u001b[1;33m,\u001b[0m \u001b[1;36m15\u001b[0m\u001b[1;33m,\u001b[0m \u001b[0mvariant_number\u001b[0m\u001b[1;33m,\u001b[0m \u001b[1;34m'GA'\u001b[0m\u001b[1;33m)\u001b[0m\u001b[1;33m\u001b[0m\u001b[1;33m\u001b[0m\u001b[0m\n\u001b[0;32m     16\u001b[0m             \u001b[0mFR_tag\u001b[0m \u001b[1;33m=\u001b[0m \u001b[1;34m'{}_{}_{}_{}_FR'\u001b[0m\u001b[1;33m.\u001b[0m\u001b[0mformat\u001b[0m\u001b[1;33m(\u001b[0m\u001b[0mlevel\u001b[0m\u001b[1;33m,\u001b[0m \u001b[1;36m15\u001b[0m\u001b[1;33m,\u001b[0m \u001b[0mvariant_number\u001b[0m\u001b[1;33m,\u001b[0m \u001b[1;34m'GA'\u001b[0m\u001b[1;33m)\u001b[0m\u001b[1;33m\u001b[0m\u001b[1;33m\u001b[0m\u001b[0m\n",
      "\u001b[1;32m<ipython-input-299-23a604677c40>\u001b[0m in \u001b[0;36mexperiment_GA\u001b[1;34m(providers_no, microcells_no, number_of_category, iterations)\u001b[0m\n\u001b[0;32m     32\u001b[0m                 \u001b[0meliminate_duplicates\u001b[0m\u001b[1;33m=\u001b[0m\u001b[1;32mTrue\u001b[0m\u001b[1;33m\u001b[0m\u001b[1;33m\u001b[0m\u001b[0m\n\u001b[0;32m     33\u001b[0m                 )\n\u001b[1;32m---> 34\u001b[1;33m         res = minimize(problem,\n\u001b[0m\u001b[0;32m     35\u001b[0m                        \u001b[0malgorithm\u001b[0m\u001b[1;33m,\u001b[0m\u001b[1;33m\u001b[0m\u001b[1;33m\u001b[0m\u001b[0m\n\u001b[0;32m     36\u001b[0m                        save_history=True)\n",
      "\u001b[1;32mD:\\anaconda3\\lib\\site-packages\\pymoo\\optimize.py\u001b[0m in \u001b[0;36mminimize\u001b[1;34m(problem, algorithm, termination, copy_algorithm, copy_termination, **kwargs)\u001b[0m\n\u001b[0;32m     81\u001b[0m \u001b[1;33m\u001b[0m\u001b[0m\n\u001b[0;32m     82\u001b[0m     \u001b[1;31m# actually execute the algorithm\u001b[0m\u001b[1;33m\u001b[0m\u001b[1;33m\u001b[0m\u001b[1;33m\u001b[0m\u001b[0m\n\u001b[1;32m---> 83\u001b[1;33m     \u001b[0mres\u001b[0m \u001b[1;33m=\u001b[0m \u001b[0malgorithm\u001b[0m\u001b[1;33m.\u001b[0m\u001b[0mrun\u001b[0m\u001b[1;33m(\u001b[0m\u001b[1;33m)\u001b[0m\u001b[1;33m\u001b[0m\u001b[1;33m\u001b[0m\u001b[0m\n\u001b[0m\u001b[0;32m     84\u001b[0m \u001b[1;33m\u001b[0m\u001b[0m\n\u001b[0;32m     85\u001b[0m     \u001b[1;31m# store the deep copied algorithm in the result object\u001b[0m\u001b[1;33m\u001b[0m\u001b[1;33m\u001b[0m\u001b[1;33m\u001b[0m\u001b[0m\n",
      "\u001b[1;32mD:\\anaconda3\\lib\\site-packages\\pymoo\\core\\algorithm.py\u001b[0m in \u001b[0;36mrun\u001b[1;34m(self)\u001b[0m\n\u001b[0;32m    211\u001b[0m         \u001b[1;31m# while termination criterion not fulfilled\u001b[0m\u001b[1;33m\u001b[0m\u001b[1;33m\u001b[0m\u001b[1;33m\u001b[0m\u001b[0m\n\u001b[0;32m    212\u001b[0m         \u001b[1;32mwhile\u001b[0m \u001b[0mself\u001b[0m\u001b[1;33m.\u001b[0m\u001b[0mhas_next\u001b[0m\u001b[1;33m(\u001b[0m\u001b[1;33m)\u001b[0m\u001b[1;33m:\u001b[0m\u001b[1;33m\u001b[0m\u001b[1;33m\u001b[0m\u001b[0m\n\u001b[1;32m--> 213\u001b[1;33m             \u001b[0mself\u001b[0m\u001b[1;33m.\u001b[0m\u001b[0mnext\u001b[0m\u001b[1;33m(\u001b[0m\u001b[1;33m)\u001b[0m\u001b[1;33m\u001b[0m\u001b[1;33m\u001b[0m\u001b[0m\n\u001b[0m\u001b[0;32m    214\u001b[0m \u001b[1;33m\u001b[0m\u001b[0m\n\u001b[0;32m    215\u001b[0m         \u001b[1;31m# create the result object to be returned\u001b[0m\u001b[1;33m\u001b[0m\u001b[1;33m\u001b[0m\u001b[1;33m\u001b[0m\u001b[0m\n",
      "\u001b[1;32mD:\\anaconda3\\lib\\site-packages\\pymoo\\core\\algorithm.py\u001b[0m in \u001b[0;36mnext\u001b[1;34m(self)\u001b[0m\n\u001b[0;32m    227\u001b[0m \u001b[1;33m\u001b[0m\u001b[0m\n\u001b[0;32m    228\u001b[0m         \u001b[1;31m# get the infill solutions\u001b[0m\u001b[1;33m\u001b[0m\u001b[1;33m\u001b[0m\u001b[1;33m\u001b[0m\u001b[0m\n\u001b[1;32m--> 229\u001b[1;33m         \u001b[0minfills\u001b[0m \u001b[1;33m=\u001b[0m \u001b[0mself\u001b[0m\u001b[1;33m.\u001b[0m\u001b[0minfill\u001b[0m\u001b[1;33m(\u001b[0m\u001b[1;33m)\u001b[0m\u001b[1;33m\u001b[0m\u001b[1;33m\u001b[0m\u001b[0m\n\u001b[0m\u001b[0;32m    230\u001b[0m \u001b[1;33m\u001b[0m\u001b[0m\n\u001b[0;32m    231\u001b[0m         \u001b[1;31m# call the advance with them after evaluation\u001b[0m\u001b[1;33m\u001b[0m\u001b[1;33m\u001b[0m\u001b[1;33m\u001b[0m\u001b[0m\n",
      "\u001b[1;32mD:\\anaconda3\\lib\\site-packages\\pymoo\\core\\algorithm.py\u001b[0m in \u001b[0;36minfill\u001b[1;34m(self)\u001b[0m\n\u001b[0;32m    267\u001b[0m         \u001b[1;32melse\u001b[0m\u001b[1;33m:\u001b[0m\u001b[1;33m\u001b[0m\u001b[1;33m\u001b[0m\u001b[0m\n\u001b[0;32m    268\u001b[0m             \u001b[1;31m# request the infill solutions if the algorithm has implemented it\u001b[0m\u001b[1;33m\u001b[0m\u001b[1;33m\u001b[0m\u001b[1;33m\u001b[0m\u001b[0m\n\u001b[1;32m--> 269\u001b[1;33m             \u001b[0minfills\u001b[0m \u001b[1;33m=\u001b[0m \u001b[0mself\u001b[0m\u001b[1;33m.\u001b[0m\u001b[0m_infill\u001b[0m\u001b[1;33m(\u001b[0m\u001b[1;33m)\u001b[0m\u001b[1;33m\u001b[0m\u001b[1;33m\u001b[0m\u001b[0m\n\u001b[0m\u001b[0;32m    270\u001b[0m \u001b[1;33m\u001b[0m\u001b[0m\n\u001b[0;32m    271\u001b[0m         \u001b[1;31m# set the current generation to the offsprings\u001b[0m\u001b[1;33m\u001b[0m\u001b[1;33m\u001b[0m\u001b[1;33m\u001b[0m\u001b[0m\n",
      "\u001b[1;32mD:\\anaconda3\\lib\\site-packages\\pymoo\\algorithms\\base\\genetic.py\u001b[0m in \u001b[0;36m_infill\u001b[1;34m(self)\u001b[0m\n\u001b[0;32m     84\u001b[0m \u001b[1;33m\u001b[0m\u001b[0m\n\u001b[0;32m     85\u001b[0m         \u001b[1;31m# do the mating using the current population\u001b[0m\u001b[1;33m\u001b[0m\u001b[1;33m\u001b[0m\u001b[1;33m\u001b[0m\u001b[0m\n\u001b[1;32m---> 86\u001b[1;33m         \u001b[0moff\u001b[0m \u001b[1;33m=\u001b[0m \u001b[0mself\u001b[0m\u001b[1;33m.\u001b[0m\u001b[0mmating\u001b[0m\u001b[1;33m.\u001b[0m\u001b[0mdo\u001b[0m\u001b[1;33m(\u001b[0m\u001b[0mself\u001b[0m\u001b[1;33m.\u001b[0m\u001b[0mproblem\u001b[0m\u001b[1;33m,\u001b[0m \u001b[0mself\u001b[0m\u001b[1;33m.\u001b[0m\u001b[0mpop\u001b[0m\u001b[1;33m,\u001b[0m \u001b[0mself\u001b[0m\u001b[1;33m.\u001b[0m\u001b[0mn_offsprings\u001b[0m\u001b[1;33m,\u001b[0m \u001b[0malgorithm\u001b[0m\u001b[1;33m=\u001b[0m\u001b[0mself\u001b[0m\u001b[1;33m)\u001b[0m\u001b[1;33m\u001b[0m\u001b[1;33m\u001b[0m\u001b[0m\n\u001b[0m\u001b[0;32m     87\u001b[0m \u001b[1;33m\u001b[0m\u001b[0m\n\u001b[0;32m     88\u001b[0m         \u001b[1;31m# if the mating could not generate any new offspring (duplicate elimination might make that happen)\u001b[0m\u001b[1;33m\u001b[0m\u001b[1;33m\u001b[0m\u001b[1;33m\u001b[0m\u001b[0m\n",
      "\u001b[1;32mD:\\anaconda3\\lib\\site-packages\\pymoo\\core\\infill.py\u001b[0m in \u001b[0;36mdo\u001b[1;34m(self, problem, pop, n_offsprings, **kwargs)\u001b[0m\n\u001b[0;32m     38\u001b[0m \u001b[1;33m\u001b[0m\u001b[0m\n\u001b[0;32m     39\u001b[0m             \u001b[1;31m# eliminate the duplicates - disabled if it is NoRepair\u001b[0m\u001b[1;33m\u001b[0m\u001b[1;33m\u001b[0m\u001b[1;33m\u001b[0m\u001b[0m\n\u001b[1;32m---> 40\u001b[1;33m             \u001b[0m_off\u001b[0m \u001b[1;33m=\u001b[0m \u001b[0mself\u001b[0m\u001b[1;33m.\u001b[0m\u001b[0meliminate_duplicates\u001b[0m\u001b[1;33m.\u001b[0m\u001b[0mdo\u001b[0m\u001b[1;33m(\u001b[0m\u001b[0m_off\u001b[0m\u001b[1;33m,\u001b[0m \u001b[0mpop\u001b[0m\u001b[1;33m,\u001b[0m \u001b[0moff\u001b[0m\u001b[1;33m)\u001b[0m\u001b[1;33m\u001b[0m\u001b[1;33m\u001b[0m\u001b[0m\n\u001b[0m\u001b[0;32m     41\u001b[0m \u001b[1;33m\u001b[0m\u001b[0m\n\u001b[0;32m     42\u001b[0m             \u001b[1;31m# if more offsprings than necessary - truncate them randomly\u001b[0m\u001b[1;33m\u001b[0m\u001b[1;33m\u001b[0m\u001b[1;33m\u001b[0m\u001b[0m\n",
      "\u001b[1;32mD:\\anaconda3\\lib\\site-packages\\pymoo\\core\\duplicate.py\u001b[0m in \u001b[0;36mdo\u001b[1;34m(self, pop, return_indices, to_itself, *args)\u001b[0m\n\u001b[0;32m     34\u001b[0m                     \u001b[1;32mcontinue\u001b[0m\u001b[1;33m\u001b[0m\u001b[1;33m\u001b[0m\u001b[0m\n\u001b[0;32m     35\u001b[0m                 \u001b[1;32melse\u001b[0m\u001b[1;33m:\u001b[0m\u001b[1;33m\u001b[0m\u001b[1;33m\u001b[0m\u001b[0m\n\u001b[1;32m---> 36\u001b[1;33m                     \u001b[0mpop\u001b[0m \u001b[1;33m=\u001b[0m \u001b[0mpop\u001b[0m\u001b[1;33m[\u001b[0m\u001b[1;33m~\u001b[0m\u001b[0mself\u001b[0m\u001b[1;33m.\u001b[0m\u001b[0m_do\u001b[0m\u001b[1;33m(\u001b[0m\u001b[0mpop\u001b[0m\u001b[1;33m,\u001b[0m \u001b[0marg\u001b[0m\u001b[1;33m,\u001b[0m \u001b[0mnp\u001b[0m\u001b[1;33m.\u001b[0m\u001b[0mfull\u001b[0m\u001b[1;33m(\u001b[0m\u001b[0mlen\u001b[0m\u001b[1;33m(\u001b[0m\u001b[0mpop\u001b[0m\u001b[1;33m)\u001b[0m\u001b[1;33m,\u001b[0m \u001b[1;32mFalse\u001b[0m\u001b[1;33m)\u001b[0m\u001b[1;33m)\u001b[0m\u001b[1;33m]\u001b[0m\u001b[1;33m\u001b[0m\u001b[1;33m\u001b[0m\u001b[0m\n\u001b[0m\u001b[0;32m     37\u001b[0m \u001b[1;33m\u001b[0m\u001b[0m\n\u001b[0;32m     38\u001b[0m         \u001b[1;32mif\u001b[0m \u001b[0mreturn_indices\u001b[0m\u001b[1;33m:\u001b[0m\u001b[1;33m\u001b[0m\u001b[1;33m\u001b[0m\u001b[0m\n",
      "\u001b[1;32mD:\\anaconda3\\lib\\site-packages\\pymoo\\core\\duplicate.py\u001b[0m in \u001b[0;36m_do\u001b[1;34m(self, pop, other, is_duplicate)\u001b[0m\n\u001b[0;32m     73\u001b[0m \u001b[1;33m\u001b[0m\u001b[0m\n\u001b[0;32m     74\u001b[0m     \u001b[1;32mdef\u001b[0m \u001b[0m_do\u001b[0m\u001b[1;33m(\u001b[0m\u001b[0mself\u001b[0m\u001b[1;33m,\u001b[0m \u001b[0mpop\u001b[0m\u001b[1;33m,\u001b[0m \u001b[0mother\u001b[0m\u001b[1;33m,\u001b[0m \u001b[0mis_duplicate\u001b[0m\u001b[1;33m)\u001b[0m\u001b[1;33m:\u001b[0m\u001b[1;33m\u001b[0m\u001b[1;33m\u001b[0m\u001b[0m\n\u001b[1;32m---> 75\u001b[1;33m         \u001b[0mD\u001b[0m \u001b[1;33m=\u001b[0m \u001b[0mself\u001b[0m\u001b[1;33m.\u001b[0m\u001b[0mcalc_dist\u001b[0m\u001b[1;33m(\u001b[0m\u001b[0mpop\u001b[0m\u001b[1;33m,\u001b[0m \u001b[0mother\u001b[0m\u001b[1;33m)\u001b[0m\u001b[1;33m\u001b[0m\u001b[1;33m\u001b[0m\u001b[0m\n\u001b[0m\u001b[0;32m     76\u001b[0m         \u001b[0mD\u001b[0m\u001b[1;33m[\u001b[0m\u001b[0mnp\u001b[0m\u001b[1;33m.\u001b[0m\u001b[0misnan\u001b[0m\u001b[1;33m(\u001b[0m\u001b[0mD\u001b[0m\u001b[1;33m)\u001b[0m\u001b[1;33m]\u001b[0m \u001b[1;33m=\u001b[0m \u001b[0mnp\u001b[0m\u001b[1;33m.\u001b[0m\u001b[0minf\u001b[0m\u001b[1;33m\u001b[0m\u001b[1;33m\u001b[0m\u001b[0m\n\u001b[0;32m     77\u001b[0m \u001b[1;33m\u001b[0m\u001b[0m\n",
      "\u001b[1;32mD:\\anaconda3\\lib\\site-packages\\pymoo\\core\\duplicate.py\u001b[0m in \u001b[0;36mcalc_dist\u001b[1;34m(self, pop, other)\u001b[0m\n\u001b[0;32m     67\u001b[0m             \u001b[0mD\u001b[0m\u001b[1;33m[\u001b[0m\u001b[0mnp\u001b[0m\u001b[1;33m.\u001b[0m\u001b[0mtriu_indices\u001b[0m\u001b[1;33m(\u001b[0m\u001b[0mlen\u001b[0m\u001b[1;33m(\u001b[0m\u001b[0mX\u001b[0m\u001b[1;33m)\u001b[0m\u001b[1;33m)\u001b[0m\u001b[1;33m]\u001b[0m \u001b[1;33m=\u001b[0m \u001b[0mnp\u001b[0m\u001b[1;33m.\u001b[0m\u001b[0minf\u001b[0m\u001b[1;33m\u001b[0m\u001b[1;33m\u001b[0m\u001b[0m\n\u001b[0;32m     68\u001b[0m         \u001b[1;32melse\u001b[0m\u001b[1;33m:\u001b[0m\u001b[1;33m\u001b[0m\u001b[1;33m\u001b[0m\u001b[0m\n\u001b[1;32m---> 69\u001b[1;33m             \u001b[0m_X\u001b[0m \u001b[1;33m=\u001b[0m \u001b[0mself\u001b[0m\u001b[1;33m.\u001b[0m\u001b[0mfunc\u001b[0m\u001b[1;33m(\u001b[0m\u001b[0mother\u001b[0m\u001b[1;33m)\u001b[0m\u001b[1;33m\u001b[0m\u001b[1;33m\u001b[0m\u001b[0m\n\u001b[0m\u001b[0;32m     70\u001b[0m             \u001b[0mD\u001b[0m \u001b[1;33m=\u001b[0m \u001b[0mcdist\u001b[0m\u001b[1;33m(\u001b[0m\u001b[0mX\u001b[0m\u001b[1;33m,\u001b[0m \u001b[0m_X\u001b[0m\u001b[1;33m)\u001b[0m\u001b[1;33m\u001b[0m\u001b[1;33m\u001b[0m\u001b[0m\n\u001b[0;32m     71\u001b[0m \u001b[1;33m\u001b[0m\u001b[0m\n",
      "\u001b[1;32mD:\\anaconda3\\lib\\site-packages\\pymoo\\core\\duplicate.py\u001b[0m in \u001b[0;36mdefault_attr\u001b[1;34m(pop)\u001b[0m\n\u001b[0;32m      5\u001b[0m \u001b[1;33m\u001b[0m\u001b[0m\n\u001b[0;32m      6\u001b[0m \u001b[1;32mdef\u001b[0m \u001b[0mdefault_attr\u001b[0m\u001b[1;33m(\u001b[0m\u001b[0mpop\u001b[0m\u001b[1;33m)\u001b[0m\u001b[1;33m:\u001b[0m\u001b[1;33m\u001b[0m\u001b[1;33m\u001b[0m\u001b[0m\n\u001b[1;32m----> 7\u001b[1;33m     \u001b[1;32mreturn\u001b[0m \u001b[0mpop\u001b[0m\u001b[1;33m.\u001b[0m\u001b[0mget\u001b[0m\u001b[1;33m(\u001b[0m\u001b[1;34m\"X\"\u001b[0m\u001b[1;33m)\u001b[0m\u001b[1;33m\u001b[0m\u001b[1;33m\u001b[0m\u001b[0m\n\u001b[0m\u001b[0;32m      8\u001b[0m \u001b[1;33m\u001b[0m\u001b[0m\n\u001b[0;32m      9\u001b[0m \u001b[1;33m\u001b[0m\u001b[0m\n",
      "\u001b[1;32mD:\\anaconda3\\lib\\site-packages\\pymoo\\core\\population.py\u001b[0m in \u001b[0;36mget\u001b[1;34m(self, to_numpy, *args)\u001b[0m\n\u001b[0;32m     82\u001b[0m         \u001b[1;31m# to numpy array if desired - default true\u001b[0m\u001b[1;33m\u001b[0m\u001b[1;33m\u001b[0m\u001b[1;33m\u001b[0m\u001b[0m\n\u001b[0;32m     83\u001b[0m         \u001b[1;32mif\u001b[0m \u001b[0mto_numpy\u001b[0m\u001b[1;33m:\u001b[0m\u001b[1;33m\u001b[0m\u001b[1;33m\u001b[0m\u001b[0m\n\u001b[1;32m---> 84\u001b[1;33m             \u001b[0mres\u001b[0m \u001b[1;33m=\u001b[0m \u001b[1;33m[\u001b[0m\u001b[0mnp\u001b[0m\u001b[1;33m.\u001b[0m\u001b[0marray\u001b[0m\u001b[1;33m(\u001b[0m\u001b[0me\u001b[0m\u001b[1;33m)\u001b[0m \u001b[1;32mfor\u001b[0m \u001b[0me\u001b[0m \u001b[1;32min\u001b[0m \u001b[0mres\u001b[0m\u001b[1;33m]\u001b[0m\u001b[1;33m\u001b[0m\u001b[1;33m\u001b[0m\u001b[0m\n\u001b[0m\u001b[0;32m     85\u001b[0m \u001b[1;33m\u001b[0m\u001b[0m\n\u001b[0;32m     86\u001b[0m         \u001b[1;31m# return as tuple or single value\u001b[0m\u001b[1;33m\u001b[0m\u001b[1;33m\u001b[0m\u001b[1;33m\u001b[0m\u001b[0m\n",
      "\u001b[1;32mD:\\anaconda3\\lib\\site-packages\\pymoo\\core\\population.py\u001b[0m in \u001b[0;36m<listcomp>\u001b[1;34m(.0)\u001b[0m\n\u001b[0;32m     82\u001b[0m         \u001b[1;31m# to numpy array if desired - default true\u001b[0m\u001b[1;33m\u001b[0m\u001b[1;33m\u001b[0m\u001b[1;33m\u001b[0m\u001b[0m\n\u001b[0;32m     83\u001b[0m         \u001b[1;32mif\u001b[0m \u001b[0mto_numpy\u001b[0m\u001b[1;33m:\u001b[0m\u001b[1;33m\u001b[0m\u001b[1;33m\u001b[0m\u001b[0m\n\u001b[1;32m---> 84\u001b[1;33m             \u001b[0mres\u001b[0m \u001b[1;33m=\u001b[0m \u001b[1;33m[\u001b[0m\u001b[0mnp\u001b[0m\u001b[1;33m.\u001b[0m\u001b[0marray\u001b[0m\u001b[1;33m(\u001b[0m\u001b[0me\u001b[0m\u001b[1;33m)\u001b[0m \u001b[1;32mfor\u001b[0m \u001b[0me\u001b[0m \u001b[1;32min\u001b[0m \u001b[0mres\u001b[0m\u001b[1;33m]\u001b[0m\u001b[1;33m\u001b[0m\u001b[1;33m\u001b[0m\u001b[0m\n\u001b[0m\u001b[0;32m     85\u001b[0m \u001b[1;33m\u001b[0m\u001b[0m\n\u001b[0;32m     86\u001b[0m         \u001b[1;31m# return as tuple or single value\u001b[0m\u001b[1;33m\u001b[0m\u001b[1;33m\u001b[0m\u001b[1;33m\u001b[0m\u001b[0m\n",
      "\u001b[1;31mKeyboardInterrupt\u001b[0m: "
     ]
    }
   ],
   "source": [
    "result_dict_fixed_providers_GA, result_dict_fixed_microcells_GA = test_all_combinations_genetic(1000)"
   ]
  },
  {
   "cell_type": "code",
   "execution_count": 301,
   "id": "7b435027",
   "metadata": {},
   "outputs": [
    {
     "name": "stdout",
     "output_type": "stream",
     "text": [
      "Finished 1 setup\n",
      "Time taken: 0.19\n",
      "Finished 1 setup\n",
      "Time taken: 0.19\n",
      "Finished 1 setup\n",
      "Time taken: 0.17\n",
      "Finished 1 setup\n",
      "Time taken: 0.25\n",
      "Finished 1 setup\n",
      "Time taken: 0.22\n",
      "Finished 1 setup\n",
      "Time taken: 0.35\n"
     ]
    }
   ],
   "source": [
    "A, B = test_all_combinations_genetic(3)"
   ]
  },
  {
   "cell_type": "code",
   "execution_count": 298,
   "id": "154e3ddf",
   "metadata": {
    "scrolled": true
   },
   "outputs": [
    {
     "data": {
      "text/plain": [
       "{'7_15_5_GA_EU': 1.0,\n",
       " '7_15_5_GA_FR': 0.7428588931231161,\n",
       " '7_15_5_GA_C': 220.45999999999998,\n",
       " '7_15_5_GA_T': 1.265117073059082,\n",
       " '7_15_10_GA_EU': 1.0,\n",
       " '7_15_10_GA_FR': 0.35872829521189403,\n",
       " '7_15_10_GA_C': 198.294,\n",
       " '7_15_10_GA_T': 1.3318687915802,\n",
       " '7_15_15_GA_EU': 1.0,\n",
       " '7_15_15_GA_FR': 0.2373764975889142,\n",
       " '7_15_15_GA_C': 160.534,\n",
       " '7_15_15_GA_T': 0.9496792793273926,\n",
       " '7_15_20_GA_EU': 1.0,\n",
       " '7_15_20_GA_FR': 0.18401993864972102,\n",
       " '7_15_20_GA_C': 164.36399999999998,\n",
       " '7_15_20_GA_T': 1.4513973712921142,\n",
       " '7_15_25_GA_EU': 1.0,\n",
       " '7_15_25_GA_FR': 0.1409712613566915,\n",
       " '7_15_25_GA_C': 124.37600000000002,\n",
       " '7_15_25_GA_T': 0.809242057800293,\n",
       " '7_15_30_GA_EU': 1.0,\n",
       " '7_15_30_GA_FR': 0.11829277359442122,\n",
       " '7_15_30_GA_C': 136.08200000000002,\n",
       " '7_15_30_GA_T': 1.5556956291198731}"
      ]
     },
     "execution_count": 298,
     "metadata": {},
     "output_type": "execute_result"
    }
   ],
   "source": [
    "A"
   ]
  },
  {
   "cell_type": "code",
   "execution_count": 250,
   "id": "2af6fc6f",
   "metadata": {},
   "outputs": [
    {
     "data": {
      "text/plain": [
       "{'7_5_15_GA_EU': 1.0,\n",
       " '7_5_15_GA_FR': 0.08486527323092423,\n",
       " '7_5_15_GA_C': 37.13999999999999,\n",
       " '7_5_15_GA_T': 0.5362346863746643,\n",
       " '7_10_15_GA_EU': 1.0,\n",
       " '7_10_15_GA_FR': 0.14838997485603048,\n",
       " '7_10_15_GA_C': 128.41000000000003,\n",
       " '7_10_15_GA_T': 0.6909444868564606,\n",
       " '7_15_15_GA_EU': 1.0,\n",
       " '7_15_15_GA_FR': 0.21374532133471377,\n",
       " '7_15_15_GA_C': 152.81999999999988,\n",
       " '7_15_15_GA_T': 0.7858503150939942,\n",
       " '7_20_15_GA_EU': 1.0,\n",
       " '7_20_15_GA_FR': 0.3067209263299212,\n",
       " '7_20_15_GA_C': 316.65,\n",
       " '7_20_15_GA_T': 0.745065896987915,\n",
       " '7_25_15_GA_EU': 1.0,\n",
       " '7_25_15_GA_FR': 0.37189079878665326,\n",
       " '7_25_15_GA_C': 443.27999999999975,\n",
       " '7_25_15_GA_T': 1.211060049533844,\n",
       " '7_30_15_GA_EU': 1.0,\n",
       " '7_30_15_GA_FR': 0.49425184522478194,\n",
       " '7_30_15_GA_C': 674.2400000000004,\n",
       " '7_30_15_GA_T': 1.759933979511261}"
      ]
     },
     "execution_count": 250,
     "metadata": {},
     "output_type": "execute_result"
    }
   ],
   "source": [
    "result_dict_fixed_microcells_GA"
   ]
  },
  {
   "cell_type": "code",
   "execution_count": 249,
   "id": "6a956e9e",
   "metadata": {},
   "outputs": [
    {
     "name": "stdout",
     "output_type": "stream",
     "text": [
      "1.0\t0.08486527323092423\t37.13999999999999\t0.5362346863746643\n",
      "1.0\t0.14838997485603048\t128.41000000000003\t0.6909444868564606\n",
      "1.0\t0.21374532133471377\t152.81999999999988\t0.7858503150939942\n",
      "1.0\t0.3067209263299212\t316.65\t0.745065896987915\n",
      "1.0\t0.37189079878665326\t443.27999999999975\t1.211060049533844\n",
      "1.0\t0.49425184522478194\t674.2400000000004\t1.759933979511261\n"
     ]
    }
   ],
   "source": [
    "counter = 1\n",
    "\n",
    "for i in result_dict_fixed_microcells_GA.values():\n",
    "    if counter % 4 == 0:\n",
    "        print(i)\n",
    "    else:\n",
    "        print(i ,end='\\t')\n",
    "    counter += 1"
   ]
  },
  {
   "cell_type": "code",
   "execution_count": 154,
   "id": "cc5b1ad0",
   "metadata": {},
   "outputs": [
    {
     "data": {
      "text/plain": [
       "{'7_5_15_GA_EU': 1.0,\n",
       " '7_5_15_GA_FR': 0.0848652732309242,\n",
       " '7_5_15_GA_C': 37.14,\n",
       " '7_10_15_GA_EU': 1.0,\n",
       " '7_10_15_GA_FR': 0.1483899748560305,\n",
       " '7_10_15_GA_C': 128.41,\n",
       " '7_15_15_GA_EU': 1.0,\n",
       " '7_15_15_GA_FR': 0.21374532133471372,\n",
       " '7_15_15_GA_C': 152.8199999999999,\n",
       " '7_20_15_GA_EU': 1.0,\n",
       " '7_20_15_GA_FR': 0.30672092632992115,\n",
       " '7_20_15_GA_C': 316.65000000000003,\n",
       " '7_25_15_GA_EU': 1.0,\n",
       " '7_25_15_GA_FR': 0.3718907987866532,\n",
       " '7_25_15_GA_C': 443.28,\n",
       " '7_30_15_GA_EU': 1.0,\n",
       " '7_30_15_GA_FR': 0.49425184522478194,\n",
       " '7_30_15_GA_C': 674.2400000000004}"
      ]
     },
     "execution_count": 154,
     "metadata": {},
     "output_type": "execute_result"
    }
   ],
   "source": [
    "result_dict_fixed_microcells_GA"
   ]
  },
  {
   "cell_type": "markdown",
   "id": "0a71774f",
   "metadata": {},
   "source": [
    "## Experiment on responsive rate"
   ]
  },
  {
   "cell_type": "markdown",
   "id": "e705804d",
   "metadata": {},
   "source": [
    "Start with GA"
   ]
  },
  {
   "cell_type": "code",
   "execution_count": 233,
   "id": "3c8bd720",
   "metadata": {},
   "outputs": [],
   "source": [
    "def experiment_GA_response_rate(providers_no, microcells_no, number_of_category, iterations, number_of_respondents):\n",
    "    algorithm = NSGA2(\n",
    "                pop_size=40,\n",
    "                n_offsprings=40,\n",
    "                sampling=get_sampling(\"int_random\"),\n",
    "                crossover=get_crossover(\"int_sbx\", prob=0.5, eta=15),\n",
    "                mutation=get_mutation(\"int_pm\", eta=20),\n",
    "                eliminate_duplicates=True\n",
    "                )\n",
    "    \n",
    "    energy_usage_record_list = []\n",
    "    fulfillment_ratio_record_list = []\n",
    "    cost_record_list = []\n",
    "    time_record_list = []\n",
    "    \n",
    "    for i in range(iterations):\n",
    "        start_time = time.time()\n",
    "        \n",
    "        providers_probabilistic_patterns, providers_availability, microcell_preference_dict, microcell_location_request_dict, request_sum = initialise_all_stuff(providers_no, microcells_no, number_of_category)\n",
    "        provider_probabilistic_pattern_timestep_1 = [sorted(providers_probabilistic_patterns[i][0].items(), key=lambda item: item[1], reverse=True) for i in range(len(providers_probabilistic_patterns))]\n",
    "            \n",
    "        problem = ServiceAllocationProblem(provider_probabilistic_pattern_timestep_1, providers_availability, microcell_location_request_dict, providers_no, microcells_no)\n",
    "\n",
    "        res = minimize(problem,\n",
    "                       algorithm,\n",
    "                       seed=1,\n",
    "                       save_history=True)\n",
    "\n",
    "        EU, FR, C = evaluate_EU_FR_C_GA_response_rate(res, provider_probabilistic_pattern_timestep_1, microcell_location_request_dict, providers_availability, number_of_respondents, providers_no)\n",
    "        energy_usage_record_list.append(EU)\n",
    "        fulfillment_ratio_record_list.append(FR)\n",
    "        cost_record_list.append(C)\n",
    "        time_record_list.append(time.time() - start_time)\n",
    "        \n",
    "    return np.mean(energy_usage_record_list), np.mean(fulfillment_ratio_record_list), np.mean(cost_record_list), np.mean(time_record_list)"
   ]
  },
  {
   "cell_type": "code",
   "execution_count": 234,
   "id": "2d991af9",
   "metadata": {},
   "outputs": [],
   "source": [
    "def evaluate_EU_FR_C_GA_response_rate(res, providers_probabilistic_patterns, microcell_location_request_dict, providers_availability, number_of_respondents, providers_no):\n",
    "    # Pick the best candidate in terms of FR and C\n",
    "    X = res.X # chromosomes\n",
    "    F = res.F # fitness score\n",
    "    sorted_list = [(x, f) for f, x in sorted(zip(F.tolist(), X.tolist()), key=lambda pair: pair[0])]\n",
    "    \n",
    "    best_chromosome_fitness = sorted_list[0]\n",
    "#     print(best_chromosome_fitness)\n",
    "#     FR, C = best_chromosome_fitness[1][0] * -1, best_chromosome_fitness[1][1]\n",
    "    \n",
    "    # Initialise variables\n",
    "    total_fulfilled_energy = 0\n",
    "    total_available_energy = np.sum(providers_availability)\n",
    "    total_demand = 0\n",
    "    microcell_loc_req_dict = copy.deepcopy(microcell_location_request_dict)\n",
    "    \n",
    "    for i in range(len(microcell_location_request_dict)):\n",
    "            total_demand += microcell_location_request_dict[i]['request']\n",
    "            \n",
    "    FR = 0\n",
    "    C = 0\n",
    "    respondents = random.sample(range(0, providers_no), number_of_respondents)\n",
    "\n",
    "    # Maxmize the energy fulfillment across the microcell\n",
    "    x = best_chromosome_fitness[0]\n",
    "    for i in range(len(respondents)):\n",
    "#         print(x[i])\n",
    "        request = microcell_loc_req_dict[x[respondents[i]]]['request']\n",
    "        loc_category = microcell_loc_req_dict[x[respondents[i]]]['category']\n",
    "        provider_availability = providers_availability[respondents[i]]\n",
    "\n",
    "        if request > provider_availability:\n",
    "            total_fulfilled_energy += provider_availability\n",
    "            microcell_loc_req_dict[x[respondents[i]]]['request'] = (request - provider_availability)\n",
    "        else:\n",
    "            total_fulfilled_energy += request\n",
    "            microcell_loc_req_dict[x[respondents[i]]]['request'] = 0\n",
    "            \n",
    "        provider_preferences = providers_probabilistic_patterns[respondents[i]]\n",
    "        preference_index = len(provider_preferences)+1\n",
    "        for k in range(len(provider_preferences)):\n",
    "            if loc_category == provider_preferences[k][0]:\n",
    "                preference_index = k+1\n",
    "\n",
    "            C += ((provider_availability / 100) * preference_index)\n",
    "            \n",
    "    EU = total_fulfilled_energy / total_available_energy\n",
    "    FR = total_fulfilled_energy / total_demand\n",
    "    \n",
    "    return EU, FR, C"
   ]
  },
  {
   "cell_type": "code",
   "execution_count": 235,
   "id": "8b80c5d4",
   "metadata": {},
   "outputs": [],
   "source": [
    "def test_all_combinations_genetic_response_rate(number_of_iterations):\n",
    "    number_of_respondents_options = [3, 6, 9, 12, 15]   \n",
    "    \n",
    "    result_dict_GA_response_rate = {}\n",
    "    \n",
    "    level = 7\n",
    "    variant_number = 15 # microcell_number\n",
    "    \n",
    "    for number_of_respondents in number_of_respondents_options: \n",
    "            # Fixed the number of providers\n",
    "            start_time = time.time()\n",
    "            \n",
    "            EU, FR, C, T = experiment_GA_response_rate(15, variant_number, level, number_of_iterations, number_of_respondents) # providers_no, microcells_no\n",
    "            EU_tag = '{}_{}_{}_{}_{}_EU'.format(level, 15, variant_number, number_of_respondents, 'GA')\n",
    "            FR_tag = '{}_{}_{}_{}_{}_FR'.format(level, 15, variant_number, number_of_respondents, 'GA')\n",
    "            C_tag = '{}_{}_{}_{}_{}_C'.format(level, 15, variant_number, number_of_respondents, 'GA')\n",
    "            T_tag = '{}_{}_{}_{}_{}_T'.format(level, 15, variant_number, number_of_respondents, 'GA')\n",
    "            result_dict_GA_response_rate[EU_tag] = EU\n",
    "            result_dict_GA_response_rate[FR_tag] = FR\n",
    "            result_dict_GA_response_rate[C_tag] = C\n",
    "            result_dict_GA_response_rate[T_tag] = T\n",
    "            print(\"Finished 1 setup\")\n",
    "            print(\"Time taken: {:.2f}\".format((time.time()-start_time)/60))\n",
    "\n",
    "    return result_dict_GA_response_rate"
   ]
  },
  {
   "cell_type": "code",
   "execution_count": 244,
   "id": "378bc371",
   "metadata": {},
   "outputs": [
    {
     "name": "stdout",
     "output_type": "stream",
     "text": [
      "Finished 1 setup\n",
      "Time taken: 11.60\n",
      "Finished 1 setup\n",
      "Time taken: 13.70\n",
      "Finished 1 setup\n",
      "Time taken: 11.35\n",
      "Finished 1 setup\n",
      "Time taken: 14.05\n",
      "Finished 1 setup\n",
      "Time taken: 14.47\n"
     ]
    }
   ],
   "source": [
    "result_dict_GA_response_rate = test_all_combinations_genetic_response_rate(1000)"
   ]
  },
  {
   "cell_type": "code",
   "execution_count": 245,
   "id": "fbb9ba59",
   "metadata": {},
   "outputs": [
    {
     "data": {
      "text/plain": [
       "{'7_15_15_3_GA_EU': 0.2022286871329567,\n",
       " '7_15_15_3_GA_FR': 0.043388925134164355,\n",
       " '7_15_15_3_GA_C': 27.88662999999999,\n",
       " '7_15_15_3_GA_T': 0.6960924851894379,\n",
       " '7_15_15_6_GA_EU': 0.4263825734375813,\n",
       " '7_15_15_6_GA_FR': 0.09840335140863536,\n",
       " '7_15_15_6_GA_C': 123.53370999999993,\n",
       " '7_15_15_6_GA_T': 0.8217190420627594,\n",
       " '7_15_15_9_GA_EU': 0.6317925712096535,\n",
       " '7_15_15_9_GA_FR': 0.13834311267766422,\n",
       " '7_15_15_9_GA_C': 121.84037999999998,\n",
       " '7_15_15_9_GA_T': 0.6812380146980286,\n",
       " '7_15_15_12_GA_EU': 0.7691668542612022,\n",
       " '7_15_15_12_GA_FR': 0.17066907597583258,\n",
       " '7_15_15_12_GA_C': 170.98393999999993,\n",
       " '7_15_15_12_GA_T': 0.8430018594264984,\n",
       " '7_15_15_15_GA_EU': 1.0,\n",
       " '7_15_15_15_GA_FR': 0.2410831122158941,\n",
       " '7_15_15_15_GA_C': 367.39721999999995,\n",
       " '7_15_15_15_GA_T': 0.8682410967350006}"
      ]
     },
     "execution_count": 245,
     "metadata": {},
     "output_type": "execute_result"
    }
   ],
   "source": [
    "result_dict_GA_response_rate"
   ]
  },
  {
   "cell_type": "code",
   "execution_count": 198,
   "id": "3197c81e",
   "metadata": {},
   "outputs": [
    {
     "name": "stdout",
     "output_type": "stream",
     "text": [
      "0.20222599509526504\t0.043388513376775815\t27.89\n",
      "0.4263620386643234\t0.09840587352452035\t123.58999999999997\n",
      "0.631859756097561\t0.13835113484646194\t121.76999999999998\n",
      "0.7691435053885423\t0.1706662191642893\t170.97\n",
      "1.0\t0.2411023232822541\t367.53000000000003\n"
     ]
    }
   ],
   "source": [
    "counter = 1\n",
    "\n",
    "for i in result_dict_GA_response_rate.values():\n",
    "    if counter % 3 == 0:\n",
    "        print(i)\n",
    "    else:\n",
    "        print(i ,end='\\t')\n",
    "    counter += 1"
   ]
  },
  {
   "cell_type": "markdown",
   "id": "36ad22e3",
   "metadata": {},
   "source": [
    "Now with all other methods"
   ]
  },
  {
   "cell_type": "code",
   "execution_count": 238,
   "id": "8837330e",
   "metadata": {},
   "outputs": [],
   "source": [
    "def experiment_response_rate(providers_no, microcells_no, mode, number_of_category, iterations, number_of_respondents):\n",
    "    energy_usage_record_list = []\n",
    "    fulfillment_ratio_record_list = []\n",
    "    cost_record_list = []\n",
    "    time_record_list = []\n",
    "    \n",
    "    for i in range(iterations):\n",
    "        start_time = time.time()\n",
    "        providers_probabilistic_patterns, providers_availability, microcell_preference_dict, microcell_location_request_dict, request_sum = initialise_all_stuff(providers_no, microcells_no, number_of_category)\n",
    "        providers_info = sorted(zip(providers_probabilistic_patterns, providers_availability), key=lambda pair: pair[1], reverse=True)\n",
    "        \n",
    "        total_available_energy = np.sum(providers_availability)\n",
    "        fulfillment_energy = 0\n",
    "        cost = 0\n",
    "        \n",
    "        supplied_providers = 0\n",
    "        \n",
    "        respondents = random.sample(range(0, providers_no), number_of_respondents)\n",
    "        \n",
    "        for j in range(providers_no):\n",
    "            supplying = False\n",
    "            provider_probabilistic_pattern = sorted(providers_probabilistic_patterns[j][0].items(), key=lambda item: item[1], reverse=True)   \n",
    "            provider_availability = providers_availability[j]\n",
    "            \n",
    "            if mode == 'random':\n",
    "                loc_key = random.choice(list(microcell_location_request_dict))\n",
    "                request = microcell_location_request_dict[loc_key]['request']\n",
    "                \n",
    "                if request != 0:\n",
    "                    supplied_providers += 1\n",
    "                    supplying = True\n",
    "            elif mode == 'preference':\n",
    "                loc_key = None\n",
    "                probabilistic_pattern = provider_probabilistic_pattern[0]\n",
    "                if probabilistic_pattern[0] in microcell_preference_dict:\n",
    "                    loc_key = random.choice(microcell_preference_dict[probabilistic_pattern[0]])\n",
    "                    \n",
    "                if loc_key is not None:    \n",
    "                    request = microcell_location_request_dict[loc_key]['request']\n",
    "                    if request != 0:\n",
    "                        supplied_providers += 1\n",
    "                        supplying = True\n",
    "                \n",
    "            elif mode == 'demanding':\n",
    "                loc_key = sorted(microcell_location_request_dict.items(), key=lambda item: item[1]['request'], reverse=True)[0][0]\n",
    "                \n",
    "                request = microcell_location_request_dict[loc_key]['request']\n",
    "                \n",
    "                if request != 0:\n",
    "                    supplied_providers += 1\n",
    "                    supplying = True\n",
    "                \n",
    "            elif mode == 'preference+demanding':\n",
    "                provider_probabilistic_pattern = sorted(providers_info[j][0][0].items(), key=lambda item: item[1], reverse=True)\n",
    "                provider_availability = providers_info[j][1]\n",
    "                \n",
    "                loc_key = None\n",
    "                for p in provider_probabilistic_pattern:\n",
    "                    preferences_locations = {}\n",
    "                    if p[0] in microcell_preference_dict: # If category in microcell_preference_dict\n",
    "                        for loc_id in microcell_preference_dict[p[0]]: # Add locations into the preferences_locations\n",
    "                            preferences_locations[loc_id] = microcell_location_request_dict[loc_id]\n",
    "                            \n",
    "                        for item in sorted(preferences_locations.items(), key=lambda item: item[1]['request'], reverse=True):\n",
    "                            loc_key = item[0]\n",
    "                            request = microcell_location_request_dict[loc_key]['request']\n",
    "                            \n",
    "                            if request != 0:\n",
    "                                break\n",
    "                        \n",
    "                        if loc_key is not None:\n",
    "                            break\n",
    "                            \n",
    "                if loc_key is None:\n",
    "                    loc_key = sorted(microcell_location_request_dict.items(), key=lambda item: item[1]['request'], reverse=True)[0][0]\n",
    "                    \n",
    "                request = microcell_location_request_dict[loc_key]['request']\n",
    "                            \n",
    "                if request != 0:\n",
    "                    supplied_providers += 1\n",
    "                    supplying = True\n",
    "                    \n",
    "            elif mode == 'demanding+preference':\n",
    "                provider_probabilistic_pattern = sorted(providers_info[j][0][0].items(), key=lambda item: item[1], reverse=True)\n",
    "                provider_availability = providers_info[j][1]\n",
    "                \n",
    "                loc_key = None\n",
    "                \n",
    "                ordered_demand_list = sorted(microcell_location_request_dict.items(), key=lambda item: item[1]['request'], reverse=True)\n",
    "                provider_preferences = [p[0] for p in provider_probabilistic_pattern] # all provider's preference in the form of [(category, probability)]\n",
    "                \n",
    "                for i in ordered_demand_list:\n",
    "                    if (i[1]['category'] in provider_preferences):\n",
    "                        loc_key = i[0]\n",
    "                        break\n",
    "                \n",
    "                if loc_key is None:\n",
    "                    loc_key = sorted(microcell_location_request_dict.items(), key=lambda item: item[1]['request'], reverse=True)[0][0]\n",
    "                    \n",
    "                request = microcell_location_request_dict[loc_key]['request']\n",
    "                \n",
    "                if request != 0:\n",
    "                    supplied_providers += 1\n",
    "                    supplying = True\n",
    "                \n",
    "                \n",
    "            if loc_key is not None:\n",
    "                loc_category = microcell_location_request_dict[loc_key]['category']\n",
    "\n",
    "                if j in respondents:\n",
    "                    if request > provider_availability:\n",
    "                        fulfillment_energy += provider_availability\n",
    "                        microcell_location_request_dict[loc_key]['request'] = (request - provider_availability)\n",
    "                    else:\n",
    "                        fulfillment_energy += request\n",
    "                        microcell_location_request_dict[loc_key]['request'] = 0\n",
    "                \n",
    "                \n",
    "            if supplying and j in respondents:\n",
    "                preference_index = len(provider_probabilistic_pattern)+1\n",
    "                for k in range(len(provider_probabilistic_pattern)):\n",
    "                    if loc_category == provider_probabilistic_pattern[k][0]:\n",
    "                        preference_index = k+1\n",
    "\n",
    "                cost += ((provider_availability / 100) * preference_index)\n",
    "        energy_usage_record_list.append(fulfillment_energy / total_available_energy)\n",
    "        fulfillment_ratio_record_list.append(fulfillment_energy / request_sum)\n",
    "    \n",
    "        if supplied_providers != 0:\n",
    "            cost_record_list.append(cost)\n",
    "            \n",
    "        time_record_list.append(time.time()-start_time)\n",
    "    \n",
    "    return np.mean(energy_usage_record_list), np.mean(fulfillment_ratio_record_list), np.mean(cost_record_list), np.mean(time_record_list)"
   ]
  },
  {
   "cell_type": "code",
   "execution_count": 239,
   "id": "c0a7151e",
   "metadata": {},
   "outputs": [],
   "source": [
    "def test_all_combinations_response_rate(number_of_iterations):\n",
    "    level = 7\n",
    "    variant_number = 15\n",
    "    modes = ['preference', 'demanding', 'demanding+preference']\n",
    "    \n",
    "    number_of_respondents_options = [3, 6, 9, 12, 15]   \n",
    "    \n",
    "    result_dict_response_rate = {}\n",
    "    \n",
    "    for number_of_respondents in number_of_respondents_options:\n",
    "        for mode in modes:\n",
    "            start_time = time.time()\n",
    "\n",
    "            EU, FR, C, T = experiment_response_rate(15, variant_number, mode, level, number_of_iterations, number_of_respondents)\n",
    "\n",
    "            EU_tag = '{}_{}_{}_{}_{}_EU'.format(level, 15, variant_number, number_of_respondents, mode)\n",
    "            FR_tag = '{}_{}_{}_{}_{}_FR'.format(level, 15, variant_number, number_of_respondents, mode)\n",
    "            C_tag = '{}_{}_{}_{}_{}_C'.format(level, 15, variant_number, number_of_respondents, mode)\n",
    "            T_tag = '{}_{}_{}_{}_{}_T'.format(level, 15, variant_number, number_of_respondents, mode)\n",
    "            result_dict_response_rate[EU_tag] = EU\n",
    "            result_dict_response_rate[FR_tag] = FR\n",
    "            result_dict_response_rate[C_tag] = C\n",
    "            result_dict_response_rate[T_tag] = T\n",
    "\n",
    "            print(\"Finished 1 setup\")\n",
    "            print(\"Time taken: {:.2f}\".format((time.time()-start_time)/60))\n",
    "\n",
    "    return result_dict_response_rate"
   ]
  },
  {
   "cell_type": "code",
   "execution_count": 240,
   "id": "c82fab91",
   "metadata": {},
   "outputs": [
    {
     "name": "stdout",
     "output_type": "stream",
     "text": [
      "Finished 1 setup\n",
      "Time taken: 0.00\n",
      "Finished 1 setup\n",
      "Time taken: 0.00\n",
      "Finished 1 setup\n",
      "Time taken: 0.00\n",
      "Finished 1 setup\n",
      "Time taken: 0.00\n",
      "Finished 1 setup\n",
      "Time taken: 0.00\n",
      "Finished 1 setup\n",
      "Time taken: 0.00\n",
      "Finished 1 setup\n",
      "Time taken: 0.00\n",
      "Finished 1 setup\n",
      "Time taken: 0.00\n",
      "Finished 1 setup\n",
      "Time taken: 0.00\n",
      "Finished 1 setup\n",
      "Time taken: 0.00\n",
      "Finished 1 setup\n",
      "Time taken: 0.00\n",
      "Finished 1 setup\n",
      "Time taken: 0.00\n",
      "Finished 1 setup\n",
      "Time taken: 0.00\n",
      "Finished 1 setup\n",
      "Time taken: 0.00\n",
      "Finished 1 setup\n",
      "Time taken: 0.00\n"
     ]
    }
   ],
   "source": [
    "result_dict_response_rate = test_all_combinations_response_rate(1000)"
   ]
  },
  {
   "cell_type": "code",
   "execution_count": 241,
   "id": "5e30c9ea",
   "metadata": {},
   "outputs": [
    {
     "data": {
      "text/plain": [
       "{'7_15_15_3_preference_EU': 0.17669312505354304,\n",
       " '7_15_15_3_preference_FR': 0.04125158063633559,\n",
       " '7_15_15_3_preference_C': 9.299119999999998,\n",
       " '7_15_15_3_preference_T': 0.00014693188667297364,\n",
       " '7_15_15_3_demanding_EU': 0.19966939029111336,\n",
       " '7_15_15_3_demanding_FR': 0.04665192641135441,\n",
       " '7_15_15_3_demanding_C': 28.64479,\n",
       " '7_15_15_3_demanding_T': 0.00016199898719787597,\n",
       " '7_15_15_3_demanding+preference_EU': 0.19941411605532536,\n",
       " '7_15_15_3_demanding+preference_FR': 0.04672760512674261,\n",
       " '7_15_15_3_demanding+preference_C': 17.49536,\n",
       " '7_15_15_3_demanding+preference_T': 0.00018399381637573242,\n",
       " '7_15_15_6_preference_EU': 0.3587764829226401,\n",
       " '7_15_15_6_preference_FR': 0.08361489162176439,\n",
       " '7_15_15_6_preference_C': 18.875709999999998,\n",
       " '7_15_15_6_preference_T': 0.00013097023963928221,\n",
       " '7_15_15_6_demanding_EU': 0.3995298937670497,\n",
       " '7_15_15_6_demanding_FR': 0.09359122511470554,\n",
       " '7_15_15_6_demanding_C': 56.22798999999999,\n",
       " '7_15_15_6_demanding_T': 0.00018300795555114746,\n",
       " '7_15_15_6_demanding+preference_EU': 0.39975266788566965,\n",
       " '7_15_15_6_demanding+preference_FR': 0.0936081611617426,\n",
       " '7_15_15_6_demanding+preference_C': 35.847970000000004,\n",
       " '7_15_15_6_demanding+preference_T': 0.0002210228443145752,\n",
       " '7_15_15_9_preference_EU': 0.5194429942203638,\n",
       " '7_15_15_9_preference_FR': 0.12124963957616205,\n",
       " '7_15_15_9_preference_C': 27.73753,\n",
       " '7_15_15_9_preference_T': 0.00017200326919555663,\n",
       " '7_15_15_9_demanding_EU': 0.599841374714145,\n",
       " '7_15_15_9_demanding_FR': 0.14044453916556318,\n",
       " '7_15_15_9_demanding_C': 85.60633,\n",
       " '7_15_15_9_demanding_T': 0.0001949946880340576,\n",
       " '7_15_15_9_demanding+preference_EU': 0.598913863872584,\n",
       " '7_15_15_9_demanding+preference_FR': 0.1398428486416988,\n",
       " '7_15_15_9_demanding+preference_C': 54.148480000000006,\n",
       " '7_15_15_9_demanding+preference_T': 0.00022703075408935547,\n",
       " '7_15_15_12_preference_EU': 0.6721349889430057,\n",
       " '7_15_15_12_preference_FR': 0.15716450319639283,\n",
       " '7_15_15_12_preference_C': 36.23014014014014,\n",
       " '7_15_15_12_preference_T': 0.00017702269554138183,\n",
       " '7_15_15_12_demanding_EU': 0.8006184889958446,\n",
       " '7_15_15_12_demanding_FR': 0.18679453030581056,\n",
       " '7_15_15_12_demanding_C': 112.25741000000001,\n",
       " '7_15_15_12_demanding_T': 0.00018798661231994628,\n",
       " '7_15_15_12_demanding+preference_EU': 0.7973012471605148,\n",
       " '7_15_15_12_demanding+preference_FR': 0.18647078417065055,\n",
       " '7_15_15_12_demanding+preference_C': 72.93731,\n",
       " '7_15_15_12_demanding+preference_T': 0.00021399879455566407,\n",
       " '7_15_15_15_preference_EU': 0.8077160878436634,\n",
       " '7_15_15_15_preference_FR': 0.18827324910737317,\n",
       " '7_15_15_15_preference_C': 43.75954,\n",
       " '7_15_15_15_preference_T': 0.00015603113174438477,\n",
       " '7_15_15_15_demanding_EU': 1.0,\n",
       " '7_15_15_15_demanding_FR': 0.23384892452058603,\n",
       " '7_15_15_15_demanding_C': 141.52928000000003,\n",
       " '7_15_15_15_demanding_T': 0.00023100018501281738,\n",
       " '7_15_15_15_demanding+preference_EU': 0.993132308759255,\n",
       " '7_15_15_15_demanding+preference_FR': 0.23171988851810385,\n",
       " '7_15_15_15_demanding+preference_C': 90.95173000000001,\n",
       " '7_15_15_15_demanding+preference_T': 0.00023300075531005858}"
      ]
     },
     "execution_count": 241,
     "metadata": {},
     "output_type": "execute_result"
    }
   ],
   "source": [
    "result_dict_response_rate"
   ]
  }
 ],
 "metadata": {
  "kernelspec": {
   "display_name": "Python 3",
   "language": "python",
   "name": "python3"
  },
  "language_info": {
   "codemirror_mode": {
    "name": "ipython",
    "version": 3
   },
   "file_extension": ".py",
   "mimetype": "text/x-python",
   "name": "python",
   "nbconvert_exporter": "python",
   "pygments_lexer": "ipython3",
   "version": "3.8.8"
  }
 },
 "nbformat": 4,
 "nbformat_minor": 5
}
