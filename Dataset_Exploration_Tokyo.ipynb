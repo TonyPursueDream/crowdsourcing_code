{
 "cells": [
  {
   "cell_type": "markdown",
   "id": "736bb8c8",
   "metadata": {},
   "source": [
    "## Dataset Exploration Tokyo"
   ]
  },
  {
   "cell_type": "markdown",
   "id": "1cd7a48e",
   "metadata": {},
   "source": [
    "### Package Import"
   ]
  },
  {
   "cell_type": "code",
   "execution_count": 4,
   "id": "f3c4459e",
   "metadata": {},
   "outputs": [],
   "source": [
    "import pandas as pd\n",
    "import numpy as np"
   ]
  },
  {
   "cell_type": "code",
   "execution_count": 5,
   "id": "545e9117",
   "metadata": {},
   "outputs": [],
   "source": [
    "tokyo_df = pd.read_csv('.\\dataset_tsmc2014\\dataset_TSMC2014_TKY.txt', delimiter = \"\\t\", names=[\"user_id\", \"venue_id\", \"venue_category_id\", \"venue_category_name\", \"latitude\", \"longitude\", \"timezone_offset\", \"UTC_time\"])"
   ]
  },
  {
   "cell_type": "code",
   "execution_count": 6,
   "id": "f3a84ca2",
   "metadata": {},
   "outputs": [
    {
     "data": {
      "text/html": [
       "<div>\n",
       "<style scoped>\n",
       "    .dataframe tbody tr th:only-of-type {\n",
       "        vertical-align: middle;\n",
       "    }\n",
       "\n",
       "    .dataframe tbody tr th {\n",
       "        vertical-align: top;\n",
       "    }\n",
       "\n",
       "    .dataframe thead th {\n",
       "        text-align: right;\n",
       "    }\n",
       "</style>\n",
       "<table border=\"1\" class=\"dataframe\">\n",
       "  <thead>\n",
       "    <tr style=\"text-align: right;\">\n",
       "      <th></th>\n",
       "      <th>user_id</th>\n",
       "      <th>venue_id</th>\n",
       "      <th>venue_category_id</th>\n",
       "      <th>venue_category_name</th>\n",
       "      <th>latitude</th>\n",
       "      <th>longitude</th>\n",
       "      <th>timezone_offset</th>\n",
       "      <th>UTC_time</th>\n",
       "    </tr>\n",
       "  </thead>\n",
       "  <tbody>\n",
       "    <tr>\n",
       "      <th>0</th>\n",
       "      <td>1541</td>\n",
       "      <td>4f0fd5a8e4b03856eeb6c8cb</td>\n",
       "      <td>4bf58dd8d48988d10c951735</td>\n",
       "      <td>Cosmetics Shop</td>\n",
       "      <td>35.705101</td>\n",
       "      <td>139.619590</td>\n",
       "      <td>540</td>\n",
       "      <td>Tue Apr 03 18:17:18 +0000 2012</td>\n",
       "    </tr>\n",
       "    <tr>\n",
       "      <th>1</th>\n",
       "      <td>868</td>\n",
       "      <td>4b7b884ff964a5207d662fe3</td>\n",
       "      <td>4bf58dd8d48988d1d1941735</td>\n",
       "      <td>Ramen /  Noodle House</td>\n",
       "      <td>35.715581</td>\n",
       "      <td>139.800317</td>\n",
       "      <td>540</td>\n",
       "      <td>Tue Apr 03 18:22:04 +0000 2012</td>\n",
       "    </tr>\n",
       "    <tr>\n",
       "      <th>2</th>\n",
       "      <td>114</td>\n",
       "      <td>4c16fdda96040f477cc473a5</td>\n",
       "      <td>4d954b0ea243a5684a65b473</td>\n",
       "      <td>Convenience Store</td>\n",
       "      <td>35.714542</td>\n",
       "      <td>139.480065</td>\n",
       "      <td>540</td>\n",
       "      <td>Tue Apr 03 19:12:07 +0000 2012</td>\n",
       "    </tr>\n",
       "    <tr>\n",
       "      <th>3</th>\n",
       "      <td>868</td>\n",
       "      <td>4c178638c2dfc928651ea869</td>\n",
       "      <td>4bf58dd8d48988d118951735</td>\n",
       "      <td>Food &amp; Drink Shop</td>\n",
       "      <td>35.725592</td>\n",
       "      <td>139.776633</td>\n",
       "      <td>540</td>\n",
       "      <td>Tue Apr 03 19:12:13 +0000 2012</td>\n",
       "    </tr>\n",
       "    <tr>\n",
       "      <th>4</th>\n",
       "      <td>1458</td>\n",
       "      <td>4f568309e4b071452e447afe</td>\n",
       "      <td>4f2a210c4b9023bd5841ed28</td>\n",
       "      <td>Housing Development</td>\n",
       "      <td>35.656083</td>\n",
       "      <td>139.734045</td>\n",
       "      <td>540</td>\n",
       "      <td>Tue Apr 03 19:18:23 +0000 2012</td>\n",
       "    </tr>\n",
       "  </tbody>\n",
       "</table>\n",
       "</div>"
      ],
      "text/plain": [
       "   user_id                  venue_id         venue_category_id  \\\n",
       "0     1541  4f0fd5a8e4b03856eeb6c8cb  4bf58dd8d48988d10c951735   \n",
       "1      868  4b7b884ff964a5207d662fe3  4bf58dd8d48988d1d1941735   \n",
       "2      114  4c16fdda96040f477cc473a5  4d954b0ea243a5684a65b473   \n",
       "3      868  4c178638c2dfc928651ea869  4bf58dd8d48988d118951735   \n",
       "4     1458  4f568309e4b071452e447afe  4f2a210c4b9023bd5841ed28   \n",
       "\n",
       "     venue_category_name   latitude   longitude  timezone_offset  \\\n",
       "0         Cosmetics Shop  35.705101  139.619590              540   \n",
       "1  Ramen /  Noodle House  35.715581  139.800317              540   \n",
       "2      Convenience Store  35.714542  139.480065              540   \n",
       "3      Food & Drink Shop  35.725592  139.776633              540   \n",
       "4    Housing Development  35.656083  139.734045              540   \n",
       "\n",
       "                         UTC_time  \n",
       "0  Tue Apr 03 18:17:18 +0000 2012  \n",
       "1  Tue Apr 03 18:22:04 +0000 2012  \n",
       "2  Tue Apr 03 19:12:07 +0000 2012  \n",
       "3  Tue Apr 03 19:12:13 +0000 2012  \n",
       "4  Tue Apr 03 19:18:23 +0000 2012  "
      ]
     },
     "execution_count": 6,
     "metadata": {},
     "output_type": "execute_result"
    }
   ],
   "source": [
    "tokyo_df.head()"
   ]
  },
  {
   "cell_type": "code",
   "execution_count": 7,
   "id": "deb6eb50",
   "metadata": {},
   "outputs": [],
   "source": [
    "tokyo_df_filtered = tokyo_df[[\"user_id\", \"venue_id\", \"venue_category_name\", \"latitude\", \"longitude\", \"UTC_time\"]]"
   ]
  },
  {
   "cell_type": "code",
   "execution_count": 8,
   "id": "29a50948",
   "metadata": {},
   "outputs": [
    {
     "data": {
      "text/html": [
       "<div>\n",
       "<style scoped>\n",
       "    .dataframe tbody tr th:only-of-type {\n",
       "        vertical-align: middle;\n",
       "    }\n",
       "\n",
       "    .dataframe tbody tr th {\n",
       "        vertical-align: top;\n",
       "    }\n",
       "\n",
       "    .dataframe thead th {\n",
       "        text-align: right;\n",
       "    }\n",
       "</style>\n",
       "<table border=\"1\" class=\"dataframe\">\n",
       "  <thead>\n",
       "    <tr style=\"text-align: right;\">\n",
       "      <th></th>\n",
       "      <th>user_id</th>\n",
       "      <th>venue_id</th>\n",
       "      <th>venue_category_name</th>\n",
       "      <th>latitude</th>\n",
       "      <th>longitude</th>\n",
       "      <th>UTC_time</th>\n",
       "    </tr>\n",
       "  </thead>\n",
       "  <tbody>\n",
       "    <tr>\n",
       "      <th>0</th>\n",
       "      <td>1541</td>\n",
       "      <td>4f0fd5a8e4b03856eeb6c8cb</td>\n",
       "      <td>Cosmetics Shop</td>\n",
       "      <td>35.705101</td>\n",
       "      <td>139.619590</td>\n",
       "      <td>Tue Apr 03 18:17:18 +0000 2012</td>\n",
       "    </tr>\n",
       "    <tr>\n",
       "      <th>1</th>\n",
       "      <td>868</td>\n",
       "      <td>4b7b884ff964a5207d662fe3</td>\n",
       "      <td>Ramen /  Noodle House</td>\n",
       "      <td>35.715581</td>\n",
       "      <td>139.800317</td>\n",
       "      <td>Tue Apr 03 18:22:04 +0000 2012</td>\n",
       "    </tr>\n",
       "    <tr>\n",
       "      <th>2</th>\n",
       "      <td>114</td>\n",
       "      <td>4c16fdda96040f477cc473a5</td>\n",
       "      <td>Convenience Store</td>\n",
       "      <td>35.714542</td>\n",
       "      <td>139.480065</td>\n",
       "      <td>Tue Apr 03 19:12:07 +0000 2012</td>\n",
       "    </tr>\n",
       "    <tr>\n",
       "      <th>3</th>\n",
       "      <td>868</td>\n",
       "      <td>4c178638c2dfc928651ea869</td>\n",
       "      <td>Food &amp; Drink Shop</td>\n",
       "      <td>35.725592</td>\n",
       "      <td>139.776633</td>\n",
       "      <td>Tue Apr 03 19:12:13 +0000 2012</td>\n",
       "    </tr>\n",
       "    <tr>\n",
       "      <th>4</th>\n",
       "      <td>1458</td>\n",
       "      <td>4f568309e4b071452e447afe</td>\n",
       "      <td>Housing Development</td>\n",
       "      <td>35.656083</td>\n",
       "      <td>139.734045</td>\n",
       "      <td>Tue Apr 03 19:18:23 +0000 2012</td>\n",
       "    </tr>\n",
       "  </tbody>\n",
       "</table>\n",
       "</div>"
      ],
      "text/plain": [
       "   user_id                  venue_id    venue_category_name   latitude  \\\n",
       "0     1541  4f0fd5a8e4b03856eeb6c8cb         Cosmetics Shop  35.705101   \n",
       "1      868  4b7b884ff964a5207d662fe3  Ramen /  Noodle House  35.715581   \n",
       "2      114  4c16fdda96040f477cc473a5      Convenience Store  35.714542   \n",
       "3      868  4c178638c2dfc928651ea869      Food & Drink Shop  35.725592   \n",
       "4     1458  4f568309e4b071452e447afe    Housing Development  35.656083   \n",
       "\n",
       "    longitude                        UTC_time  \n",
       "0  139.619590  Tue Apr 03 18:17:18 +0000 2012  \n",
       "1  139.800317  Tue Apr 03 18:22:04 +0000 2012  \n",
       "2  139.480065  Tue Apr 03 19:12:07 +0000 2012  \n",
       "3  139.776633  Tue Apr 03 19:12:13 +0000 2012  \n",
       "4  139.734045  Tue Apr 03 19:18:23 +0000 2012  "
      ]
     },
     "execution_count": 8,
     "metadata": {},
     "output_type": "execute_result"
    }
   ],
   "source": [
    "tokyo_df_filtered.head()"
   ]
  },
  {
   "cell_type": "markdown",
   "id": "e9df253d",
   "metadata": {},
   "source": [
    "### Explore the dataset"
   ]
  },
  {
   "cell_type": "code",
   "execution_count": 9,
   "id": "02deec3b",
   "metadata": {},
   "outputs": [],
   "source": [
    "counted_frame = tokyo_df_filtered.groupby(['user_id']).size().reset_index(name='counts')"
   ]
  },
  {
   "cell_type": "code",
   "execution_count": 10,
   "id": "819e8e90",
   "metadata": {},
   "outputs": [
    {
     "data": {
      "text/html": [
       "<div>\n",
       "<style scoped>\n",
       "    .dataframe tbody tr th:only-of-type {\n",
       "        vertical-align: middle;\n",
       "    }\n",
       "\n",
       "    .dataframe tbody tr th {\n",
       "        vertical-align: top;\n",
       "    }\n",
       "\n",
       "    .dataframe thead th {\n",
       "        text-align: right;\n",
       "    }\n",
       "</style>\n",
       "<table border=\"1\" class=\"dataframe\">\n",
       "  <thead>\n",
       "    <tr style=\"text-align: right;\">\n",
       "      <th></th>\n",
       "      <th>user_id</th>\n",
       "      <th>counts</th>\n",
       "    </tr>\n",
       "  </thead>\n",
       "  <tbody>\n",
       "    <tr>\n",
       "      <th>0</th>\n",
       "      <td>1</td>\n",
       "      <td>111</td>\n",
       "    </tr>\n",
       "    <tr>\n",
       "      <th>1</th>\n",
       "      <td>2</td>\n",
       "      <td>206</td>\n",
       "    </tr>\n",
       "    <tr>\n",
       "      <th>2</th>\n",
       "      <td>3</td>\n",
       "      <td>261</td>\n",
       "    </tr>\n",
       "    <tr>\n",
       "      <th>3</th>\n",
       "      <td>4</td>\n",
       "      <td>200</td>\n",
       "    </tr>\n",
       "    <tr>\n",
       "      <th>4</th>\n",
       "      <td>5</td>\n",
       "      <td>235</td>\n",
       "    </tr>\n",
       "  </tbody>\n",
       "</table>\n",
       "</div>"
      ],
      "text/plain": [
       "   user_id  counts\n",
       "0        1     111\n",
       "1        2     206\n",
       "2        3     261\n",
       "3        4     200\n",
       "4        5     235"
      ]
     },
     "execution_count": 10,
     "metadata": {},
     "output_type": "execute_result"
    }
   ],
   "source": [
    "counted_frame.head()"
   ]
  },
  {
   "cell_type": "markdown",
   "id": "ce11b1bb",
   "metadata": {},
   "source": [
    "Below shows the statistics of the count variable"
   ]
  },
  {
   "cell_type": "code",
   "execution_count": 11,
   "id": "387ec043",
   "metadata": {},
   "outputs": [
    {
     "data": {
      "text/plain": [
       "count    2293.000000\n",
       "mean      250.197558\n",
       "std       221.570455\n",
       "min       100.000000\n",
       "25%       126.000000\n",
       "50%       173.000000\n",
       "75%       273.000000\n",
       "max      2991.000000\n",
       "Name: counts, dtype: float64"
      ]
     },
     "execution_count": 11,
     "metadata": {},
     "output_type": "execute_result"
    }
   ],
   "source": [
    "counted_frame['counts'].describe()"
   ]
  },
  {
   "cell_type": "code",
   "execution_count": 12,
   "id": "ce086a4d",
   "metadata": {},
   "outputs": [],
   "source": [
    "def general_frequent_visited_categories(df):\n",
    "    ret_df = df.groupby(['venue_category_name']).size().reset_index(name='counts')\n",
    "    ret_df = ret_df.sort_values(by=['counts'])\n",
    "    return ret_df"
   ]
  },
  {
   "cell_type": "code",
   "execution_count": 14,
   "id": "b79c024c",
   "metadata": {},
   "outputs": [
    {
     "name": "stdout",
     "output_type": "stream",
     "text": [
      "                 venue_category_name  counts\n",
      "0                  Afghan Restaurant       1\n",
      "211  Southern / Soul Food Restaurant       1\n",
      "110           Gluten-free Restaurant       1\n",
      "8                   Arepa Restaurant       1\n",
      "205                         Ski Area       1\n",
      "..                               ...     ...\n",
      "127              Japanese Restaurant   15680\n",
      "62                 Convenience Store   16833\n",
      "185            Ramen /  Noodle House   17303\n",
      "220                           Subway   41666\n",
      "235                    Train Station  200428\n",
      "\n",
      "[247 rows x 2 columns]\n"
     ]
    }
   ],
   "source": [
    "g = general_frequent_visited_categories(tokyo_df_filtered)\n",
    "pd.set_option('display.max_rows', g.shape[0]+1)\n",
    "print(g)"
   ]
  }
 ],
 "metadata": {
  "kernelspec": {
   "display_name": "Python 3",
   "language": "python",
   "name": "python3"
  },
  "language_info": {
   "codemirror_mode": {
    "name": "ipython",
    "version": 3
   },
   "file_extension": ".py",
   "mimetype": "text/x-python",
   "name": "python",
   "nbconvert_exporter": "python",
   "pygments_lexer": "ipython3",
   "version": "3.8.8"
  }
 },
 "nbformat": 4,
 "nbformat_minor": 5
}
